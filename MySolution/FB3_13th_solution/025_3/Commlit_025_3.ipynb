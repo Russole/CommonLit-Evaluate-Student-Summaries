{
 "cells": [
  {
   "cell_type": "code",
   "execution_count": 1,
   "metadata": {},
   "outputs": [],
   "source": [
    "# ====================================================\n",
    "# Directory settings\n",
    "# ====================================================\n",
    "import os\n",
    "\n",
    "OUTPUT_DIR = './Comonlist_025_3'\n",
    "if not os.path.exists(OUTPUT_DIR):\n",
    "    os.makedirs(OUTPUT_DIR)"
   ]
  },
  {
   "cell_type": "code",
   "execution_count": 2,
   "metadata": {},
   "outputs": [
    {
     "name": "stdout",
     "output_type": "stream",
     "text": [
      "tokenizers.__version__: 0.11.6\n",
      "transformers.__version__: 4.29.2\n",
      "env: TOKENIZERS_PARALLELISM=true\n"
     ]
    }
   ],
   "source": [
    "# ====================================================\n",
    "# Library\n",
    "# ====================================================\n",
    "import os\n",
    "import gc\n",
    "import re\n",
    "import ast\n",
    "import sys\n",
    "import copy\n",
    "import json\n",
    "import time\n",
    "import math\n",
    "import string\n",
    "import pickle\n",
    "import random\n",
    "import joblib\n",
    "import itertools\n",
    "import warnings\n",
    "warnings.filterwarnings(\"ignore\")\n",
    "\n",
    "import scipy as sp\n",
    "import numpy as np\n",
    "import pandas as pd\n",
    "pd.set_option('display.max_rows', 500)\n",
    "pd.set_option('display.max_columns', 500)\n",
    "pd.set_option('display.width', 1000)\n",
    "from tqdm.auto import tqdm\n",
    "from sklearn.metrics import mean_squared_error\n",
    "from sklearn.model_selection import StratifiedKFold, GroupKFold, KFold\n",
    "\n",
    "# os.system('pip install iterative-stratification==0.1.7')\n",
    "# from iterstrat.ml_stratifiers import MultilabelStratifiedKFold\n",
    "\n",
    "import torch\n",
    "import torch.nn as nn\n",
    "from torch.nn import Parameter\n",
    "import torch.nn.functional as F\n",
    "from torch.optim import Adam, SGD, AdamW\n",
    "from torch.utils.data import DataLoader, Dataset\n",
    "\n",
    "os.system('pip install -q transformers')\n",
    "os.system('pip install -q tokenizers')\n",
    "import tokenizers\n",
    "import transformers\n",
    "print(f\"tokenizers.__version__: {tokenizers.__version__}\")\n",
    "print(f\"transformers.__version__: {transformers.__version__}\")\n",
    "from transformers import AutoTokenizer, AutoModel, AutoConfig\n",
    "from transformers import get_linear_schedule_with_warmup, get_cosine_schedule_with_warmup\n",
    "%env TOKENIZERS_PARALLELISM=true\n",
    "\n",
    "device = torch.device('cuda' if torch.cuda.is_available() else 'cpu')"
   ]
  },
  {
   "cell_type": "code",
   "execution_count": 3,
   "metadata": {},
   "outputs": [],
   "source": [
    "from torch.cuda.amp import autocast, GradScaler\n",
    "from sklearn import metrics\n",
    "from src.machine_learning_util import set_seed, set_device, init_logger, AverageMeter, to_pickle, unpickle, asMinutes, timeSince"
   ]
  },
  {
   "cell_type": "code",
   "execution_count": 4,
   "metadata": {},
   "outputs": [
    {
     "name": "stderr",
     "output_type": "stream",
     "text": [
      "Special tokens have been added in the vocabulary, make sure the associated word embeddings are fine-tuned or trained.\n",
      "Special tokens have been added in the vocabulary, make sure the associated word embeddings are fine-tuned or trained.\n"
     ]
    }
   ],
   "source": [
    "class CFG:\n",
    "    EXP_ID = '024'\n",
    "    apex = True\n",
    "    model ='microsoft/deberta-v3-large' # 'microsoft/deberta-large' # 'microsoft/deberta-v3-base' #'microsoft/deberta-v3-large' \n",
    "    seed = 2022 # 42 # 71\n",
    "    n_splits = 4\n",
    "    max_len = 512 # 1429 # 1024 # 512\n",
    "    dropout = 0\n",
    "    targets = ['content', 'wording']\n",
    "    target_size = len(targets)\n",
    "    n_accumulate=1\n",
    "    print_freq = 100\n",
    "    eval_freq = 780 * 2 # 390 # 170\n",
    "    min_lr=1e-6\n",
    "    scheduler = 'cosine'\n",
    "    batch_size = 1 # 2 # 4\n",
    "    num_workers = 0 #3\n",
    "    lr = 5e-6 # 3e-6\n",
    "    weigth_decay = 0.01\n",
    "    epochs = 4\n",
    "    n_fold = 4\n",
    "    trn_fold = [i for i in range(n_fold)]\n",
    "    train = True\n",
    "    num_warmup_steps = 0\n",
    "    num_cycles=0.5\n",
    "    debug = False\n",
    "    freezing = True\n",
    "    gradient_checkpoint = True\n",
    "    reinit_layers = 4 # 3\n",
    "    tokenizer = AutoTokenizer.from_pretrained(model)"
   ]
  },
  {
   "cell_type": "code",
   "execution_count": 5,
   "metadata": {},
   "outputs": [],
   "source": [
    "# ====================================================\n",
    "# Utils\n",
    "# ====================================================\n",
    "def MCRMSE(y_trues, y_preds):\n",
    "    scores = []\n",
    "    idxes = y_trues.shape[1]\n",
    "    for i in range(idxes):\n",
    "        y_true = y_trues[:,i]\n",
    "        y_pred = y_preds[:,i]\n",
    "        score = mean_squared_error(y_true, y_pred, squared=False) # RMSE\n",
    "        scores.append(score)\n",
    "    mcrmse_score = np.mean(scores)\n",
    "    return mcrmse_score, scores\n",
    "\n",
    "\n",
    "def get_score(y_trues, y_preds):\n",
    "    mcrmse_score, scores = MCRMSE(y_trues, y_preds)\n",
    "    return mcrmse_score, scores\n",
    "\n",
    "\n",
    "def get_logger(filename=OUTPUT_DIR+'_train'):\n",
    "    from logging import getLogger, INFO, StreamHandler, FileHandler, Formatter\n",
    "    logger = getLogger(__name__)\n",
    "    logger.setLevel(INFO)\n",
    "    handler1 = StreamHandler()\n",
    "    handler1.setFormatter(Formatter(\"%(message)s\"))\n",
    "    handler2 = FileHandler(filename=f\"{filename}.log\")\n",
    "    handler2.setFormatter(Formatter(\"%(message)s\"))\n",
    "    logger.addHandler(handler1)\n",
    "    logger.addHandler(handler2)\n",
    "    return logger\n",
    "\n",
    "LOGGER = get_logger()\n",
    "\n",
    "\n",
    "def seed_everything(seed=42):\n",
    "    random.seed(seed)\n",
    "    os.environ['PYTHONHASHSEED'] = str(seed)\n",
    "    np.random.seed(seed)\n",
    "    torch.manual_seed(seed)\n",
    "    torch.cuda.manual_seed(seed)\n",
    "    torch.backends.cudnn.deterministic = True\n",
    "    \n",
    "seed_everything(CFG.seed)\n",
    "# seed_everything(seed=60)"
   ]
  },
  {
   "cell_type": "markdown",
   "metadata": {},
   "source": [
    "# Data Loading"
   ]
  },
  {
   "cell_type": "code",
   "execution_count": 6,
   "metadata": {},
   "outputs": [
    {
     "name": "stdout",
     "output_type": "stream",
     "text": [
      "prompts_train.shape: (4, 4)\n",
      "prompts_test.shape: (2, 4)\n",
      "summaries_train.shape: (7165, 5)\n",
      "summaries_test.shape: (4, 3)\n",
      "submission.shape: (4, 3)\n"
     ]
    }
   ],
   "source": [
    "# ====================================================\n",
    "# Data Loading\n",
    "# ====================================================\n",
    "path = \"C:/Users/Lab000/Desktop/kaggle/kaggle_competetion/CommonLit - Evaluate Student Summaries/input/commonlit-evaluate-student-summaries/\"\n",
    "prompts_train = pd.read_csv(path+'prompts_train.csv')\n",
    "prompts_test = pd.read_csv(path+'prompts_test.csv')\n",
    "\n",
    "summaries_train = pd.read_csv(path+'summaries_train.csv')\n",
    "summaries_test = pd.read_csv(path+'summaries_test.csv')\n",
    "\n",
    "submission = pd.read_csv(path+'sample_submission.csv')\n",
    "\n",
    "print(f\"prompts_train.shape: {prompts_train.shape}\")\n",
    "#display(prompts_train.head())\n",
    "print(f\"prompts_test.shape: {prompts_test.shape}\")\n",
    "#display(prompts_test.head())\n",
    "\n",
    "print(f\"summaries_train.shape: {summaries_train.shape}\")\n",
    "#display(summaries_train.head())\n",
    "print(f\"summaries_test.shape: {summaries_test.shape}\")\n",
    "#display(summaries_test.head())\n",
    "print(f\"submission.shape: {submission.shape}\")\n",
    "#display(submission.head())"
   ]
  },
  {
   "cell_type": "markdown",
   "metadata": {},
   "source": [
    "# Merge Prompts Data "
   ]
  },
  {
   "cell_type": "code",
   "execution_count": 7,
   "metadata": {},
   "outputs": [],
   "source": [
    "train = summaries_train.merge(prompts_train, how=\"left\", on=\"prompt_id\")\n",
    "test = summaries_test.merge(prompts_test, how=\"left\", on=\"prompt_id\")"
   ]
  },
  {
   "cell_type": "markdown",
   "metadata": {},
   "source": [
    "# CV split(GroupKFold)"
   ]
  },
  {
   "cell_type": "code",
   "execution_count": 8,
   "metadata": {},
   "outputs": [
    {
     "data": {
      "text/plain": [
       "fold\n",
       "0    2057\n",
       "1    2009\n",
       "2    1996\n",
       "3    1103\n",
       "dtype: int64"
      ]
     },
     "metadata": {},
     "output_type": "display_data"
    }
   ],
   "source": [
    "# ====================================================\n",
    "# CV split\n",
    "# ====================================================\n",
    "Fold = GroupKFold(n_splits=CFG.n_fold)\n",
    "for n, (train_index, val_index) in enumerate(Fold.split(train, groups=train[\"prompt_id\"])):\n",
    "    train.loc[val_index, 'fold'] = int(n)\n",
    "train['fold'] = train['fold'].astype(int)\n",
    "display(train.groupby('fold').size())"
   ]
  },
  {
   "cell_type": "code",
   "execution_count": 9,
   "metadata": {},
   "outputs": [
    {
     "data": {
      "text/plain": [
       "('./Comonlist_025_3/tokenizer/tokenizer_config.json',\n",
       " './Comonlist_025_3/tokenizer/special_tokens_map.json',\n",
       " './Comonlist_025_3/tokenizer/spm.model',\n",
       " './Comonlist_025_3/tokenizer/added_tokens.json',\n",
       " './Comonlist_025_3/tokenizer/tokenizer.json')"
      ]
     },
     "execution_count": 9,
     "metadata": {},
     "output_type": "execute_result"
    }
   ],
   "source": [
    "CFG.tokenizer.save_pretrained(OUTPUT_DIR+'/tokenizer/')"
   ]
  },
  {
   "cell_type": "markdown",
   "metadata": {},
   "source": [
    "# Text max Length"
   ]
  },
  {
   "cell_type": "code",
   "execution_count": 10,
   "metadata": {},
   "outputs": [
    {
     "data": {
      "application/vnd.jupyter.widget-view+json": {
       "model_id": "8826e4b94f944befb6770d3ce2897bda",
       "version_major": 2,
       "version_minor": 0
      },
      "text/plain": [
       "  0%|          | 0/7165 [00:00<?, ?it/s]"
      ]
     },
     "metadata": {},
     "output_type": "display_data"
    },
    {
     "name": "stderr",
     "output_type": "stream",
     "text": [
      "text column max_len: 822\n"
     ]
    }
   ],
   "source": [
    "# ====================================================\n",
    "# Define max_len\n",
    "# ====================================================\n",
    "lengths = []\n",
    "tk0 = tqdm(train['text'].fillna(\"\").values, total=len(train))\n",
    "for text in tk0:\n",
    "    length = len(CFG.tokenizer(text, add_special_tokens=False)['input_ids'])\n",
    "    lengths.append(length)\n",
    "CFG.max_len = max(lengths) + 2 # cls & sep\n",
    "LOGGER.info(f\"text column max_len: {CFG.max_len}\")"
   ]
  },
  {
   "cell_type": "code",
   "execution_count": 11,
   "metadata": {},
   "outputs": [],
   "source": [
    "input_col = \"input\"\n",
    "sep = CFG.tokenizer.sep_token\n",
    "train[input_col] = (\n",
    "                    train[\"prompt_title\"] + sep \n",
    "#                    + train_df[\"prompt_text\"] + sep \n",
    "                    + train[\"prompt_question\"] + sep \n",
    "                    + train[\"text\"]\n",
    "                  )"
   ]
  },
  {
   "cell_type": "markdown",
   "metadata": {},
   "source": [
    "# input max Length"
   ]
  },
  {
   "cell_type": "code",
   "execution_count": 12,
   "metadata": {},
   "outputs": [
    {
     "data": {
      "application/vnd.jupyter.widget-view+json": {
       "model_id": "611cc9c9b35248b79c036a7f313c9cdf",
       "version_major": 2,
       "version_minor": 0
      },
      "text/plain": [
       "  0%|          | 0/7165 [00:00<?, ?it/s]"
      ]
     },
     "metadata": {},
     "output_type": "display_data"
    },
    {
     "name": "stderr",
     "output_type": "stream",
     "text": [
      "input column max_len: 858\n"
     ]
    }
   ],
   "source": [
    "# ====================================================\n",
    "# Define max_len\n",
    "# ====================================================\n",
    "lengths = []\n",
    "tk0 = tqdm(train['input'].fillna(\"\").values, total=len(train))\n",
    "for text in tk0:\n",
    "    length = len(CFG.tokenizer(text, add_special_tokens=False)['input_ids'])\n",
    "    lengths.append(length)\n",
    "CFG.max_len = max(lengths) + 2 # cls & sep\n",
    "LOGGER.info(f\"input column max_len: {CFG.max_len}\")"
   ]
  },
  {
   "cell_type": "code",
   "execution_count": 13,
   "metadata": {},
   "outputs": [],
   "source": [
    "class FeedBackDataset(Dataset):\n",
    "    def __init__(self, df, tokenizer, max_length):\n",
    "        self.df = df\n",
    "        self.max_len = CFG.max_len\n",
    "        self.text = df['input'].values\n",
    "        self.tokenizer = CFG.tokenizer\n",
    "        self.targets = df[CFG.targets].values\n",
    "\n",
    "    def __len__(self):\n",
    "        return len(self.df)\n",
    "\n",
    "    # staticmethod に書き換えたい\n",
    "    def cut_head_and_tail(self, text):\n",
    "        input_ids = self.tokenizer.encode(text)\n",
    "        n_token = len(input_ids)\n",
    "\n",
    "        if n_token == self.max_len:\n",
    "            input_ids = input_ids\n",
    "            attention_mask = [1 for _ in range(self.max_len)]\n",
    "            token_type_ids = [1 for _ in range(self.max_len)]\n",
    "        elif n_token < self.max_len:\n",
    "            pad = [1 for _ in range(self.max_len-n_token)]\n",
    "            input_ids = input_ids + pad\n",
    "            attention_mask = [1 if n_token > i else 0 for i in range(self.max_len)]\n",
    "            token_type_ids = [1 if n_token > i else 0 for i in range(self.max_len)]\n",
    "        else:\n",
    "            harf_len = (self.max_len-2)//2#256\n",
    "            \n",
    "            _input_ids = input_ids[1:-1]\n",
    "            input_ids = [0]+ _input_ids[:harf_len] + _input_ids[-harf_len:] + [2]#取前256個跟後256個\n",
    "            attention_mask = [1 for _ in range(self.max_len)]\n",
    "            token_type_ids = [1 for _ in range(self.max_len)]\n",
    "\n",
    "            if len(input_ids) < self.max_len:\n",
    "                diff = self.max_len - len(input_ids)\n",
    "                input_ids = [0]+ _input_ids[:harf_len] + _input_ids[-(harf_len+diff):] + [2]\n",
    "\n",
    "        d = {\n",
    "            \"input_ids\": input_ids,\n",
    "            \"attention_mask\": attention_mask,\n",
    "            \"token_type_ids\": token_type_ids,\n",
    "        }\n",
    "        return d\n",
    "\n",
    "    def __getitem__(self, index):\n",
    "        text = self.text[index]\n",
    "        inputs = self.cut_head_and_tail(text)\n",
    "        return {\n",
    "            'input_ids':inputs['input_ids'],\n",
    "            'attention_mask':inputs['attention_mask'],\n",
    "            'target':self.targets[index]\n",
    "            }"
   ]
  },
  {
   "cell_type": "code",
   "execution_count": 14,
   "metadata": {},
   "outputs": [],
   "source": [
    "class Collate:\n",
    "    def __init__(self, tokenizer, isTrain=True):\n",
    "        self.tokenizer = tokenizer\n",
    "        self.isTrain = isTrain\n",
    "\n",
    "    def __call__(self, batch):\n",
    "        \n",
    "        output = dict()\n",
    "        output[\"input_ids\"] = [sample[\"input_ids\"] for sample in batch]\n",
    "        output[\"attention_mask\"] = [sample[\"attention_mask\"] for sample in batch]\n",
    "        if self.isTrain:\n",
    "            output[\"target\"] = [sample[\"target\"] for sample in batch]\n",
    "\n",
    "        # calculate max token length of this batch\n",
    "        batch_max = max([len(ids) for ids in output[\"input_ids\"]])\n",
    "        \n",
    "        # add padding\n",
    "        if self.tokenizer.padding_side == \"right\":#沒意義\n",
    "            output[\"input_ids\"] = [s + (batch_max - len(s)) * [self.tokenizer.pad_token_id] for s in output[\"input_ids\"]]\n",
    "            output[\"attention_mask\"] = [s + (batch_max - len(s)) * [0] for s in output[\"attention_mask\"]]\n",
    "        else:\n",
    "            output[\"input_ids\"] = [(batch_max - len(s)) * [self.tokenizer.pad_token_id] + s for s in output[\"input_ids\"]]\n",
    "            output[\"attention_mask\"] = [(batch_max - len(s)) * [0] + s for s in output[\"attention_mask\"]]\n",
    "\n",
    "        # convert to tensors\n",
    "        output[\"input_ids\"] = torch.tensor(output[\"input_ids\"], dtype=torch.long)\n",
    "        output[\"attention_mask\"] = torch.tensor(output[\"attention_mask\"], dtype=torch.long)\n",
    "        if self.isTrain:\n",
    "            output[\"target\"] = torch.tensor(output[\"target\"], dtype=torch.float)\n",
    "\n",
    "        \n",
    "        return output"
   ]
  },
  {
   "cell_type": "code",
   "execution_count": 15,
   "metadata": {},
   "outputs": [],
   "source": [
    "collate_fn = Collate(CFG.tokenizer, isTrain=True)"
   ]
  },
  {
   "cell_type": "code",
   "execution_count": 16,
   "metadata": {},
   "outputs": [],
   "source": [
    "def freeze(module):\n",
    "    \"\"\"\n",
    "    Freezes module's parameters.\n",
    "    \"\"\"\n",
    "\n",
    "    for parameter in module.parameters():\n",
    "        parameter.requires_grad = False\n",
    "\n",
    "def get_scheduler(cfg, optimizer, num_train_steps):\n",
    "    if cfg.scheduler == 'linear':\n",
    "        scheduler = get_linear_schedule_with_warmup(\n",
    "            optimizer, num_warmup_steps=cfg.num_warmup_steps, num_training_steps=num_train_steps\n",
    "        )\n",
    "    elif cfg.scheduler == 'cosine':\n",
    "        scheduler = get_cosine_schedule_with_warmup(\n",
    "            optimizer, num_warmup_steps=cfg.num_warmup_steps, num_training_steps=num_train_steps, num_cycles=cfg.num_cycles\n",
    "        )\n",
    "    return scheduler\n"
   ]
  },
  {
   "cell_type": "code",
   "execution_count": 17,
   "metadata": {},
   "outputs": [],
   "source": [
    "class FeedBackModel(nn.Module):\n",
    "    def __init__(self, model_name):\n",
    "        super(FeedBackModel, self).__init__()\n",
    "\n",
    "        self.cfg = CFG\n",
    "        self.config = AutoConfig.from_pretrained(model_name)\n",
    "        self.config.hidden_dropout_prob = 0\n",
    "        self.config.attention_probs_dropout_prob = 0\n",
    "\n",
    "        self.model = AutoModel.from_pretrained(model_name, config=self.config)\n",
    "\n",
    "        self.output = nn.Sequential(\n",
    "            nn.LayerNorm(self.config.hidden_size),\n",
    "            nn.Linear(self.config.hidden_size, self.cfg.target_size)\n",
    "        )\n",
    "\n",
    "        \n",
    "        # Freeze\n",
    "        if self.cfg.freezing:\n",
    "            freeze(self.model.embeddings)\n",
    "            freeze(self.model.encoder.layer[:2])\n",
    "\n",
    "        # Gradient Checkpointing\n",
    "        #if self.cfg.gradient_checkpoint:\n",
    "        #    self.model.gradient_checkpointing_enable() \n",
    "\n",
    "        #if self.cfg.reinit_layers > 0:\n",
    "        #    layers = self.model.encoder.layer[-self.cfg.reinit_layers:]\n",
    "        #    for layer in layers:\n",
    "        #        for module in layer.modules():\n",
    "        #            self._init_weights(module)\n",
    "\n",
    "    def _init_weights(self, module):\n",
    "        if isinstance(module, nn.Linear):\n",
    "            module.weight.data.normal_(mean=0.0, std=self.config.initializer_range)\n",
    "            if module.bias is not None:\n",
    "                module.bias.data.zero_()\n",
    "        elif isinstance(module, nn.Embedding):\n",
    "            module.weight.data.normal_(mean=0.0, std=self.config.initializer_range)\n",
    "            if module.padding_idx is not None:\n",
    "                module.weight.data[module.padding_idx].zero_()\n",
    "        elif isinstance(module, nn.LayerNorm):\n",
    "            module.bias.data.zero_()\n",
    "            module.weight.data.fill_(1.0)\n",
    "\n",
    "    def forward(self, ids, mask, token_type_ids=None, targets=None):\n",
    "        if token_type_ids:\n",
    "            transformer_out = self.model(ids, mask, token_type_ids)\n",
    "        else:\n",
    "            transformer_out = self.model(ids, mask)\n",
    "\n",
    "        # simple CLS\n",
    "        sequence_output = transformer_out[0][:, 0, :]\n",
    "\n",
    "        logits = self.output(sequence_output)\n",
    "\n",
    "        return logits"
   ]
  },
  {
   "cell_type": "code",
   "execution_count": 18,
   "metadata": {},
   "outputs": [],
   "source": [
    "def criterion(outputs, targets):\n",
    "    loss_fct = nn.MSELoss()\n",
    "    loss = loss_fct(outputs, targets)\n",
    "    return loss\n",
    "\n",
    "def get_score(outputs, targets):\n",
    "    mcrmse = []\n",
    "    for i in range(CFG.target_size):\n",
    "        mcrmse.append(\n",
    "            metrics.mean_squared_error(\n",
    "                targets[:, i],\n",
    "                outputs[:, i],\n",
    "                squared=False,\n",
    "            ),\n",
    "        )\n",
    "    mcrmse = np.mean(mcrmse)\n",
    "    return mcrmse\n",
    "def get_result(oof_df):\n",
    "    labels = oof_df[CFG.targets].values\n",
    "    preds = oof_df[['pred_0', 'pred_1']].values\n",
    "    score = get_score(preds, labels)\n",
    "    LOGGER.info(f'Score: {score:<.4f}')"
   ]
  },
  {
   "cell_type": "markdown",
   "metadata": {},
   "source": [
    "# Training And Validation Per Epoch"
   ]
  },
  {
   "cell_type": "code",
   "execution_count": 19,
   "metadata": {},
   "outputs": [],
   "source": [
    "def train_one_epoch(model, optimizer, scheduler, dataloader, valid_loader, device, epoch, best_score, valid_labels):\n",
    "    model.train()\n",
    "    scaler = GradScaler(enabled=CFG.apex)\n",
    "\n",
    "    dataset_size = 0\n",
    "    running_loss = 0\n",
    "\n",
    "    start = end = time.time()\n",
    "\n",
    "    for step, data in enumerate(dataloader):\n",
    "        \n",
    "        ids = data['input_ids'].to(device, dtype=torch.long)\n",
    "        mask = data['attention_mask'].to(device, dtype=torch.long)\n",
    "        targets = data['target'].to(device, dtype=torch.float)\n",
    "\n",
    "        batch_size = ids.size(0)\n",
    "\n",
    "        with autocast(enabled=CFG.apex):\n",
    "            outputs = model(ids, mask)\n",
    "            loss = criterion(outputs, targets)\n",
    "\n",
    "        #accumulate\n",
    "        loss = loss / CFG.n_accumulate\n",
    "        scaler.scale(loss).backward()\n",
    "        if (step +1) % CFG.n_accumulate == 0:#n_accumulate=1\n",
    "            # torch.nn.utils.clip_grad_norm_(model.parameters(), CFG.max_norm)\n",
    "            scaler.step(optimizer)\n",
    "            scaler.update()\n",
    "            optimizer.zero_grad()\n",
    "            if scheduler is not None:\n",
    "                scheduler.step()\n",
    "        running_loss += (loss.item() * batch_size)\n",
    "        dataset_size += batch_size\n",
    "\n",
    "        epoch_loss = running_loss / dataset_size\n",
    "\n",
    "        end = time.time()\n",
    "\n",
    "        if step % CFG.print_freq == 0 or step == (len(dataloader)-1):\n",
    "            print('Epoch: [{0}][{1}/{2}] '\n",
    "                  'Loss: [{3}]'\n",
    "                  'Elapsed {remain:s} '\n",
    "                  .format(epoch+1, step, len(dataloader), epoch_loss,\n",
    "                          remain=timeSince(start, float(step+1)/len(dataloader))))\n",
    "\n",
    "        if (step > 0) & (step % CFG.eval_freq == 0) :\n",
    "\n",
    "            valid_epoch_loss, pred = valid_one_epoch(model, valid_loader, device, epoch)\n",
    "\n",
    "            score = get_score(pred, valid_labels)\n",
    "\n",
    "            LOGGER.info(f'Epoch {epoch+1} Step {step} - avg_train_loss: {epoch_loss:.4f}  avg_val_loss: {valid_epoch_loss:.4f}')\n",
    "            LOGGER.info(f'Epoch {epoch+1} Step {step} - Score: {score:.4f}')\n",
    "\n",
    "            if score < best_score:\n",
    "                best_score = score\n",
    "                LOGGER.info(f'Epoch {epoch+1} Step {step} - Save Best Score: {best_score:.4f} Model')\n",
    "                torch.save({'model': model.state_dict(),\n",
    "                            'predictions': pred},\n",
    "                            OUTPUT_DIR+f\"/model/{CFG.model.replace('/', '-')}_fold{fold}_best.pth\")\n",
    "\n",
    "            # model.train()\n",
    "\n",
    "    gc.collect()\n",
    "\n",
    "    return epoch_loss, valid_epoch_loss, pred, best_score\n",
    "\n",
    "@torch.no_grad()\n",
    "def valid_one_epoch(model, dataloader, device, epoch):\n",
    "    model.eval()\n",
    "\n",
    "    dataset_size = 0\n",
    "    running_loss = 0\n",
    "\n",
    "    start = end = time.time()\n",
    "    pred = []\n",
    "\n",
    "    for step, data in enumerate(dataloader):\n",
    "        ids = data['input_ids'].to(device, dtype=torch.long)\n",
    "        mask = data['attention_mask'].to(device, dtype=torch.long)\n",
    "        targets = data['target'].to(device, dtype=torch.float)\n",
    "\n",
    "        batch_size = ids.size(0)\n",
    "        outputs = model(ids, mask)\n",
    "        loss = criterion(outputs, targets)\n",
    "        pred.append(outputs.to('cpu').numpy())\n",
    "\n",
    "        running_loss += (loss.item()* batch_size)\n",
    "        dataset_size += batch_size\n",
    "\n",
    "        epoch_loss = running_loss / dataset_size\n",
    "\n",
    "        end = time.time()\n",
    "\n",
    "        if step % CFG.print_freq == 0 or step == (len(dataloader)-1):\n",
    "            print('EVAL: [{0}/{1}] '\n",
    "                  'Elapsed {remain:s} '\n",
    "                  .format(step, len(dataloader),\n",
    "                          remain=timeSince(start, float(step+1)/len(dataloader))))\n",
    "\n",
    "    pred = np.concatenate(pred)\n",
    "    return epoch_loss, pred"
   ]
  },
  {
   "cell_type": "markdown",
   "metadata": {},
   "source": [
    "# Training And Validation Loop"
   ]
  },
  {
   "cell_type": "code",
   "execution_count": 20,
   "metadata": {},
   "outputs": [],
   "source": [
    "def train_loop(fold):\n",
    "    LOGGER.info(f'-------------fold:{fold} training-------------')\n",
    "\n",
    "    train_data = train[train.fold != fold].reset_index(drop=True)\n",
    "    valid_data = train[train.fold == fold].reset_index(drop=True)\n",
    "    valid_labels = valid_data[CFG.targets].values\n",
    "\n",
    "    trainDataset = FeedBackDataset(train_data, CFG.tokenizer, CFG.max_len)\n",
    "    validDataset = FeedBackDataset(valid_data, CFG.tokenizer, CFG.max_len)\n",
    "    \n",
    "    \n",
    "\n",
    "    train_loader = DataLoader(trainDataset,\n",
    "                              batch_size = CFG.batch_size,\n",
    "                              shuffle=True,\n",
    "                              collate_fn = collate_fn,\n",
    "                              num_workers = CFG.num_workers,\n",
    "                              pin_memory = True,\n",
    "                              drop_last=True)\n",
    "\n",
    "    \n",
    "    valid_loader = DataLoader(validDataset,\n",
    "                              batch_size = CFG.batch_size * 2,\n",
    "                              shuffle=False,\n",
    "                              collate_fn = collate_fn,\n",
    "                              num_workers = CFG.num_workers,\n",
    "                              pin_memory = True,\n",
    "                              drop_last=False)\n",
    "\n",
    "    model = FeedBackModel(CFG.model)\n",
    "    torch.save(model.config, OUTPUT_DIR+'/model/config.pth')\n",
    "    model.to(device)\n",
    "    optimizer = AdamW(model.parameters(), lr=CFG.lr, weight_decay=CFG.weigth_decay)\n",
    "    num_train_steps = int(len(train_data) / CFG.batch_size * CFG.epochs)\n",
    "    scheduler = get_scheduler(CFG, optimizer, num_train_steps)\n",
    "\n",
    "    # loop\n",
    "    best_score = 100\n",
    "\n",
    "    for epoch in range(CFG.epochs):\n",
    "        # if epoch == (CFG.epochs - 1):\n",
    "        #     break\n",
    "\n",
    "        start_time = time.time()\n",
    "\n",
    "        train_epoch_loss, valid_epoch_loss, pred, best_score = train_one_epoch(model, optimizer, scheduler, train_loader, valid_loader, device, epoch, best_score, valid_labels)\n",
    "\n",
    "        score = get_score(pred, valid_labels)\n",
    "\n",
    "        elapsed = time.time() - start_time\n",
    "\n",
    "        LOGGER.info(f'Epoch {epoch+1} - avg_train_loss: {train_epoch_loss:.4f}  avg_val_loss: {valid_epoch_loss:.4f}  time: {elapsed:.0f}s')\n",
    "        LOGGER.info(f'Epoch {epoch+1} - Score: {score:.4f}')\n",
    "\n",
    "        if score < best_score:\n",
    "            best_score = score\n",
    "            LOGGER.info(f'Epoch {epoch+1} - Save Best Score: {best_score:.4f} Model')\n",
    "            torch.save({'model': model.state_dict(),\n",
    "                        'predictions': pred},\n",
    "                        OUTPUT_DIR+f\"/model/{CFG.model.replace('/', '-')}_fold{fold}_best.pth\")\n",
    "\n",
    "    predictions = torch.load(OUTPUT_DIR+f\"/model/{CFG.model.replace('/', '-')}_fold{fold}_best.pth\",\n",
    "                             map_location=torch.device('cpu'))['predictions']\n",
    "    valid_data['pred_0'] = predictions[:, 0]\n",
    "    valid_data['pred_1'] = predictions[:, 1]\n",
    "    # valid_data['pred_2'] = predictions[:, 2]\n",
    "    # valid_data['pred_3'] = predictions[:, 3]\n",
    "    # valid_data['pred_4'] = predictions[:, 4]\n",
    "    # valid_data['pred_5'] = predictions[:, 5]\n",
    "\n",
    "    torch.cuda.empty_cache()\n",
    "    gc.collect()\n",
    "\n",
    "    return valid_data"
   ]
  },
  {
   "cell_type": "code",
   "execution_count": 22,
   "metadata": {},
   "outputs": [
    {
     "name": "stderr",
     "output_type": "stream",
     "text": [
      "-------------fold:0 training-------------\n",
      "Some weights of the model checkpoint at microsoft/deberta-v3-large were not used when initializing DebertaV2Model: ['lm_predictions.lm_head.LayerNorm.weight', 'mask_predictions.LayerNorm.bias', 'mask_predictions.dense.bias', 'lm_predictions.lm_head.dense.bias', 'lm_predictions.lm_head.bias', 'mask_predictions.classifier.bias', 'mask_predictions.classifier.weight', 'lm_predictions.lm_head.LayerNorm.bias', 'mask_predictions.dense.weight', 'mask_predictions.LayerNorm.weight', 'lm_predictions.lm_head.dense.weight']\n",
      "- This IS expected if you are initializing DebertaV2Model from the checkpoint of a model trained on another task or with another architecture (e.g. initializing a BertForSequenceClassification model from a BertForPreTraining model).\n",
      "- This IS NOT expected if you are initializing DebertaV2Model from the checkpoint of a model that you expect to be exactly identical (initializing a BertForSequenceClassification model from a BertForSequenceClassification model).\n"
     ]
    },
    {
     "name": "stdout",
     "output_type": "stream",
     "text": [
      "Epoch: [1][0/5108] Loss: [0.616123378276825]Elapsed 0m 1s (remain 164m 31s) \n",
      "Epoch: [1][100/5108] Loss: [1.1703011779815402]Elapsed 0m 27s (remain 23m 2s) \n",
      "Epoch: [1][200/5108] Loss: [0.9837909583766847]Elapsed 0m 54s (remain 21m 59s) \n",
      "Epoch: [1][300/5108] Loss: [0.8180993434723987]Elapsed 1m 20s (remain 21m 22s) \n",
      "Epoch: [1][400/5108] Loss: [0.7428202990567639]Elapsed 1m 46s (remain 20m 49s) \n",
      "Epoch: [1][500/5108] Loss: [0.6693293196217718]Elapsed 2m 14s (remain 20m 34s) \n",
      "Epoch: [1][600/5108] Loss: [0.6549973492025392]Elapsed 2m 42s (remain 20m 18s) \n",
      "Epoch: [1][700/5108] Loss: [0.608956645064012]Elapsed 3m 9s (remain 19m 53s) \n",
      "Epoch: [1][800/5108] Loss: [0.572528002765489]Elapsed 3m 36s (remain 19m 23s) \n",
      "Epoch: [1][900/5108] Loss: [0.5563777108928943]Elapsed 4m 4s (remain 18m 59s) \n",
      "Epoch: [1][1000/5108] Loss: [0.5343874195973471]Elapsed 4m 33s (remain 18m 41s) \n",
      "Epoch: [1][1100/5108] Loss: [0.5061466105201524]Elapsed 5m 2s (remain 18m 22s) \n",
      "Epoch: [1][1200/5108] Loss: [0.5033370929267676]Elapsed 5m 32s (remain 18m 0s) \n",
      "Epoch: [1][1300/5108] Loss: [0.4976760493763232]Elapsed 5m 59s (remain 17m 30s) \n",
      "Epoch: [1][1400/5108] Loss: [0.48696391756276064]Elapsed 6m 25s (remain 17m 0s) \n",
      "Epoch: [1][1500/5108] Loss: [0.4775447712970437]Elapsed 6m 51s (remain 16m 29s) \n",
      "EVAL: [0/1029] Elapsed 0m 0s (remain 5m 25s) \n",
      "EVAL: [100/1029] Elapsed 0m 30s (remain 4m 41s) \n",
      "EVAL: [200/1029] Elapsed 1m 1s (remain 4m 13s) \n",
      "EVAL: [300/1029] Elapsed 1m 32s (remain 3m 43s) \n",
      "EVAL: [400/1029] Elapsed 2m 7s (remain 3m 19s) \n",
      "EVAL: [500/1029] Elapsed 2m 41s (remain 2m 50s) \n",
      "EVAL: [600/1029] Elapsed 3m 15s (remain 2m 19s) \n",
      "EVAL: [700/1029] Elapsed 3m 49s (remain 1m 47s) \n",
      "EVAL: [800/1029] Elapsed 4m 24s (remain 1m 15s) \n",
      "EVAL: [900/1029] Elapsed 4m 58s (remain 0m 42s) \n",
      "EVAL: [1000/1029] Elapsed 5m 32s (remain 0m 9s) \n"
     ]
    },
    {
     "name": "stderr",
     "output_type": "stream",
     "text": [
      "Epoch 1 Step 1560 - avg_train_loss: 0.4703  avg_val_loss: 0.2559\n",
      "Epoch 1 Step 1560 - Score: 0.4994\n",
      "Epoch 1 Step 1560 - Save Best Score: 0.4994 Model\n"
     ]
    },
    {
     "name": "stdout",
     "output_type": "stream",
     "text": [
      "EVAL: [1028/1029] Elapsed 5m 41s (remain 0m 0s) \n",
      "Epoch: [1][1600/5108] Loss: [0.4683846140253898]Elapsed 13m 13s (remain 28m 58s) \n",
      "Epoch: [1][1700/5108] Loss: [0.4591213936838368]Elapsed 13m 39s (remain 27m 21s) \n",
      "Epoch: [1][1800/5108] Loss: [0.45069700736177054]Elapsed 14m 6s (remain 25m 54s) \n",
      "Epoch: [1][1900/5108] Loss: [0.44471962376559415]Elapsed 14m 34s (remain 24m 34s) \n",
      "Epoch: [1][2000/5108] Loss: [0.4374531333965167]Elapsed 15m 0s (remain 23m 18s) \n",
      "Epoch: [1][2100/5108] Loss: [0.4336716204539847]Elapsed 15m 28s (remain 22m 8s) \n",
      "Epoch: [1][2200/5108] Loss: [0.426345295492243]Elapsed 15m 54s (remain 21m 0s) \n",
      "Epoch: [1][2300/5108] Loss: [0.41847886321531413]Elapsed 16m 19s (remain 19m 54s) \n",
      "Epoch: [1][2400/5108] Loss: [0.4128149985104246]Elapsed 16m 45s (remain 18m 53s) \n",
      "Epoch: [1][2500/5108] Loss: [0.4079419108551889]Elapsed 17m 11s (remain 17m 55s) \n",
      "Epoch: [1][2600/5108] Loss: [0.40176145085192244]Elapsed 17m 39s (remain 17m 1s) \n",
      "Epoch: [1][2700/5108] Loss: [0.3984100219828702]Elapsed 18m 6s (remain 16m 8s) \n",
      "Epoch: [1][2800/5108] Loss: [0.3976126497874325]Elapsed 18m 34s (remain 15m 17s) \n",
      "Epoch: [1][2900/5108] Loss: [0.3929988982811071]Elapsed 19m 0s (remain 14m 27s) \n",
      "Epoch: [1][3000/5108] Loss: [0.3887027328272925]Elapsed 19m 27s (remain 13m 40s) \n",
      "Epoch: [1][3100/5108] Loss: [0.38745296996321693]Elapsed 19m 54s (remain 12m 53s) \n",
      "EVAL: [0/1029] Elapsed 0m 0s (remain 4m 48s) \n",
      "EVAL: [100/1029] Elapsed 0m 28s (remain 4m 19s) \n",
      "EVAL: [200/1029] Elapsed 0m 58s (remain 3m 59s) \n",
      "EVAL: [300/1029] Elapsed 1m 27s (remain 3m 30s) \n",
      "EVAL: [400/1029] Elapsed 1m 57s (remain 3m 4s) \n",
      "EVAL: [500/1029] Elapsed 2m 28s (remain 2m 36s) \n",
      "EVAL: [600/1029] Elapsed 3m 3s (remain 2m 10s) \n",
      "EVAL: [700/1029] Elapsed 3m 37s (remain 1m 41s) \n",
      "EVAL: [800/1029] Elapsed 4m 12s (remain 1m 11s) \n",
      "EVAL: [900/1029] Elapsed 4m 46s (remain 0m 40s) \n",
      "EVAL: [1000/1029] Elapsed 5m 20s (remain 0m 8s) \n"
     ]
    },
    {
     "name": "stderr",
     "output_type": "stream",
     "text": [
      "Epoch 1 Step 3120 - avg_train_loss: 0.3857  avg_val_loss: 0.2735\n",
      "Epoch 1 Step 3120 - Score: 0.5133\n"
     ]
    },
    {
     "name": "stdout",
     "output_type": "stream",
     "text": [
      "EVAL: [1028/1029] Elapsed 5m 30s (remain 0m 0s) \n",
      "Epoch: [1][3200/5108] Loss: [0.3839792927645783]Elapsed 25m 53s (remain 15m 25s) \n",
      "Epoch: [1][3300/5108] Loss: [0.38117379732279394]Elapsed 26m 22s (remain 14m 26s) \n",
      "Epoch: [1][3400/5108] Loss: [0.3788872378807885]Elapsed 26m 51s (remain 13m 28s) \n",
      "Epoch: [1][3500/5108] Loss: [0.37492907294691696]Elapsed 27m 18s (remain 12m 32s) \n",
      "Epoch: [1][3600/5108] Loss: [0.37381654412732357]Elapsed 27m 44s (remain 11m 36s) \n",
      "Epoch: [1][3700/5108] Loss: [0.37218060403443803]Elapsed 28m 10s (remain 10m 42s) \n",
      "Epoch: [1][3800/5108] Loss: [0.3698593446333531]Elapsed 28m 34s (remain 9m 49s) \n",
      "Epoch: [1][3900/5108] Loss: [0.3687640204664729]Elapsed 28m 59s (remain 8m 58s) \n",
      "Epoch: [1][4000/5108] Loss: [0.36551956083406806]Elapsed 29m 24s (remain 8m 8s) \n",
      "Epoch: [1][4100/5108] Loss: [0.36242821801312847]Elapsed 29m 50s (remain 7m 19s) \n",
      "Epoch: [1][4200/5108] Loss: [0.3615063686973541]Elapsed 30m 15s (remain 6m 31s) \n",
      "Epoch: [1][4300/5108] Loss: [0.3596733075592703]Elapsed 30m 40s (remain 5m 45s) \n",
      "Epoch: [1][4400/5108] Loss: [0.3566840994434688]Elapsed 31m 7s (remain 4m 59s) \n",
      "Epoch: [1][4500/5108] Loss: [0.3541625189214728]Elapsed 31m 35s (remain 4m 15s) \n",
      "Epoch: [1][4600/5108] Loss: [0.3517561696209737]Elapsed 32m 2s (remain 3m 31s) \n",
      "EVAL: [0/1029] Elapsed 0m 0s (remain 5m 43s) \n",
      "EVAL: [100/1029] Elapsed 0m 33s (remain 5m 9s) \n",
      "EVAL: [200/1029] Elapsed 1m 7s (remain 4m 39s) \n",
      "EVAL: [300/1029] Elapsed 1m 41s (remain 4m 5s) \n",
      "EVAL: [400/1029] Elapsed 2m 15s (remain 3m 31s) \n",
      "EVAL: [500/1029] Elapsed 2m 46s (remain 2m 55s) \n",
      "EVAL: [600/1029] Elapsed 3m 13s (remain 2m 18s) \n",
      "EVAL: [700/1029] Elapsed 3m 42s (remain 1m 44s) \n",
      "EVAL: [800/1029] Elapsed 4m 11s (remain 1m 11s) \n",
      "EVAL: [900/1029] Elapsed 4m 40s (remain 0m 39s) \n",
      "EVAL: [1000/1029] Elapsed 5m 9s (remain 0m 8s) \n"
     ]
    },
    {
     "name": "stderr",
     "output_type": "stream",
     "text": [
      "Epoch 1 Step 4680 - avg_train_loss: 0.3492  avg_val_loss: 0.2855\n",
      "Epoch 1 Step 4680 - Score: 0.5292\n"
     ]
    },
    {
     "name": "stdout",
     "output_type": "stream",
     "text": [
      "EVAL: [1028/1029] Elapsed 5m 17s (remain 0m 0s) \n",
      "Epoch: [1][4700/5108] Loss: [0.3489553583675404]Elapsed 37m 48s (remain 3m 16s) \n",
      "Epoch: [1][4800/5108] Loss: [0.3478286535963397]Elapsed 38m 14s (remain 2m 26s) \n",
      "Epoch: [1][4900/5108] Loss: [0.3459004888518618]Elapsed 38m 39s (remain 1m 37s) \n",
      "Epoch: [1][5000/5108] Loss: [0.3441439838868686]Elapsed 39m 5s (remain 0m 50s) \n",
      "Epoch: [1][5100/5108] Loss: [0.34262176548853257]Elapsed 39m 31s (remain 0m 3s) \n"
     ]
    },
    {
     "name": "stderr",
     "output_type": "stream",
     "text": [
      "Epoch 1 - avg_train_loss: 0.3426  avg_val_loss: 0.2855  time: 2374s\n",
      "Epoch 1 - Score: 0.5292\n"
     ]
    },
    {
     "name": "stdout",
     "output_type": "stream",
     "text": [
      "Epoch: [1][5107/5108] Loss: [0.34256814733349994]Elapsed 39m 33s (remain 0m 0s) \n",
      "Epoch: [2][0/5108] Loss: [1.2115882635116577]Elapsed 0m 0s (remain 17m 3s) \n",
      "Epoch: [2][100/5108] Loss: [0.3247374596839568]Elapsed 0m 25s (remain 20m 54s) \n",
      "Epoch: [2][200/5108] Loss: [0.23967975955132154]Elapsed 0m 50s (remain 20m 25s) \n",
      "Epoch: [2][300/5108] Loss: [0.22931563344446051]Elapsed 1m 13s (remain 19m 28s) \n",
      "Epoch: [2][400/5108] Loss: [0.22382464846511932]Elapsed 1m 36s (remain 18m 52s) \n",
      "Epoch: [2][500/5108] Loss: [0.2304852140727899]Elapsed 2m 0s (remain 18m 25s) \n",
      "Epoch: [2][600/5108] Loss: [0.22048938868498777]Elapsed 2m 23s (remain 17m 56s) \n",
      "Epoch: [2][700/5108] Loss: [0.2196830322506131]Elapsed 2m 47s (remain 17m 30s) \n",
      "Epoch: [2][800/5108] Loss: [0.2191902909813171]Elapsed 3m 10s (remain 17m 6s) \n",
      "Epoch: [2][900/5108] Loss: [0.21327863141025297]Elapsed 3m 34s (remain 16m 42s) \n",
      "Epoch: [2][1000/5108] Loss: [0.2152152250470484]Elapsed 3m 57s (remain 16m 16s) \n",
      "Epoch: [2][1100/5108] Loss: [0.21369382492586578]Elapsed 4m 21s (remain 15m 52s) \n",
      "Epoch: [2][1200/5108] Loss: [0.21234994410853011]Elapsed 4m 45s (remain 15m 28s) \n",
      "Epoch: [2][1300/5108] Loss: [0.20935860685497362]Elapsed 5m 10s (remain 15m 9s) \n",
      "Epoch: [2][1400/5108] Loss: [0.2095176124397161]Elapsed 5m 37s (remain 14m 53s) \n",
      "Epoch: [2][1500/5108] Loss: [0.2082511925937512]Elapsed 6m 5s (remain 14m 37s) \n",
      "EVAL: [0/1029] Elapsed 0m 0s (remain 5m 51s) \n",
      "EVAL: [100/1029] Elapsed 0m 32s (remain 5m 2s) \n",
      "EVAL: [200/1029] Elapsed 1m 3s (remain 4m 20s) \n",
      "EVAL: [300/1029] Elapsed 1m 35s (remain 3m 49s) \n",
      "EVAL: [400/1029] Elapsed 2m 6s (remain 3m 17s) \n",
      "EVAL: [500/1029] Elapsed 2m 36s (remain 2m 45s) \n",
      "EVAL: [600/1029] Elapsed 3m 6s (remain 2m 12s) \n",
      "EVAL: [700/1029] Elapsed 3m 40s (remain 1m 42s) \n",
      "EVAL: [800/1029] Elapsed 4m 10s (remain 1m 11s) \n",
      "EVAL: [900/1029] Elapsed 4m 42s (remain 0m 40s) \n",
      "EVAL: [1000/1029] Elapsed 5m 13s (remain 0m 8s) \n"
     ]
    },
    {
     "name": "stderr",
     "output_type": "stream",
     "text": [
      "Epoch 2 Step 1560 - avg_train_loss: 0.2070  avg_val_loss: 0.2764\n",
      "Epoch 2 Step 1560 - Score: 0.5172\n"
     ]
    },
    {
     "name": "stdout",
     "output_type": "stream",
     "text": [
      "EVAL: [1028/1029] Elapsed 5m 21s (remain 0m 0s) \n",
      "Epoch: [2][1600/5108] Loss: [0.206822711516906]Elapsed 11m 53s (remain 26m 3s) \n",
      "Epoch: [2][1700/5108] Loss: [0.20597737341040903]Elapsed 12m 19s (remain 24m 41s) \n",
      "Epoch: [2][1800/5108] Loss: [0.2045121513666077]Elapsed 12m 46s (remain 23m 26s) \n",
      "Epoch: [2][1900/5108] Loss: [0.20400669651150108]Elapsed 13m 12s (remain 22m 17s) \n",
      "Epoch: [2][2000/5108] Loss: [0.20469259686674984]Elapsed 13m 39s (remain 21m 11s) \n",
      "Epoch: [2][2100/5108] Loss: [0.20544786025644687]Elapsed 14m 5s (remain 20m 10s) \n",
      "Epoch: [2][2200/5108] Loss: [0.20644412082737715]Elapsed 14m 31s (remain 19m 11s) \n",
      "Epoch: [2][2300/5108] Loss: [0.20609847234117337]Elapsed 14m 58s (remain 18m 15s) \n",
      "Epoch: [2][2400/5108] Loss: [0.2063121673762976]Elapsed 15m 24s (remain 17m 21s) \n",
      "Epoch: [2][2500/5108] Loss: [0.20520470514455344]Elapsed 15m 50s (remain 16m 30s) \n",
      "Epoch: [2][2600/5108] Loss: [0.2038014369186254]Elapsed 16m 16s (remain 15m 41s) \n",
      "Epoch: [2][2700/5108] Loss: [0.20569469927178027]Elapsed 16m 43s (remain 14m 53s) \n",
      "Epoch: [2][2800/5108] Loss: [0.20518984561616743]Elapsed 17m 10s (remain 14m 8s) \n",
      "Epoch: [2][2900/5108] Loss: [0.2040864926403967]Elapsed 17m 37s (remain 13m 24s) \n",
      "Epoch: [2][3000/5108] Loss: [0.20478001834174728]Elapsed 18m 4s (remain 12m 41s) \n",
      "Epoch: [2][3100/5108] Loss: [0.20431826966943886]Elapsed 18m 30s (remain 11m 58s) \n",
      "EVAL: [0/1029] Elapsed 0m 0s (remain 5m 13s) \n",
      "EVAL: [100/1029] Elapsed 0m 31s (remain 4m 48s) \n",
      "EVAL: [200/1029] Elapsed 1m 2s (remain 4m 18s) \n",
      "EVAL: [300/1029] Elapsed 1m 34s (remain 3m 49s) \n",
      "EVAL: [400/1029] Elapsed 2m 5s (remain 3m 16s) \n",
      "EVAL: [500/1029] Elapsed 2m 37s (remain 2m 45s) \n",
      "EVAL: [600/1029] Elapsed 3m 8s (remain 2m 14s) \n",
      "EVAL: [700/1029] Elapsed 3m 40s (remain 1m 43s) \n",
      "EVAL: [800/1029] Elapsed 4m 12s (remain 1m 11s) \n",
      "EVAL: [900/1029] Elapsed 4m 43s (remain 0m 40s) \n",
      "EVAL: [1000/1029] Elapsed 5m 14s (remain 0m 8s) \n"
     ]
    },
    {
     "name": "stderr",
     "output_type": "stream",
     "text": [
      "Epoch 2 Step 3120 - avg_train_loss: 0.2042  avg_val_loss: 0.2624\n",
      "Epoch 2 Step 3120 - Score: 0.5079\n"
     ]
    },
    {
     "name": "stdout",
     "output_type": "stream",
     "text": [
      "EVAL: [1028/1029] Elapsed 5m 22s (remain 0m 0s) \n",
      "Epoch: [2][3200/5108] Loss: [0.20309089328493082]Elapsed 24m 20s (remain 14m 30s) \n",
      "Epoch: [2][3300/5108] Loss: [0.20303261424427343]Elapsed 24m 46s (remain 13m 33s) \n",
      "Epoch: [2][3400/5108] Loss: [0.20423724005339983]Elapsed 25m 12s (remain 12m 39s) \n",
      "Epoch: [2][3500/5108] Loss: [0.20445156336678524]Elapsed 25m 39s (remain 11m 46s) \n",
      "Epoch: [2][3600/5108] Loss: [0.20347572527825641]Elapsed 26m 5s (remain 10m 55s) \n",
      "Epoch: [2][3700/5108] Loss: [0.20411108438415712]Elapsed 26m 31s (remain 10m 5s) \n",
      "Epoch: [2][3800/5108] Loss: [0.20387985665179212]Elapsed 26m 58s (remain 9m 16s) \n",
      "Epoch: [2][3900/5108] Loss: [0.20387737855681018]Elapsed 27m 24s (remain 8m 28s) \n",
      "Epoch: [2][4000/5108] Loss: [0.20336276741598236]Elapsed 27m 51s (remain 7m 42s) \n",
      "Epoch: [2][4100/5108] Loss: [0.20345391784146952]Elapsed 28m 18s (remain 6m 56s) \n",
      "Epoch: [2][4200/5108] Loss: [0.2036194508281878]Elapsed 28m 44s (remain 6m 12s) \n",
      "Epoch: [2][4300/5108] Loss: [0.20310372816025068]Elapsed 29m 11s (remain 5m 28s) \n",
      "Epoch: [2][4400/5108] Loss: [0.20357865816115397]Elapsed 29m 37s (remain 4m 45s) \n",
      "Epoch: [2][4500/5108] Loss: [0.20243901233219913]Elapsed 30m 3s (remain 4m 3s) \n",
      "Epoch: [2][4600/5108] Loss: [0.20196600680638227]Elapsed 30m 30s (remain 3m 21s) \n",
      "EVAL: [0/1029] Elapsed 0m 0s (remain 5m 11s) \n",
      "EVAL: [100/1029] Elapsed 0m 30s (remain 4m 41s) \n",
      "EVAL: [200/1029] Elapsed 1m 0s (remain 4m 11s) \n",
      "EVAL: [300/1029] Elapsed 1m 31s (remain 3m 41s) \n",
      "EVAL: [400/1029] Elapsed 2m 2s (remain 3m 11s) \n",
      "EVAL: [500/1029] Elapsed 2m 32s (remain 2m 41s) \n",
      "EVAL: [600/1029] Elapsed 3m 3s (remain 2m 10s) \n",
      "EVAL: [700/1029] Elapsed 3m 33s (remain 1m 40s) \n",
      "EVAL: [800/1029] Elapsed 4m 4s (remain 1m 9s) \n",
      "EVAL: [900/1029] Elapsed 4m 35s (remain 0m 39s) \n",
      "EVAL: [1000/1029] Elapsed 5m 6s (remain 0m 8s) \n"
     ]
    },
    {
     "name": "stderr",
     "output_type": "stream",
     "text": [
      "Epoch 2 Step 4680 - avg_train_loss: 0.2013  avg_val_loss: 0.3369\n",
      "Epoch 2 Step 4680 - Score: 0.5771\n"
     ]
    },
    {
     "name": "stdout",
     "output_type": "stream",
     "text": [
      "EVAL: [1028/1029] Elapsed 5m 14s (remain 0m 0s) \n",
      "Epoch: [2][4700/5108] Loss: [0.20146519829840792]Elapsed 36m 10s (remain 3m 7s) \n",
      "Epoch: [2][4800/5108] Loss: [0.20144463178129118]Elapsed 36m 36s (remain 2m 20s) \n",
      "Epoch: [2][4900/5108] Loss: [0.2006840850434857]Elapsed 37m 3s (remain 1m 33s) \n",
      "Epoch: [2][5000/5108] Loss: [0.20037729796059717]Elapsed 37m 29s (remain 0m 48s) \n",
      "Epoch: [2][5100/5108] Loss: [0.19976859134462452]Elapsed 37m 57s (remain 0m 3s) \n"
     ]
    },
    {
     "name": "stderr",
     "output_type": "stream",
     "text": [
      "Epoch 2 - avg_train_loss: 0.1997  avg_val_loss: 0.3369  time: 2280s\n",
      "Epoch 2 - Score: 0.5771\n"
     ]
    },
    {
     "name": "stdout",
     "output_type": "stream",
     "text": [
      "Epoch: [2][5107/5108] Loss: [0.19969884540334254]Elapsed 37m 59s (remain 0m 0s) \n",
      "Epoch: [3][0/5108] Loss: [0.007521997671574354]Elapsed 0m 0s (remain 19m 31s) \n",
      "Epoch: [3][100/5108] Loss: [0.1205355448897301]Elapsed 0m 28s (remain 23m 25s) \n",
      "Epoch: [3][200/5108] Loss: [0.10849677216358927]Elapsed 0m 56s (remain 23m 0s) \n",
      "Epoch: [3][300/5108] Loss: [0.1158080864167831]Elapsed 1m 23s (remain 22m 9s) \n",
      "Epoch: [3][400/5108] Loss: [0.10732445723745439]Elapsed 1m 50s (remain 21m 32s) \n",
      "Epoch: [3][500/5108] Loss: [0.11120444601537512]Elapsed 2m 17s (remain 21m 6s) \n",
      "Epoch: [3][600/5108] Loss: [0.1126984500791215]Elapsed 2m 44s (remain 20m 34s) \n",
      "Epoch: [3][700/5108] Loss: [0.1176957359668442]Elapsed 3m 10s (remain 20m 0s) \n",
      "Epoch: [3][800/5108] Loss: [0.11973515571117402]Elapsed 3m 37s (remain 19m 27s) \n",
      "Epoch: [3][900/5108] Loss: [0.11731222814492762]Elapsed 4m 4s (remain 19m 1s) \n",
      "Epoch: [3][1000/5108] Loss: [0.11548610635763891]Elapsed 4m 32s (remain 18m 37s) \n",
      "Epoch: [3][1100/5108] Loss: [0.11858102534365461]Elapsed 5m 0s (remain 18m 13s) \n",
      "Epoch: [3][1200/5108] Loss: [0.11757319032084988]Elapsed 5m 27s (remain 17m 45s) \n",
      "Epoch: [3][1300/5108] Loss: [0.11564568808644912]Elapsed 5m 53s (remain 17m 15s) \n",
      "Epoch: [3][1400/5108] Loss: [0.11658396849167195]Elapsed 6m 20s (remain 16m 46s) \n",
      "Epoch: [3][1500/5108] Loss: [0.11585601472549518]Elapsed 6m 47s (remain 16m 18s) \n",
      "EVAL: [0/1029] Elapsed 0m 0s (remain 5m 13s) \n",
      "EVAL: [100/1029] Elapsed 0m 32s (remain 4m 54s) \n",
      "EVAL: [200/1029] Elapsed 1m 1s (remain 4m 11s) \n",
      "EVAL: [300/1029] Elapsed 1m 28s (remain 3m 34s) \n",
      "EVAL: [400/1029] Elapsed 1m 58s (remain 3m 5s) \n",
      "EVAL: [500/1029] Elapsed 2m 30s (remain 2m 38s) \n",
      "EVAL: [600/1029] Elapsed 2m 59s (remain 2m 7s) \n",
      "EVAL: [700/1029] Elapsed 3m 27s (remain 1m 37s) \n",
      "EVAL: [800/1029] Elapsed 3m 56s (remain 1m 7s) \n",
      "EVAL: [900/1029] Elapsed 4m 25s (remain 0m 37s) \n",
      "EVAL: [1000/1029] Elapsed 4m 55s (remain 0m 8s) \n"
     ]
    },
    {
     "name": "stderr",
     "output_type": "stream",
     "text": [
      "Epoch 3 Step 1560 - avg_train_loss: 0.1148  avg_val_loss: 0.2772\n",
      "Epoch 3 Step 1560 - Score: 0.5239\n"
     ]
    },
    {
     "name": "stdout",
     "output_type": "stream",
     "text": [
      "EVAL: [1028/1029] Elapsed 5m 3s (remain 0m 0s) \n",
      "Epoch: [3][1600/5108] Loss: [0.1143510648170898]Elapsed 12m 16s (remain 26m 52s) \n",
      "Epoch: [3][1700/5108] Loss: [0.11444032697944066]Elapsed 12m 40s (remain 25m 22s) \n",
      "Epoch: [3][1800/5108] Loss: [0.11380689601529549]Elapsed 13m 5s (remain 24m 1s) \n",
      "Epoch: [3][1900/5108] Loss: [0.11167161436614129]Elapsed 13m 31s (remain 22m 49s) \n",
      "Epoch: [3][2000/5108] Loss: [0.1109961634806828]Elapsed 13m 58s (remain 21m 42s) \n",
      "Epoch: [3][2100/5108] Loss: [0.11044663965171292]Elapsed 14m 25s (remain 20m 38s) \n",
      "Epoch: [3][2200/5108] Loss: [0.10998716583439982]Elapsed 14m 51s (remain 19m 37s) \n",
      "Epoch: [3][2300/5108] Loss: [0.10961071419010406]Elapsed 15m 18s (remain 18m 40s) \n",
      "Epoch: [3][2400/5108] Loss: [0.10869641299425056]Elapsed 15m 45s (remain 17m 46s) \n",
      "Epoch: [3][2500/5108] Loss: [0.10902310967089986]Elapsed 16m 13s (remain 16m 54s) \n",
      "Epoch: [3][2600/5108] Loss: [0.10937021018099281]Elapsed 16m 40s (remain 16m 4s) \n",
      "Epoch: [3][2700/5108] Loss: [0.1110396575066853]Elapsed 17m 6s (remain 15m 14s) \n",
      "Epoch: [3][2800/5108] Loss: [0.11137264165405014]Elapsed 17m 32s (remain 14m 26s) \n",
      "Epoch: [3][2900/5108] Loss: [0.11125243226823286]Elapsed 17m 59s (remain 13m 40s) \n",
      "Epoch: [3][3000/5108] Loss: [0.11154435309330371]Elapsed 18m 26s (remain 12m 56s) \n",
      "Epoch: [3][3100/5108] Loss: [0.11163119484332829]Elapsed 18m 52s (remain 12m 13s) \n",
      "EVAL: [0/1029] Elapsed 0m 0s (remain 5m 9s) \n",
      "EVAL: [100/1029] Elapsed 0m 31s (remain 4m 48s) \n",
      "EVAL: [200/1029] Elapsed 1m 2s (remain 4m 16s) \n",
      "EVAL: [300/1029] Elapsed 1m 33s (remain 3m 47s) \n",
      "EVAL: [400/1029] Elapsed 2m 4s (remain 3m 15s) \n",
      "EVAL: [500/1029] Elapsed 2m 35s (remain 2m 44s) \n",
      "EVAL: [600/1029] Elapsed 3m 7s (remain 2m 13s) \n",
      "EVAL: [700/1029] Elapsed 3m 37s (remain 1m 41s) \n",
      "EVAL: [800/1029] Elapsed 4m 9s (remain 1m 10s) \n",
      "EVAL: [900/1029] Elapsed 4m 40s (remain 0m 39s) \n",
      "EVAL: [1000/1029] Elapsed 5m 13s (remain 0m 8s) \n"
     ]
    },
    {
     "name": "stderr",
     "output_type": "stream",
     "text": [
      "Epoch 3 Step 3120 - avg_train_loss: 0.1119  avg_val_loss: 0.2619\n",
      "Epoch 3 Step 3120 - Score: 0.5108\n"
     ]
    },
    {
     "name": "stdout",
     "output_type": "stream",
     "text": [
      "EVAL: [1028/1029] Elapsed 5m 21s (remain 0m 0s) \n",
      "Epoch: [3][3200/5108] Loss: [0.11202899897982496]Elapsed 24m 40s (remain 14m 42s) \n",
      "Epoch: [3][3300/5108] Loss: [0.11169841092463874]Elapsed 25m 7s (remain 13m 45s) \n",
      "Epoch: [3][3400/5108] Loss: [0.11173600840190467]Elapsed 25m 34s (remain 12m 50s) \n",
      "Epoch: [3][3500/5108] Loss: [0.1116519825919595]Elapsed 26m 0s (remain 11m 56s) \n",
      "Epoch: [3][3600/5108] Loss: [0.11152417262135647]Elapsed 26m 29s (remain 11m 4s) \n",
      "Epoch: [3][3700/5108] Loss: [0.11196497424998281]Elapsed 26m 56s (remain 10m 14s) \n",
      "Epoch: [3][3800/5108] Loss: [0.11177263611972564]Elapsed 27m 23s (remain 9m 25s) \n",
      "Epoch: [3][3900/5108] Loss: [0.1117240334738175]Elapsed 27m 49s (remain 8m 36s) \n",
      "Epoch: [3][4000/5108] Loss: [0.11144296776930017]Elapsed 28m 17s (remain 7m 49s) \n",
      "Epoch: [3][4100/5108] Loss: [0.1115377973225227]Elapsed 28m 44s (remain 7m 3s) \n",
      "Epoch: [3][4200/5108] Loss: [0.1115954066836516]Elapsed 29m 10s (remain 6m 17s) \n",
      "Epoch: [3][4300/5108] Loss: [0.11169205651162811]Elapsed 29m 36s (remain 5m 33s) \n",
      "Epoch: [3][4400/5108] Loss: [0.11154406162174875]Elapsed 30m 2s (remain 4m 49s) \n",
      "Epoch: [3][4500/5108] Loss: [0.11155871133026549]Elapsed 30m 28s (remain 4m 6s) \n",
      "Epoch: [3][4600/5108] Loss: [0.11135331146135585]Elapsed 30m 55s (remain 3m 24s) \n",
      "EVAL: [0/1029] Elapsed 0m 0s (remain 5m 22s) \n",
      "EVAL: [100/1029] Elapsed 0m 32s (remain 4m 57s) \n",
      "EVAL: [200/1029] Elapsed 1m 3s (remain 4m 21s) \n",
      "EVAL: [300/1029] Elapsed 1m 34s (remain 3m 49s) \n",
      "EVAL: [400/1029] Elapsed 2m 5s (remain 3m 15s) \n",
      "EVAL: [500/1029] Elapsed 2m 35s (remain 2m 44s) \n",
      "EVAL: [600/1029] Elapsed 3m 6s (remain 2m 12s) \n",
      "EVAL: [700/1029] Elapsed 3m 37s (remain 1m 41s) \n",
      "EVAL: [800/1029] Elapsed 4m 8s (remain 1m 10s) \n",
      "EVAL: [900/1029] Elapsed 4m 39s (remain 0m 39s) \n",
      "EVAL: [1000/1029] Elapsed 5m 9s (remain 0m 8s) \n"
     ]
    },
    {
     "name": "stderr",
     "output_type": "stream",
     "text": [
      "Epoch 3 Step 4680 - avg_train_loss: 0.1110  avg_val_loss: 0.2378\n",
      "Epoch 3 Step 4680 - Score: 0.4853\n",
      "Epoch 3 Step 4680 - Save Best Score: 0.4853 Model\n"
     ]
    },
    {
     "name": "stdout",
     "output_type": "stream",
     "text": [
      "EVAL: [1028/1029] Elapsed 5m 17s (remain 0m 0s) \n",
      "Epoch: [3][4700/5108] Loss: [0.11097687331273666]Elapsed 36m 48s (remain 3m 11s) \n",
      "Epoch: [3][4800/5108] Loss: [0.11130078066346835]Elapsed 37m 14s (remain 2m 22s) \n",
      "Epoch: [3][4900/5108] Loss: [0.11168263954569665]Elapsed 37m 41s (remain 1m 35s) \n",
      "Epoch: [3][5000/5108] Loss: [0.11146147689323425]Elapsed 38m 7s (remain 0m 48s) \n",
      "Epoch: [3][5100/5108] Loss: [0.11124565377374901]Elapsed 38m 33s (remain 0m 3s) \n"
     ]
    },
    {
     "name": "stderr",
     "output_type": "stream",
     "text": [
      "Epoch 3 - avg_train_loss: 0.1113  avg_val_loss: 0.2378  time: 2316s\n",
      "Epoch 3 - Score: 0.4853\n"
     ]
    },
    {
     "name": "stdout",
     "output_type": "stream",
     "text": [
      "Epoch: [3][5107/5108] Loss: [0.1112798269412921]Elapsed 38m 35s (remain 0m 0s) \n",
      "Epoch: [4][0/5108] Loss: [0.04094325378537178]Elapsed 0m 0s (remain 17m 54s) \n",
      "Epoch: [4][100/5108] Loss: [0.06600729200993619]Elapsed 0m 27s (remain 22m 29s) \n",
      "Epoch: [4][200/5108] Loss: [0.06621803585958287]Elapsed 0m 54s (remain 22m 20s) \n",
      "Epoch: [4][300/5108] Loss: [0.06608152489649345]Elapsed 1m 19s (remain 21m 11s) \n",
      "Epoch: [4][400/5108] Loss: [0.06396955739324413]Elapsed 1m 43s (remain 20m 19s) \n",
      "Epoch: [4][500/5108] Loss: [0.06439701601054972]Elapsed 2m 9s (remain 19m 52s) \n",
      "Epoch: [4][600/5108] Loss: [0.06435160193732357]Elapsed 2m 34s (remain 19m 20s) \n",
      "Epoch: [4][700/5108] Loss: [0.06412532575519077]Elapsed 3m 0s (remain 18m 56s) \n",
      "Epoch: [4][800/5108] Loss: [0.06434381180784594]Elapsed 3m 26s (remain 18m 27s) \n",
      "Epoch: [4][900/5108] Loss: [0.06441224647539268]Elapsed 3m 50s (remain 17m 54s) \n",
      "Epoch: [4][1000/5108] Loss: [0.06347517567855748]Elapsed 4m 12s (remain 17m 17s) \n",
      "Epoch: [4][1100/5108] Loss: [0.06258687207801739]Elapsed 4m 35s (remain 16m 43s) \n",
      "Epoch: [4][1200/5108] Loss: [0.06343188861254832]Elapsed 4m 58s (remain 16m 11s) \n",
      "Epoch: [4][1300/5108] Loss: [0.06303912229603416]Elapsed 5m 21s (remain 15m 41s) \n",
      "Epoch: [4][1400/5108] Loss: [0.06211182982508676]Elapsed 5m 44s (remain 15m 11s) \n",
      "Epoch: [4][1500/5108] Loss: [0.06121169669215553]Elapsed 6m 7s (remain 14m 43s) \n",
      "EVAL: [0/1029] Elapsed 0m 0s (remain 4m 25s) \n",
      "EVAL: [100/1029] Elapsed 0m 26s (remain 4m 2s) \n",
      "EVAL: [200/1029] Elapsed 0m 52s (remain 3m 37s) \n",
      "EVAL: [300/1029] Elapsed 1m 19s (remain 3m 11s) \n",
      "EVAL: [400/1029] Elapsed 1m 49s (remain 2m 51s) \n",
      "EVAL: [500/1029] Elapsed 2m 20s (remain 2m 28s) \n",
      "EVAL: [600/1029] Elapsed 2m 53s (remain 2m 3s) \n",
      "EVAL: [700/1029] Elapsed 3m 27s (remain 1m 36s) \n",
      "EVAL: [800/1029] Elapsed 4m 0s (remain 1m 8s) \n",
      "EVAL: [900/1029] Elapsed 4m 33s (remain 0m 38s) \n",
      "EVAL: [1000/1029] Elapsed 5m 7s (remain 0m 8s) \n"
     ]
    },
    {
     "name": "stderr",
     "output_type": "stream",
     "text": [
      "Epoch 4 Step 1560 - avg_train_loss: 0.0610  avg_val_loss: 0.2519\n",
      "Epoch 4 Step 1560 - Score: 0.5004\n"
     ]
    },
    {
     "name": "stdout",
     "output_type": "stream",
     "text": [
      "EVAL: [1028/1029] Elapsed 5m 16s (remain 0m 0s) \n",
      "Epoch: [4][1600/5108] Loss: [0.06080512422646827]Elapsed 11m 48s (remain 25m 52s) \n",
      "Epoch: [4][1700/5108] Loss: [0.06041663282162814]Elapsed 12m 16s (remain 24m 34s) \n",
      "Epoch: [4][1800/5108] Loss: [0.061078825690033686]Elapsed 12m 44s (remain 23m 24s) \n",
      "Epoch: [4][1900/5108] Loss: [0.06275211289035175]Elapsed 13m 11s (remain 22m 14s) \n",
      "Epoch: [4][2000/5108] Loss: [0.06238338951358252]Elapsed 13m 36s (remain 21m 7s) \n",
      "Epoch: [4][2100/5108] Loss: [0.062386719127739854]Elapsed 14m 0s (remain 20m 3s) \n",
      "Epoch: [4][2200/5108] Loss: [0.06186118832169634]Elapsed 14m 23s (remain 19m 0s) \n",
      "Epoch: [4][2300/5108] Loss: [0.061336743157301]Elapsed 14m 47s (remain 18m 2s) \n",
      "Epoch: [4][2400/5108] Loss: [0.06161555954377744]Elapsed 15m 12s (remain 17m 8s) \n",
      "Epoch: [4][2500/5108] Loss: [0.062204971815129385]Elapsed 15m 37s (remain 16m 17s) \n",
      "Epoch: [4][2600/5108] Loss: [0.06174338382413859]Elapsed 16m 3s (remain 15m 28s) \n",
      "Epoch: [4][2700/5108] Loss: [0.06166369461707287]Elapsed 16m 28s (remain 14m 40s) \n",
      "Epoch: [4][2800/5108] Loss: [0.061883709337150095]Elapsed 16m 53s (remain 13m 54s) \n",
      "Epoch: [4][2900/5108] Loss: [0.062336612500629066]Elapsed 17m 18s (remain 13m 10s) \n",
      "Epoch: [4][3000/5108] Loss: [0.06263067222398826]Elapsed 17m 44s (remain 12m 27s) \n",
      "Epoch: [4][3100/5108] Loss: [0.062136326310071155]Elapsed 18m 9s (remain 11m 45s) \n",
      "EVAL: [0/1029] Elapsed 0m 0s (remain 4m 55s) \n",
      "EVAL: [100/1029] Elapsed 0m 29s (remain 4m 33s) \n",
      "EVAL: [200/1029] Elapsed 0m 59s (remain 4m 5s) \n",
      "EVAL: [300/1029] Elapsed 1m 29s (remain 3m 35s) \n",
      "EVAL: [400/1029] Elapsed 1m 59s (remain 3m 6s) \n",
      "EVAL: [500/1029] Elapsed 2m 28s (remain 2m 36s) \n",
      "EVAL: [600/1029] Elapsed 2m 58s (remain 2m 7s) \n",
      "EVAL: [700/1029] Elapsed 3m 28s (remain 1m 37s) \n",
      "EVAL: [800/1029] Elapsed 3m 57s (remain 1m 7s) \n",
      "EVAL: [900/1029] Elapsed 4m 26s (remain 0m 37s) \n",
      "EVAL: [1000/1029] Elapsed 4m 57s (remain 0m 8s) \n"
     ]
    },
    {
     "name": "stderr",
     "output_type": "stream",
     "text": [
      "Epoch 4 Step 3120 - avg_train_loss: 0.0621  avg_val_loss: 0.2589\n",
      "Epoch 4 Step 3120 - Score: 0.5063\n"
     ]
    },
    {
     "name": "stdout",
     "output_type": "stream",
     "text": [
      "EVAL: [1028/1029] Elapsed 5m 6s (remain 0m 0s) \n",
      "Epoch: [4][3200/5108] Loss: [0.061940569778777266]Elapsed 23m 42s (remain 14m 7s) \n",
      "Epoch: [4][3300/5108] Loss: [0.06203848462565158]Elapsed 24m 9s (remain 13m 13s) \n",
      "Epoch: [4][3400/5108] Loss: [0.06186897498214035]Elapsed 24m 36s (remain 12m 20s) \n",
      "Epoch: [4][3500/5108] Loss: [0.06147717337098241]Elapsed 25m 2s (remain 11m 29s) \n",
      "Epoch: [4][3600/5108] Loss: [0.06113630862210955]Elapsed 25m 28s (remain 10m 39s) \n",
      "Epoch: [4][3700/5108] Loss: [0.0612984222106757]Elapsed 25m 55s (remain 9m 51s) \n",
      "Epoch: [4][3800/5108] Loss: [0.06085040793316396]Elapsed 26m 22s (remain 9m 4s) \n",
      "Epoch: [4][3900/5108] Loss: [0.06105203062445726]Elapsed 26m 48s (remain 8m 17s) \n",
      "Epoch: [4][4000/5108] Loss: [0.061020598818107064]Elapsed 27m 15s (remain 7m 32s) \n",
      "Epoch: [4][4100/5108] Loss: [0.06093122907165686]Elapsed 27m 42s (remain 6m 48s) \n",
      "Epoch: [4][4200/5108] Loss: [0.06094132252764424]Elapsed 28m 9s (remain 6m 4s) \n",
      "Epoch: [4][4300/5108] Loss: [0.06088670700236306]Elapsed 28m 35s (remain 5m 21s) \n",
      "Epoch: [4][4400/5108] Loss: [0.06062188807595243]Elapsed 29m 2s (remain 4m 39s) \n",
      "Epoch: [4][4500/5108] Loss: [0.06047781133561371]Elapsed 29m 30s (remain 3m 58s) \n",
      "Epoch: [4][4600/5108] Loss: [0.060305794532055534]Elapsed 29m 57s (remain 3m 18s) \n",
      "EVAL: [0/1029] Elapsed 0m 0s (remain 5m 44s) \n",
      "EVAL: [100/1029] Elapsed 0m 31s (remain 4m 51s) \n",
      "EVAL: [200/1029] Elapsed 1m 2s (remain 4m 17s) \n",
      "EVAL: [300/1029] Elapsed 1m 34s (remain 3m 47s) \n",
      "EVAL: [400/1029] Elapsed 2m 5s (remain 3m 16s) \n",
      "EVAL: [500/1029] Elapsed 2m 36s (remain 2m 45s) \n",
      "EVAL: [600/1029] Elapsed 3m 8s (remain 2m 14s) \n",
      "EVAL: [700/1029] Elapsed 3m 39s (remain 1m 42s) \n",
      "EVAL: [800/1029] Elapsed 4m 11s (remain 1m 11s) \n",
      "EVAL: [900/1029] Elapsed 4m 43s (remain 0m 40s) \n",
      "EVAL: [1000/1029] Elapsed 5m 15s (remain 0m 8s) \n"
     ]
    },
    {
     "name": "stderr",
     "output_type": "stream",
     "text": [
      "Epoch 4 Step 4680 - avg_train_loss: 0.0603  avg_val_loss: 0.2585\n",
      "Epoch 4 Step 4680 - Score: 0.5054\n"
     ]
    },
    {
     "name": "stdout",
     "output_type": "stream",
     "text": [
      "EVAL: [1028/1029] Elapsed 5m 23s (remain 0m 0s) \n",
      "Epoch: [4][4700/5108] Loss: [0.060217705821013524]Elapsed 35m 48s (remain 3m 5s) \n",
      "Epoch: [4][4800/5108] Loss: [0.0600280982063653]Elapsed 36m 14s (remain 2m 19s) \n",
      "Epoch: [4][4900/5108] Loss: [0.06008591833477044]Elapsed 36m 41s (remain 1m 32s) \n",
      "Epoch: [4][5000/5108] Loss: [0.059980737563548846]Elapsed 37m 8s (remain 0m 47s) \n",
      "Epoch: [4][5100/5108] Loss: [0.059924306167904964]Elapsed 37m 35s (remain 0m 3s) \n"
     ]
    },
    {
     "name": "stderr",
     "output_type": "stream",
     "text": [
      "Epoch 4 - avg_train_loss: 0.0599  avg_val_loss: 0.2585  time: 2258s\n"
     ]
    },
    {
     "name": "stdout",
     "output_type": "stream",
     "text": [
      "Epoch: [4][5107/5108] Loss: [0.05992736271521489]Elapsed 37m 37s (remain 0m 0s) \n"
     ]
    },
    {
     "name": "stderr",
     "output_type": "stream",
     "text": [
      "Epoch 4 - Score: 0.5054\n",
      "========== fold: 0 result ==========\n",
      "Score: 0.4853\n",
      "-------------fold:1 training-------------\n",
      "Some weights of the model checkpoint at microsoft/deberta-v3-large were not used when initializing DebertaV2Model: ['lm_predictions.lm_head.LayerNorm.weight', 'mask_predictions.LayerNorm.bias', 'mask_predictions.dense.bias', 'lm_predictions.lm_head.dense.bias', 'lm_predictions.lm_head.bias', 'mask_predictions.classifier.bias', 'mask_predictions.classifier.weight', 'lm_predictions.lm_head.LayerNorm.bias', 'mask_predictions.dense.weight', 'mask_predictions.LayerNorm.weight', 'lm_predictions.lm_head.dense.weight']\n",
      "- This IS expected if you are initializing DebertaV2Model from the checkpoint of a model trained on another task or with another architecture (e.g. initializing a BertForSequenceClassification model from a BertForPreTraining model).\n",
      "- This IS NOT expected if you are initializing DebertaV2Model from the checkpoint of a model that you expect to be exactly identical (initializing a BertForSequenceClassification model from a BertForSequenceClassification model).\n"
     ]
    },
    {
     "name": "stdout",
     "output_type": "stream",
     "text": [
      "Epoch: [1][0/5156] Loss: [5.304915428161621]Elapsed 0m 0s (remain 17m 59s) \n",
      "Epoch: [1][100/5156] Loss: [1.3948432911662292]Elapsed 0m 26s (remain 22m 1s) \n",
      "Epoch: [1][200/5156] Loss: [0.9289316934317962]Elapsed 0m 53s (remain 21m 54s) \n",
      "Epoch: [1][300/5156] Loss: [0.7687891150706376]Elapsed 1m 20s (remain 21m 39s) \n",
      "Epoch: [1][400/5156] Loss: [0.6608519309416339]Elapsed 1m 47s (remain 21m 19s) \n",
      "Epoch: [1][500/5156] Loss: [0.6076356207648899]Elapsed 2m 14s (remain 20m 54s) \n",
      "Epoch: [1][600/5156] Loss: [0.5589462680143216]Elapsed 2m 41s (remain 20m 22s) \n",
      "Epoch: [1][700/5156] Loss: [0.5154475952744731]Elapsed 3m 7s (remain 19m 52s) \n",
      "Epoch: [1][800/5156] Loss: [0.48204186445084074]Elapsed 3m 34s (remain 19m 25s) \n",
      "Epoch: [1][900/5156] Loss: [0.46349226336393373]Elapsed 4m 0s (remain 18m 57s) \n",
      "Epoch: [1][1000/5156] Loss: [0.45168295503232525]Elapsed 4m 28s (remain 18m 34s) \n",
      "Epoch: [1][1100/5156] Loss: [0.4336406167263087]Elapsed 4m 56s (remain 18m 11s) \n",
      "Epoch: [1][1200/5156] Loss: [0.4199856452530073]Elapsed 5m 23s (remain 17m 44s) \n",
      "Epoch: [1][1300/5156] Loss: [0.4123497339772702]Elapsed 5m 50s (remain 17m 17s) \n",
      "Epoch: [1][1400/5156] Loss: [0.40625803650436215]Elapsed 6m 18s (remain 16m 53s) \n",
      "Epoch: [1][1500/5156] Loss: [0.3974403477436284]Elapsed 6m 45s (remain 16m 26s) \n",
      "EVAL: [0/1005] Elapsed 0m 0s (remain 5m 15s) \n",
      "EVAL: [100/1005] Elapsed 0m 31s (remain 4m 39s) \n",
      "EVAL: [200/1005] Elapsed 1m 3s (remain 4m 12s) \n",
      "EVAL: [300/1005] Elapsed 1m 35s (remain 3m 42s) \n",
      "EVAL: [400/1005] Elapsed 2m 6s (remain 3m 10s) \n",
      "EVAL: [500/1005] Elapsed 2m 37s (remain 2m 38s) \n",
      "EVAL: [600/1005] Elapsed 3m 8s (remain 2m 6s) \n",
      "EVAL: [700/1005] Elapsed 3m 39s (remain 1m 35s) \n",
      "EVAL: [800/1005] Elapsed 4m 11s (remain 1m 4s) \n",
      "EVAL: [900/1005] Elapsed 4m 41s (remain 0m 32s) \n",
      "EVAL: [1000/1005] Elapsed 5m 14s (remain 0m 1s) \n"
     ]
    },
    {
     "name": "stderr",
     "output_type": "stream",
     "text": [
      "Epoch 1 Step 1560 - avg_train_loss: 0.3932  avg_val_loss: 0.4586\n",
      "Epoch 1 Step 1560 - Score: 0.6643\n",
      "Epoch 1 Step 1560 - Save Best Score: 0.6643 Model\n"
     ]
    },
    {
     "name": "stdout",
     "output_type": "stream",
     "text": [
      "EVAL: [1004/1005] Elapsed 5m 15s (remain 0m 0s) \n",
      "Epoch: [1][1600/5156] Loss: [0.3934382969946762]Elapsed 12m 38s (remain 28m 3s) \n",
      "Epoch: [1][1700/5156] Loss: [0.38849805066309145]Elapsed 13m 4s (remain 26m 34s) \n",
      "Epoch: [1][1800/5156] Loss: [0.3798483985325388]Elapsed 13m 31s (remain 25m 11s) \n",
      "Epoch: [1][1900/5156] Loss: [0.37357706853735645]Elapsed 13m 58s (remain 23m 54s) \n",
      "Epoch: [1][2000/5156] Loss: [0.36948319686968983]Elapsed 14m 25s (remain 22m 44s) \n",
      "Epoch: [1][2100/5156] Loss: [0.36492762567000214]Elapsed 14m 52s (remain 21m 37s) \n",
      "Epoch: [1][2200/5156] Loss: [0.3589598916085524]Elapsed 15m 18s (remain 20m 33s) \n",
      "Epoch: [1][2300/5156] Loss: [0.35390045672894077]Elapsed 15m 45s (remain 19m 33s) \n",
      "Epoch: [1][2400/5156] Loss: [0.34856625994437945]Elapsed 16m 12s (remain 18m 36s) \n",
      "Epoch: [1][2500/5156] Loss: [0.3445856672058792]Elapsed 16m 41s (remain 17m 42s) \n",
      "Epoch: [1][2600/5156] Loss: [0.34017662969300577]Elapsed 17m 8s (remain 16m 50s) \n",
      "Epoch: [1][2700/5156] Loss: [0.33736826486540544]Elapsed 17m 35s (remain 15m 59s) \n",
      "Epoch: [1][2800/5156] Loss: [0.33285946363635716]Elapsed 18m 2s (remain 15m 10s) \n",
      "Epoch: [1][2900/5156] Loss: [0.32957758896949463]Elapsed 18m 28s (remain 14m 21s) \n",
      "Epoch: [1][3000/5156] Loss: [0.3298407930443866]Elapsed 18m 54s (remain 13m 34s) \n",
      "Epoch: [1][3100/5156] Loss: [0.32919336432031393]Elapsed 19m 20s (remain 12m 48s) \n",
      "EVAL: [0/1005] Elapsed 0m 0s (remain 5m 34s) \n",
      "EVAL: [100/1005] Elapsed 0m 33s (remain 5m 0s) \n",
      "EVAL: [200/1005] Elapsed 1m 4s (remain 4m 16s) \n",
      "EVAL: [300/1005] Elapsed 1m 33s (remain 3m 37s) \n",
      "EVAL: [400/1005] Elapsed 2m 2s (remain 3m 4s) \n",
      "EVAL: [500/1005] Elapsed 2m 34s (remain 2m 35s) \n",
      "EVAL: [600/1005] Elapsed 3m 7s (remain 2m 6s) \n",
      "EVAL: [700/1005] Elapsed 3m 40s (remain 1m 35s) \n",
      "EVAL: [800/1005] Elapsed 4m 14s (remain 1m 4s) \n",
      "EVAL: [900/1005] Elapsed 4m 47s (remain 0m 33s) \n",
      "EVAL: [1000/1005] Elapsed 5m 17s (remain 0m 1s) \n"
     ]
    },
    {
     "name": "stderr",
     "output_type": "stream",
     "text": [
      "Epoch 1 Step 3120 - avg_train_loss: 0.3282  avg_val_loss: 0.6864\n",
      "Epoch 1 Step 3120 - Score: 0.8036\n"
     ]
    },
    {
     "name": "stdout",
     "output_type": "stream",
     "text": [
      "EVAL: [1004/1005] Elapsed 5m 18s (remain 0m 0s) \n",
      "Epoch: [1][3200/5156] Loss: [0.32775328288445243]Elapsed 25m 4s (remain 15m 19s) \n",
      "Epoch: [1][3300/5156] Loss: [0.3264011352121691]Elapsed 25m 30s (remain 14m 20s) \n",
      "Epoch: [1][3400/5156] Loss: [0.325119219889804]Elapsed 25m 56s (remain 13m 23s) \n",
      "Epoch: [1][3500/5156] Loss: [0.32544063068590134]Elapsed 26m 22s (remain 12m 28s) \n",
      "Epoch: [1][3600/5156] Loss: [0.32466170753494117]Elapsed 26m 48s (remain 11m 34s) \n",
      "Epoch: [1][3700/5156] Loss: [0.3228290339582126]Elapsed 27m 14s (remain 10m 42s) \n",
      "Epoch: [1][3800/5156] Loss: [0.3214258877881042]Elapsed 27m 40s (remain 9m 51s) \n",
      "Epoch: [1][3900/5156] Loss: [0.3214120450469188]Elapsed 28m 6s (remain 9m 2s) \n",
      "Epoch: [1][4000/5156] Loss: [0.3189666778491873]Elapsed 28m 32s (remain 8m 14s) \n",
      "Epoch: [1][4100/5156] Loss: [0.3171038611154616]Elapsed 28m 58s (remain 7m 27s) \n",
      "Epoch: [1][4200/5156] Loss: [0.31574601577355915]Elapsed 29m 24s (remain 6m 41s) \n",
      "Epoch: [1][4300/5156] Loss: [0.3148367602377959]Elapsed 29m 50s (remain 5m 55s) \n",
      "Epoch: [1][4400/5156] Loss: [0.3127834937484483]Elapsed 30m 16s (remain 5m 11s) \n",
      "Epoch: [1][4500/5156] Loss: [0.31082181696763084]Elapsed 30m 42s (remain 4m 28s) \n",
      "Epoch: [1][4600/5156] Loss: [0.3093020816577649]Elapsed 31m 7s (remain 3m 45s) \n",
      "EVAL: [0/1005] Elapsed 0m 0s (remain 5m 2s) \n",
      "EVAL: [100/1005] Elapsed 0m 30s (remain 4m 32s) \n",
      "EVAL: [200/1005] Elapsed 1m 0s (remain 4m 2s) \n",
      "EVAL: [300/1005] Elapsed 1m 30s (remain 3m 32s) \n",
      "EVAL: [400/1005] Elapsed 2m 0s (remain 3m 1s) \n",
      "EVAL: [500/1005] Elapsed 2m 30s (remain 2m 31s) \n",
      "EVAL: [600/1005] Elapsed 3m 1s (remain 2m 1s) \n",
      "EVAL: [700/1005] Elapsed 3m 31s (remain 1m 31s) \n",
      "EVAL: [800/1005] Elapsed 4m 1s (remain 1m 1s) \n",
      "EVAL: [900/1005] Elapsed 4m 31s (remain 0m 31s) \n",
      "EVAL: [1000/1005] Elapsed 5m 1s (remain 0m 1s) \n"
     ]
    },
    {
     "name": "stderr",
     "output_type": "stream",
     "text": [
      "Epoch 1 Step 4680 - avg_train_loss: 0.3069  avg_val_loss: 0.6004\n",
      "Epoch 1 Step 4680 - Score: 0.7456\n"
     ]
    },
    {
     "name": "stdout",
     "output_type": "stream",
     "text": [
      "EVAL: [1004/1005] Elapsed 5m 2s (remain 0m 0s) \n",
      "Epoch: [1][4700/5156] Loss: [0.30686981568142707]Elapsed 36m 36s (remain 3m 32s) \n",
      "Epoch: [1][4800/5156] Loss: [0.30435105338310436]Elapsed 37m 2s (remain 2m 44s) \n",
      "Epoch: [1][4900/5156] Loss: [0.30299082483123846]Elapsed 37m 28s (remain 1m 56s) \n",
      "Epoch: [1][5000/5156] Loss: [0.30237300004168005]Elapsed 37m 54s (remain 1m 10s) \n",
      "Epoch: [1][5100/5156] Loss: [0.3016945804985903]Elapsed 38m 20s (remain 0m 24s) \n"
     ]
    },
    {
     "name": "stderr",
     "output_type": "stream",
     "text": [
      "Epoch 1 - avg_train_loss: 0.3003  avg_val_loss: 0.6004  time: 2315s\n",
      "Epoch 1 - Score: 0.7456\n"
     ]
    },
    {
     "name": "stdout",
     "output_type": "stream",
     "text": [
      "Epoch: [1][5155/5156] Loss: [0.30032470919161464]Elapsed 38m 34s (remain 0m 0s) \n",
      "Epoch: [2][0/5156] Loss: [0.1730145514011383]Elapsed 0m 0s (remain 18m 7s) \n",
      "Epoch: [2][100/5156] Loss: [0.16715783035292722]Elapsed 0m 25s (remain 21m 39s) \n",
      "Epoch: [2][200/5156] Loss: [0.22739005725123035]Elapsed 0m 51s (remain 21m 18s) \n",
      "Epoch: [2][300/5156] Loss: [0.20730655136490334]Elapsed 1m 17s (remain 20m 54s) \n",
      "Epoch: [2][400/5156] Loss: [0.19659115336696034]Elapsed 1m 43s (remain 20m 30s) \n",
      "Epoch: [2][500/5156] Loss: [0.18411863365228254]Elapsed 2m 9s (remain 20m 5s) \n",
      "Epoch: [2][600/5156] Loss: [0.1852145099810196]Elapsed 2m 35s (remain 19m 39s) \n",
      "Epoch: [2][700/5156] Loss: [0.1825156503927611]Elapsed 3m 1s (remain 19m 13s) \n",
      "Epoch: [2][800/5156] Loss: [0.18249523240029952]Elapsed 3m 27s (remain 18m 48s) \n",
      "Epoch: [2][900/5156] Loss: [0.17929604947772426]Elapsed 3m 53s (remain 18m 22s) \n",
      "Epoch: [2][1000/5156] Loss: [0.18320616228705072]Elapsed 4m 19s (remain 17m 56s) \n",
      "Epoch: [2][1100/5156] Loss: [0.18460140179350615]Elapsed 4m 45s (remain 17m 30s) \n",
      "Epoch: [2][1200/5156] Loss: [0.18482619952892212]Elapsed 5m 11s (remain 17m 5s) \n",
      "Epoch: [2][1300/5156] Loss: [0.1852004172989213]Elapsed 5m 37s (remain 16m 39s) \n",
      "Epoch: [2][1400/5156] Loss: [0.18444653873124608]Elapsed 6m 3s (remain 16m 13s) \n",
      "Epoch: [2][1500/5156] Loss: [0.18296889617829257]Elapsed 6m 29s (remain 15m 47s) \n",
      "EVAL: [0/1005] Elapsed 0m 0s (remain 5m 2s) \n",
      "EVAL: [100/1005] Elapsed 0m 30s (remain 4m 32s) \n",
      "EVAL: [200/1005] Elapsed 1m 0s (remain 4m 2s) \n",
      "EVAL: [300/1005] Elapsed 1m 30s (remain 3m 31s) \n",
      "EVAL: [400/1005] Elapsed 2m 0s (remain 3m 1s) \n",
      "EVAL: [500/1005] Elapsed 2m 30s (remain 2m 31s) \n",
      "EVAL: [600/1005] Elapsed 3m 1s (remain 2m 1s) \n",
      "EVAL: [700/1005] Elapsed 3m 31s (remain 1m 31s) \n",
      "EVAL: [800/1005] Elapsed 4m 1s (remain 1m 1s) \n",
      "EVAL: [900/1005] Elapsed 4m 31s (remain 0m 31s) \n",
      "EVAL: [1000/1005] Elapsed 5m 1s (remain 0m 1s) \n"
     ]
    },
    {
     "name": "stderr",
     "output_type": "stream",
     "text": [
      "Epoch 2 Step 1560 - avg_train_loss: 0.1818  avg_val_loss: 0.5023\n",
      "Epoch 2 Step 1560 - Score: 0.6860\n"
     ]
    },
    {
     "name": "stdout",
     "output_type": "stream",
     "text": [
      "EVAL: [1004/1005] Elapsed 5m 2s (remain 0m 0s) \n",
      "Epoch: [2][1600/5156] Loss: [0.1818738140195328]Elapsed 11m 57s (remain 26m 33s) \n",
      "Epoch: [2][1700/5156] Loss: [0.17898976910782147]Elapsed 12m 23s (remain 25m 10s) \n",
      "Epoch: [2][1800/5156] Loss: [0.18171266596795352]Elapsed 12m 49s (remain 23m 53s) \n",
      "Epoch: [2][1900/5156] Loss: [0.18125385365727897]Elapsed 13m 15s (remain 22m 42s) \n",
      "Epoch: [2][2000/5156] Loss: [0.181258292338203]Elapsed 13m 41s (remain 21m 35s) \n",
      "Epoch: [2][2100/5156] Loss: [0.181208110209929]Elapsed 14m 7s (remain 20m 32s) \n",
      "Epoch: [2][2200/5156] Loss: [0.17935975073412128]Elapsed 14m 33s (remain 19m 32s) \n",
      "Epoch: [2][2300/5156] Loss: [0.17794506879346725]Elapsed 14m 59s (remain 18m 36s) \n",
      "Epoch: [2][2400/5156] Loss: [0.17806497346943415]Elapsed 15m 25s (remain 17m 41s) \n",
      "Epoch: [2][2500/5156] Loss: [0.17815975669754164]Elapsed 15m 51s (remain 16m 49s) \n",
      "Epoch: [2][2600/5156] Loss: [0.17898555750530423]Elapsed 16m 17s (remain 16m 0s) \n",
      "Epoch: [2][2700/5156] Loss: [0.18069750190231634]Elapsed 16m 43s (remain 15m 11s) \n",
      "Epoch: [2][2800/5156] Loss: [0.17922741034759468]Elapsed 17m 9s (remain 14m 25s) \n",
      "Epoch: [2][2900/5156] Loss: [0.1789799422704449]Elapsed 17m 35s (remain 13m 40s) \n",
      "Epoch: [2][3000/5156] Loss: [0.17770402594557352]Elapsed 18m 1s (remain 12m 56s) \n",
      "Epoch: [2][3100/5156] Loss: [0.1780551827493404]Elapsed 18m 27s (remain 12m 13s) \n",
      "EVAL: [0/1005] Elapsed 0m 0s (remain 5m 2s) \n",
      "EVAL: [100/1005] Elapsed 0m 30s (remain 4m 32s) \n",
      "EVAL: [200/1005] Elapsed 1m 0s (remain 4m 2s) \n",
      "EVAL: [300/1005] Elapsed 1m 30s (remain 3m 32s) \n",
      "EVAL: [400/1005] Elapsed 2m 0s (remain 3m 1s) \n",
      "EVAL: [500/1005] Elapsed 2m 30s (remain 2m 31s) \n",
      "EVAL: [600/1005] Elapsed 3m 1s (remain 2m 1s) \n",
      "EVAL: [700/1005] Elapsed 3m 31s (remain 1m 31s) \n",
      "EVAL: [800/1005] Elapsed 4m 1s (remain 1m 1s) \n",
      "EVAL: [900/1005] Elapsed 4m 31s (remain 0m 31s) \n",
      "EVAL: [1000/1005] Elapsed 5m 1s (remain 0m 1s) \n"
     ]
    },
    {
     "name": "stderr",
     "output_type": "stream",
     "text": [
      "Epoch 2 Step 3120 - avg_train_loss: 0.1780  avg_val_loss: 0.5612\n",
      "Epoch 2 Step 3120 - Score: 0.7263\n"
     ]
    },
    {
     "name": "stdout",
     "output_type": "stream",
     "text": [
      "EVAL: [1004/1005] Elapsed 5m 2s (remain 0m 0s) \n",
      "Epoch: [2][3200/5156] Loss: [0.17821324569133443]Elapsed 23m 55s (remain 14m 36s) \n",
      "Epoch: [2][3300/5156] Loss: [0.17843405733708692]Elapsed 24m 21s (remain 13m 41s) \n",
      "Epoch: [2][3400/5156] Loss: [0.18023933905346734]Elapsed 24m 47s (remain 12m 47s) \n",
      "Epoch: [2][3500/5156] Loss: [0.17987744288055293]Elapsed 25m 13s (remain 11m 55s) \n",
      "Epoch: [2][3600/5156] Loss: [0.18013225435705077]Elapsed 25m 39s (remain 11m 4s) \n",
      "Epoch: [2][3700/5156] Loss: [0.1794867703119869]Elapsed 26m 5s (remain 10m 15s) \n",
      "Epoch: [2][3800/5156] Loss: [0.1802947767289686]Elapsed 26m 31s (remain 9m 27s) \n",
      "Epoch: [2][3900/5156] Loss: [0.17961564028615448]Elapsed 26m 57s (remain 8m 40s) \n",
      "Epoch: [2][4000/5156] Loss: [0.17896707965509678]Elapsed 27m 23s (remain 7m 54s) \n",
      "Epoch: [2][4100/5156] Loss: [0.17782932036630167]Elapsed 27m 49s (remain 7m 9s) \n",
      "Epoch: [2][4200/5156] Loss: [0.17905326705981645]Elapsed 28m 15s (remain 6m 25s) \n",
      "Epoch: [2][4300/5156] Loss: [0.1781596308572727]Elapsed 28m 41s (remain 5m 42s) \n",
      "Epoch: [2][4400/5156] Loss: [0.17796915851456596]Elapsed 29m 7s (remain 4m 59s) \n",
      "Epoch: [2][4500/5156] Loss: [0.17783377302440534]Elapsed 29m 33s (remain 4m 18s) \n",
      "Epoch: [2][4600/5156] Loss: [0.17765569665587744]Elapsed 29m 59s (remain 3m 37s) \n",
      "EVAL: [0/1005] Elapsed 0m 0s (remain 5m 2s) \n",
      "EVAL: [100/1005] Elapsed 0m 30s (remain 4m 32s) \n",
      "EVAL: [200/1005] Elapsed 1m 0s (remain 4m 2s) \n",
      "EVAL: [300/1005] Elapsed 1m 30s (remain 3m 32s) \n",
      "EVAL: [400/1005] Elapsed 2m 0s (remain 3m 2s) \n",
      "EVAL: [500/1005] Elapsed 2m 30s (remain 2m 31s) \n",
      "EVAL: [600/1005] Elapsed 3m 1s (remain 2m 1s) \n",
      "EVAL: [700/1005] Elapsed 3m 31s (remain 1m 31s) \n",
      "EVAL: [800/1005] Elapsed 4m 1s (remain 1m 1s) \n",
      "EVAL: [900/1005] Elapsed 4m 31s (remain 0m 31s) \n",
      "EVAL: [1000/1005] Elapsed 5m 1s (remain 0m 1s) \n"
     ]
    },
    {
     "name": "stderr",
     "output_type": "stream",
     "text": [
      "Epoch 2 Step 4680 - avg_train_loss: 0.1771  avg_val_loss: 0.5027\n",
      "Epoch 2 Step 4680 - Score: 0.6867\n"
     ]
    },
    {
     "name": "stdout",
     "output_type": "stream",
     "text": [
      "EVAL: [1004/1005] Elapsed 5m 2s (remain 0m 0s) \n",
      "Epoch: [2][4700/5156] Loss: [0.17684363770026554]Elapsed 35m 27s (remain 3m 25s) \n",
      "Epoch: [2][4800/5156] Loss: [0.17713699988031792]Elapsed 35m 53s (remain 2m 39s) \n",
      "Epoch: [2][4900/5156] Loss: [0.17643642426135694]Elapsed 36m 19s (remain 1m 53s) \n",
      "Epoch: [2][5000/5156] Loss: [0.17576338148517204]Elapsed 36m 45s (remain 1m 8s) \n",
      "Epoch: [2][5100/5156] Loss: [0.17584497407073915]Elapsed 37m 11s (remain 0m 24s) \n"
     ]
    },
    {
     "name": "stderr",
     "output_type": "stream",
     "text": [
      "Epoch 2 - avg_train_loss: 0.1759  avg_val_loss: 0.5027  time: 2246s\n",
      "Epoch 2 - Score: 0.6867\n"
     ]
    },
    {
     "name": "stdout",
     "output_type": "stream",
     "text": [
      "Epoch: [2][5155/5156] Loss: [0.17588368558007023]Elapsed 37m 25s (remain 0m 0s) \n",
      "Epoch: [3][0/5156] Loss: [0.07220237702131271]Elapsed 0m 0s (remain 18m 4s) \n",
      "Epoch: [3][100/5156] Loss: [0.08775792960573153]Elapsed 0m 26s (remain 21m 41s) \n",
      "Epoch: [3][200/5156] Loss: [0.09767684270406984]Elapsed 0m 51s (remain 21m 21s) \n",
      "Epoch: [3][300/5156] Loss: [0.09672669187814993]Elapsed 1m 17s (remain 20m 56s) \n",
      "Epoch: [3][400/5156] Loss: [0.09750824750268915]Elapsed 1m 43s (remain 20m 31s) \n",
      "Epoch: [3][500/5156] Loss: [0.09422599832758718]Elapsed 2m 9s (remain 20m 5s) \n",
      "Epoch: [3][600/5156] Loss: [0.09903708529863117]Elapsed 2m 35s (remain 19m 40s) \n",
      "Epoch: [3][700/5156] Loss: [0.10009215182468277]Elapsed 3m 1s (remain 19m 14s) \n",
      "Epoch: [3][800/5156] Loss: [0.09938869171552749]Elapsed 3m 27s (remain 18m 48s) \n",
      "Epoch: [3][900/5156] Loss: [0.09903912934005529]Elapsed 3m 53s (remain 18m 23s) \n",
      "Epoch: [3][1000/5156] Loss: [0.09981109483116968]Elapsed 4m 19s (remain 17m 57s) \n",
      "Epoch: [3][1100/5156] Loss: [0.09815827281507106]Elapsed 4m 45s (remain 17m 31s) \n",
      "Epoch: [3][1200/5156] Loss: [0.09862452501289562]Elapsed 5m 11s (remain 17m 5s) \n",
      "Epoch: [3][1300/5156] Loss: [0.09852594630634243]Elapsed 5m 37s (remain 16m 39s) \n",
      "Epoch: [3][1400/5156] Loss: [0.09817534991907256]Elapsed 6m 3s (remain 16m 13s) \n",
      "Epoch: [3][1500/5156] Loss: [0.09846381304364898]Elapsed 6m 29s (remain 15m 47s) \n",
      "EVAL: [0/1005] Elapsed 0m 0s (remain 5m 2s) \n",
      "EVAL: [100/1005] Elapsed 0m 30s (remain 4m 32s) \n",
      "EVAL: [200/1005] Elapsed 1m 0s (remain 4m 2s) \n",
      "EVAL: [300/1005] Elapsed 1m 30s (remain 3m 32s) \n",
      "EVAL: [400/1005] Elapsed 2m 0s (remain 3m 1s) \n",
      "EVAL: [500/1005] Elapsed 2m 30s (remain 2m 31s) \n",
      "EVAL: [600/1005] Elapsed 3m 1s (remain 2m 1s) \n",
      "EVAL: [700/1005] Elapsed 3m 31s (remain 1m 31s) \n",
      "EVAL: [800/1005] Elapsed 4m 1s (remain 1m 1s) \n",
      "EVAL: [900/1005] Elapsed 4m 31s (remain 0m 31s) \n",
      "EVAL: [1000/1005] Elapsed 5m 1s (remain 0m 1s) \n"
     ]
    },
    {
     "name": "stderr",
     "output_type": "stream",
     "text": [
      "Epoch 3 Step 1560 - avg_train_loss: 0.0980  avg_val_loss: 0.4635\n",
      "Epoch 3 Step 1560 - Score: 0.6582\n",
      "Epoch 3 Step 1560 - Save Best Score: 0.6582 Model\n"
     ]
    },
    {
     "name": "stdout",
     "output_type": "stream",
     "text": [
      "EVAL: [1004/1005] Elapsed 5m 2s (remain 0m 0s) \n",
      "Epoch: [3][1600/5156] Loss: [0.0975576379239682]Elapsed 12m 6s (remain 26m 52s) \n",
      "Epoch: [3][1700/5156] Loss: [0.0994146295042035]Elapsed 12m 32s (remain 25m 27s) \n",
      "Epoch: [3][1800/5156] Loss: [0.09905009807528681]Elapsed 12m 58s (remain 24m 9s) \n",
      "Epoch: [3][1900/5156] Loss: [0.09818851810927623]Elapsed 13m 24s (remain 22m 56s) \n",
      "Epoch: [3][2000/5156] Loss: [0.09802290876170358]Elapsed 13m 50s (remain 21m 48s) \n",
      "Epoch: [3][2100/5156] Loss: [0.09871815196024387]Elapsed 14m 16s (remain 20m 44s) \n",
      "Epoch: [3][2200/5156] Loss: [0.09879804727811632]Elapsed 14m 41s (remain 19m 44s) \n",
      "Epoch: [3][2300/5156] Loss: [0.09898934023725312]Elapsed 15m 7s (remain 18m 46s) \n",
      "Epoch: [3][2400/5156] Loss: [0.09914948341191977]Elapsed 15m 33s (remain 17m 51s) \n",
      "Epoch: [3][2500/5156] Loss: [0.09880141507295505]Elapsed 15m 59s (remain 16m 58s) \n",
      "Epoch: [3][2600/5156] Loss: [0.09799766123219775]Elapsed 16m 25s (remain 16m 8s) \n",
      "Epoch: [3][2700/5156] Loss: [0.09806469427808155]Elapsed 16m 51s (remain 15m 19s) \n",
      "Epoch: [3][2800/5156] Loss: [0.0973973694676785]Elapsed 17m 17s (remain 14m 32s) \n",
      "Epoch: [3][2900/5156] Loss: [0.09668787206327784]Elapsed 17m 43s (remain 13m 46s) \n",
      "Epoch: [3][3000/5156] Loss: [0.0966646292835667]Elapsed 18m 9s (remain 13m 2s) \n",
      "Epoch: [3][3100/5156] Loss: [0.09833553321302184]Elapsed 18m 35s (remain 12m 19s) \n",
      "EVAL: [0/1005] Elapsed 0m 0s (remain 5m 2s) \n",
      "EVAL: [100/1005] Elapsed 0m 30s (remain 4m 32s) \n",
      "EVAL: [200/1005] Elapsed 1m 0s (remain 4m 2s) \n",
      "EVAL: [300/1005] Elapsed 1m 30s (remain 3m 31s) \n",
      "EVAL: [400/1005] Elapsed 2m 0s (remain 3m 1s) \n",
      "EVAL: [500/1005] Elapsed 2m 30s (remain 2m 31s) \n",
      "EVAL: [600/1005] Elapsed 3m 1s (remain 2m 1s) \n",
      "EVAL: [700/1005] Elapsed 3m 31s (remain 1m 31s) \n",
      "EVAL: [800/1005] Elapsed 4m 1s (remain 1m 1s) \n",
      "EVAL: [900/1005] Elapsed 4m 31s (remain 0m 31s) \n",
      "EVAL: [1000/1005] Elapsed 5m 1s (remain 0m 1s) \n"
     ]
    },
    {
     "name": "stderr",
     "output_type": "stream",
     "text": [
      "Epoch 3 Step 3120 - avg_train_loss: 0.0983  avg_val_loss: 0.4314\n",
      "Epoch 3 Step 3120 - Score: 0.6370\n",
      "Epoch 3 Step 3120 - Save Best Score: 0.6370 Model\n"
     ]
    },
    {
     "name": "stdout",
     "output_type": "stream",
     "text": [
      "EVAL: [1004/1005] Elapsed 5m 2s (remain 0m 0s) \n",
      "Epoch: [3][3200/5156] Loss: [0.09767284986446441]Elapsed 24m 13s (remain 14m 47s) \n",
      "Epoch: [3][3300/5156] Loss: [0.09742270241482444]Elapsed 24m 39s (remain 13m 51s) \n",
      "Epoch: [3][3400/5156] Loss: [0.09733296740085676]Elapsed 25m 5s (remain 12m 56s) \n",
      "Epoch: [3][3500/5156] Loss: [0.09721985774042947]Elapsed 25m 31s (remain 12m 3s) \n",
      "Epoch: [3][3600/5156] Loss: [0.0963089982799884]Elapsed 25m 57s (remain 11m 12s) \n",
      "Epoch: [3][3700/5156] Loss: [0.09622992319469176]Elapsed 26m 23s (remain 10m 22s) \n",
      "Epoch: [3][3800/5156] Loss: [0.09583085734059422]Elapsed 26m 49s (remain 9m 33s) \n",
      "Epoch: [3][3900/5156] Loss: [0.09616835052409832]Elapsed 27m 15s (remain 8m 46s) \n",
      "Epoch: [3][4000/5156] Loss: [0.0958272397678219]Elapsed 27m 41s (remain 7m 59s) \n",
      "Epoch: [3][4100/5156] Loss: [0.09503121844722967]Elapsed 28m 6s (remain 7m 13s) \n",
      "Epoch: [3][4200/5156] Loss: [0.09481375530952998]Elapsed 28m 32s (remain 6m 29s) \n",
      "Epoch: [3][4300/5156] Loss: [0.0944768463828562]Elapsed 28m 58s (remain 5m 45s) \n",
      "Epoch: [3][4400/5156] Loss: [0.09420797447487234]Elapsed 29m 24s (remain 5m 2s) \n",
      "Epoch: [3][4500/5156] Loss: [0.09429638658953254]Elapsed 29m 50s (remain 4m 20s) \n",
      "Epoch: [3][4600/5156] Loss: [0.09417738758576213]Elapsed 30m 16s (remain 3m 39s) \n",
      "EVAL: [0/1005] Elapsed 0m 0s (remain 5m 2s) \n",
      "EVAL: [100/1005] Elapsed 0m 30s (remain 4m 32s) \n",
      "EVAL: [200/1005] Elapsed 1m 1s (remain 4m 4s) \n",
      "EVAL: [300/1005] Elapsed 1m 32s (remain 3m 35s) \n",
      "EVAL: [400/1005] Elapsed 2m 2s (remain 3m 5s) \n",
      "EVAL: [500/1005] Elapsed 2m 33s (remain 2m 34s) \n",
      "EVAL: [600/1005] Elapsed 3m 3s (remain 2m 3s) \n",
      "EVAL: [700/1005] Elapsed 3m 33s (remain 1m 32s) \n",
      "EVAL: [800/1005] Elapsed 4m 4s (remain 1m 2s) \n",
      "EVAL: [900/1005] Elapsed 4m 34s (remain 0m 31s) \n",
      "EVAL: [1000/1005] Elapsed 5m 5s (remain 0m 1s) \n"
     ]
    },
    {
     "name": "stderr",
     "output_type": "stream",
     "text": [
      "Epoch 3 Step 4680 - avg_train_loss: 0.0940  avg_val_loss: 0.4901\n",
      "Epoch 3 Step 4680 - Score: 0.6772\n"
     ]
    },
    {
     "name": "stdout",
     "output_type": "stream",
     "text": [
      "EVAL: [1004/1005] Elapsed 5m 7s (remain 0m 0s) \n",
      "Epoch: [3][4700/5156] Loss: [0.09393133746864335]Elapsed 35m 49s (remain 3m 28s) \n",
      "Epoch: [3][4800/5156] Loss: [0.09374930737768188]Elapsed 36m 16s (remain 2m 40s) \n",
      "Epoch: [3][4900/5156] Loss: [0.09383287891773934]Elapsed 36m 42s (remain 1m 54s) \n",
      "Epoch: [3][5000/5156] Loss: [0.09361217555697944]Elapsed 37m 9s (remain 1m 9s) \n",
      "Epoch: [3][5100/5156] Loss: [0.09333199798133886]Elapsed 37m 35s (remain 0m 24s) \n"
     ]
    },
    {
     "name": "stderr",
     "output_type": "stream",
     "text": [
      "Epoch 3 - avg_train_loss: 0.0934  avg_val_loss: 0.4901  time: 2270s\n",
      "Epoch 3 - Score: 0.6772\n"
     ]
    },
    {
     "name": "stdout",
     "output_type": "stream",
     "text": [
      "Epoch: [3][5155/5156] Loss: [0.09341624165506107]Elapsed 37m 50s (remain 0m 0s) \n",
      "Epoch: [4][0/5156] Loss: [0.00043263891711831093]Elapsed 0m 0s (remain 22m 27s) \n",
      "Epoch: [4][100/5156] Loss: [0.05672167980810627]Elapsed 0m 26s (remain 22m 22s) \n",
      "Epoch: [4][200/5156] Loss: [0.05043870796445428]Elapsed 0m 53s (remain 22m 7s) \n",
      "Epoch: [4][300/5156] Loss: [0.047825205793926816]Elapsed 1m 22s (remain 22m 6s) \n",
      "Epoch: [4][400/5156] Loss: [0.04649919785256962]Elapsed 1m 50s (remain 21m 47s) \n",
      "Epoch: [4][500/5156] Loss: [0.04593730268217094]Elapsed 2m 17s (remain 21m 13s) \n",
      "Epoch: [4][600/5156] Loss: [0.04613628121041197]Elapsed 2m 43s (remain 20m 36s) \n",
      "Epoch: [4][700/5156] Loss: [0.04549075486204061]Elapsed 3m 9s (remain 20m 3s) \n",
      "Epoch: [4][800/5156] Loss: [0.045574632726465586]Elapsed 3m 35s (remain 19m 30s) \n",
      "Epoch: [4][900/5156] Loss: [0.04465275000059987]Elapsed 4m 1s (remain 18m 59s) \n",
      "Epoch: [4][1000/5156] Loss: [0.04483540956256603]Elapsed 4m 27s (remain 18m 30s) \n",
      "Epoch: [4][1100/5156] Loss: [0.044576179250476695]Elapsed 4m 53s (remain 18m 1s) \n",
      "Epoch: [4][1200/5156] Loss: [0.04467591612778862]Elapsed 5m 19s (remain 17m 33s) \n",
      "Epoch: [4][1300/5156] Loss: [0.04481068965219527]Elapsed 5m 46s (remain 17m 6s) \n",
      "Epoch: [4][1400/5156] Loss: [0.04518980814712581]Elapsed 6m 13s (remain 16m 40s) \n",
      "Epoch: [4][1500/5156] Loss: [0.045366760435614356]Elapsed 6m 40s (remain 16m 14s) \n",
      "EVAL: [0/1005] Elapsed 0m 0s (remain 5m 9s) \n",
      "EVAL: [100/1005] Elapsed 0m 32s (remain 4m 47s) \n",
      "EVAL: [200/1005] Elapsed 1m 1s (remain 4m 4s) \n",
      "EVAL: [300/1005] Elapsed 1m 30s (remain 3m 30s) \n",
      "EVAL: [400/1005] Elapsed 2m 0s (remain 3m 1s) \n",
      "EVAL: [500/1005] Elapsed 2m 30s (remain 2m 31s) \n",
      "EVAL: [600/1005] Elapsed 3m 0s (remain 2m 1s) \n",
      "EVAL: [700/1005] Elapsed 3m 29s (remain 1m 31s) \n",
      "EVAL: [800/1005] Elapsed 4m 0s (remain 1m 1s) \n",
      "EVAL: [900/1005] Elapsed 4m 29s (remain 0m 31s) \n",
      "EVAL: [1000/1005] Elapsed 5m 0s (remain 0m 1s) \n"
     ]
    },
    {
     "name": "stderr",
     "output_type": "stream",
     "text": [
      "Epoch 4 Step 1560 - avg_train_loss: 0.0459  avg_val_loss: 0.4715\n",
      "Epoch 4 Step 1560 - Score: 0.6638\n"
     ]
    },
    {
     "name": "stdout",
     "output_type": "stream",
     "text": [
      "EVAL: [1004/1005] Elapsed 5m 1s (remain 0m 0s) \n",
      "Epoch: [4][1600/5156] Loss: [0.045838919741889785]Elapsed 12m 9s (remain 26m 59s) \n",
      "Epoch: [4][1700/5156] Loss: [0.045824515843296915]Elapsed 12m 35s (remain 25m 34s) \n",
      "Epoch: [4][1800/5156] Loss: [0.04602363957271437]Elapsed 13m 2s (remain 24m 17s) \n",
      "Epoch: [4][1900/5156] Loss: [0.04578120432499314]Elapsed 13m 28s (remain 23m 4s) \n",
      "Epoch: [4][2000/5156] Loss: [0.04587617830369705]Elapsed 13m 55s (remain 21m 58s) \n",
      "Epoch: [4][2100/5156] Loss: [0.045844255461235744]Elapsed 14m 21s (remain 20m 53s) \n",
      "Epoch: [4][2200/5156] Loss: [0.045809615960952926]Elapsed 14m 46s (remain 19m 50s) \n",
      "Epoch: [4][2300/5156] Loss: [0.04595297862726872]Elapsed 15m 13s (remain 18m 53s) \n",
      "Epoch: [4][2400/5156] Loss: [0.04598706963929506]Elapsed 15m 39s (remain 17m 57s) \n",
      "Epoch: [4][2500/5156] Loss: [0.04567220040434479]Elapsed 16m 4s (remain 17m 4s) \n",
      "Epoch: [4][2600/5156] Loss: [0.045899826819539497]Elapsed 16m 32s (remain 16m 15s) \n",
      "Epoch: [4][2700/5156] Loss: [0.04718782082540936]Elapsed 16m 59s (remain 15m 26s) \n",
      "Epoch: [4][2800/5156] Loss: [0.047221773410568345]Elapsed 17m 24s (remain 14m 38s) \n",
      "Epoch: [4][2900/5156] Loss: [0.04732197090808832]Elapsed 17m 50s (remain 13m 52s) \n",
      "Epoch: [4][3000/5156] Loss: [0.047203157232636454]Elapsed 18m 15s (remain 13m 6s) \n",
      "Epoch: [4][3100/5156] Loss: [0.0470289873033055]Elapsed 18m 43s (remain 12m 24s) \n",
      "EVAL: [0/1005] Elapsed 0m 0s (remain 5m 35s) \n",
      "EVAL: [100/1005] Elapsed 0m 34s (remain 5m 4s) \n",
      "EVAL: [200/1005] Elapsed 1m 8s (remain 4m 33s) \n",
      "EVAL: [300/1005] Elapsed 1m 42s (remain 3m 59s) \n",
      "EVAL: [400/1005] Elapsed 2m 16s (remain 3m 25s) \n",
      "EVAL: [500/1005] Elapsed 2m 49s (remain 2m 50s) \n",
      "EVAL: [600/1005] Elapsed 3m 24s (remain 2m 17s) \n",
      "EVAL: [700/1005] Elapsed 3m 57s (remain 1m 43s) \n",
      "EVAL: [800/1005] Elapsed 4m 31s (remain 1m 9s) \n",
      "EVAL: [900/1005] Elapsed 5m 6s (remain 0m 35s) \n",
      "EVAL: [1000/1005] Elapsed 5m 40s (remain 0m 1s) \n"
     ]
    },
    {
     "name": "stderr",
     "output_type": "stream",
     "text": [
      "Epoch 4 Step 3120 - avg_train_loss: 0.0469  avg_val_loss: 0.4934\n",
      "Epoch 4 Step 3120 - Score: 0.6765\n"
     ]
    },
    {
     "name": "stdout",
     "output_type": "stream",
     "text": [
      "EVAL: [1004/1005] Elapsed 5m 41s (remain 0m 0s) \n",
      "Epoch: [4][3200/5156] Loss: [0.047264217072340665]Elapsed 24m 54s (remain 15m 12s) \n",
      "Epoch: [4][3300/5156] Loss: [0.04706800835593754]Elapsed 25m 22s (remain 14m 15s) \n",
      "Epoch: [4][3400/5156] Loss: [0.04704524349639566]Elapsed 25m 51s (remain 13m 20s) \n",
      "Epoch: [4][3500/5156] Loss: [0.047052700781344846]Elapsed 26m 19s (remain 12m 26s) \n",
      "Epoch: [4][3600/5156] Loss: [0.04721560656381455]Elapsed 26m 47s (remain 11m 34s) \n",
      "Epoch: [4][3700/5156] Loss: [0.04724410518808513]Elapsed 27m 17s (remain 10m 43s) \n",
      "Epoch: [4][3800/5156] Loss: [0.04746636446556884]Elapsed 27m 44s (remain 9m 53s) \n",
      "Epoch: [4][3900/5156] Loss: [0.047608220250362876]Elapsed 28m 9s (remain 9m 3s) \n",
      "Epoch: [4][4000/5156] Loss: [0.04732836954095655]Elapsed 28m 34s (remain 8m 14s) \n",
      "Epoch: [4][4100/5156] Loss: [0.047258871111945266]Elapsed 28m 59s (remain 7m 27s) \n",
      "Epoch: [4][4200/5156] Loss: [0.047074321865394245]Elapsed 29m 24s (remain 6m 41s) \n",
      "Epoch: [4][4300/5156] Loss: [0.04699014848335016]Elapsed 29m 50s (remain 5m 55s) \n",
      "Epoch: [4][4400/5156] Loss: [0.046923421655667076]Elapsed 30m 16s (remain 5m 11s) \n",
      "Epoch: [4][4500/5156] Loss: [0.04698097836638703]Elapsed 30m 47s (remain 4m 28s) \n",
      "Epoch: [4][4600/5156] Loss: [0.04707768237045214]Elapsed 31m 15s (remain 3m 46s) \n",
      "EVAL: [0/1005] Elapsed 0m 0s (remain 4m 41s) \n",
      "EVAL: [100/1005] Elapsed 0m 28s (remain 4m 17s) \n",
      "EVAL: [200/1005] Elapsed 0m 57s (remain 3m 48s) \n",
      "EVAL: [300/1005] Elapsed 1m 26s (remain 3m 21s) \n",
      "EVAL: [400/1005] Elapsed 1m 57s (remain 2m 57s) \n",
      "EVAL: [500/1005] Elapsed 2m 30s (remain 2m 31s) \n",
      "EVAL: [600/1005] Elapsed 3m 3s (remain 2m 3s) \n",
      "EVAL: [700/1005] Elapsed 3m 34s (remain 1m 33s) \n",
      "EVAL: [800/1005] Elapsed 4m 3s (remain 1m 2s) \n",
      "EVAL: [900/1005] Elapsed 4m 35s (remain 0m 31s) \n",
      "EVAL: [1000/1005] Elapsed 5m 9s (remain 0m 1s) \n"
     ]
    },
    {
     "name": "stderr",
     "output_type": "stream",
     "text": [
      "Epoch 4 Step 4680 - avg_train_loss: 0.0469  avg_val_loss: 0.4775\n",
      "Epoch 4 Step 4680 - Score: 0.6677\n"
     ]
    },
    {
     "name": "stdout",
     "output_type": "stream",
     "text": [
      "EVAL: [1004/1005] Elapsed 5m 9s (remain 0m 0s) \n",
      "Epoch: [4][4700/5156] Loss: [0.04687431271089912]Elapsed 36m 50s (remain 3m 33s) \n",
      "Epoch: [4][4800/5156] Loss: [0.046681985179102915]Elapsed 37m 17s (remain 2m 45s) \n",
      "Epoch: [4][4900/5156] Loss: [0.04679306027590134]Elapsed 37m 47s (remain 1m 57s) \n",
      "Epoch: [4][5000/5156] Loss: [0.046706125359490695]Elapsed 38m 16s (remain 1m 11s) \n",
      "Epoch: [4][5100/5156] Loss: [0.046492664999168105]Elapsed 38m 44s (remain 0m 25s) \n"
     ]
    },
    {
     "name": "stderr",
     "output_type": "stream",
     "text": [
      "Epoch 4 - avg_train_loss: 0.0465  avg_val_loss: 0.4775  time: 2340s\n",
      "Epoch 4 - Score: 0.6677\n"
     ]
    },
    {
     "name": "stdout",
     "output_type": "stream",
     "text": [
      "Epoch: [4][5155/5156] Loss: [0.04654370139587076]Elapsed 38m 59s (remain 0m 0s) \n"
     ]
    },
    {
     "name": "stderr",
     "output_type": "stream",
     "text": [
      "========== fold: 1 result ==========\n",
      "Score: 0.6370\n",
      "-------------fold:2 training-------------\n",
      "Some weights of the model checkpoint at microsoft/deberta-v3-large were not used when initializing DebertaV2Model: ['lm_predictions.lm_head.LayerNorm.weight', 'mask_predictions.LayerNorm.bias', 'mask_predictions.dense.bias', 'lm_predictions.lm_head.dense.bias', 'lm_predictions.lm_head.bias', 'mask_predictions.classifier.bias', 'mask_predictions.classifier.weight', 'lm_predictions.lm_head.LayerNorm.bias', 'mask_predictions.dense.weight', 'mask_predictions.LayerNorm.weight', 'lm_predictions.lm_head.dense.weight']\n",
      "- This IS expected if you are initializing DebertaV2Model from the checkpoint of a model trained on another task or with another architecture (e.g. initializing a BertForSequenceClassification model from a BertForPreTraining model).\n",
      "- This IS NOT expected if you are initializing DebertaV2Model from the checkpoint of a model that you expect to be exactly identical (initializing a BertForSequenceClassification model from a BertForSequenceClassification model).\n"
     ]
    },
    {
     "name": "stdout",
     "output_type": "stream",
     "text": [
      "Epoch: [1][0/5169] Loss: [0.07743202894926071]Elapsed 0m 0s (remain 17m 49s) \n",
      "Epoch: [1][100/5169] Loss: [0.9050802862084941]Elapsed 0m 27s (remain 23m 3s) \n",
      "Epoch: [1][200/5169] Loss: [0.7810996281120935]Elapsed 0m 56s (remain 23m 13s) \n",
      "Epoch: [1][300/5169] Loss: [0.695324585998533]Elapsed 1m 24s (remain 22m 48s) \n",
      "Epoch: [1][400/5169] Loss: [0.6558169331021277]Elapsed 1m 51s (remain 22m 9s) \n",
      "Epoch: [1][500/5169] Loss: [0.6374424520750789]Elapsed 2m 17s (remain 21m 21s) \n",
      "Epoch: [1][600/5169] Loss: [0.6160972656933172]Elapsed 2m 43s (remain 20m 43s) \n",
      "Epoch: [1][700/5169] Loss: [0.5786264495334233]Elapsed 3m 12s (remain 20m 26s) \n",
      "Epoch: [1][800/5169] Loss: [0.5531664225152567]Elapsed 3m 39s (remain 19m 59s) \n",
      "Epoch: [1][900/5169] Loss: [0.5238858210242373]Elapsed 4m 8s (remain 19m 35s) \n",
      "Epoch: [1][1000/5169] Loss: [0.49845249064818054]Elapsed 4m 37s (remain 19m 13s) \n",
      "Epoch: [1][1100/5169] Loss: [0.48250440627643243]Elapsed 5m 5s (remain 18m 50s) \n",
      "Epoch: [1][1200/5169] Loss: [0.4778501656581134]Elapsed 5m 33s (remain 18m 22s) \n",
      "Epoch: [1][1300/5169] Loss: [0.4691179708879826]Elapsed 6m 0s (remain 17m 53s) \n",
      "Epoch: [1][1400/5169] Loss: [0.4537540752503884]Elapsed 6m 28s (remain 17m 24s) \n",
      "Epoch: [1][1500/5169] Loss: [0.45375473706572045]Elapsed 6m 54s (remain 16m 52s) \n",
      "EVAL: [0/998] Elapsed 0m 0s (remain 5m 42s) \n",
      "EVAL: [100/998] Elapsed 0m 32s (remain 4m 44s) \n",
      "EVAL: [200/998] Elapsed 1m 0s (remain 3m 59s) \n",
      "EVAL: [300/998] Elapsed 1m 30s (remain 3m 28s) \n",
      "EVAL: [400/998] Elapsed 2m 4s (remain 3m 5s) \n",
      "EVAL: [500/998] Elapsed 2m 36s (remain 2m 35s) \n",
      "EVAL: [600/998] Elapsed 3m 7s (remain 2m 3s) \n",
      "EVAL: [700/998] Elapsed 3m 40s (remain 1m 33s) \n",
      "EVAL: [800/998] Elapsed 4m 14s (remain 1m 2s) \n",
      "EVAL: [900/998] Elapsed 4m 48s (remain 0m 31s) \n"
     ]
    },
    {
     "name": "stderr",
     "output_type": "stream",
     "text": [
      "Epoch 1 Step 1560 - avg_train_loss: 0.4463  avg_val_loss: 0.3278\n",
      "Epoch 1 Step 1560 - Score: 0.5639\n",
      "Epoch 1 Step 1560 - Save Best Score: 0.5639 Model\n"
     ]
    },
    {
     "name": "stdout",
     "output_type": "stream",
     "text": [
      "EVAL: [997/998] Elapsed 5m 22s (remain 0m 0s) \n",
      "Epoch: [1][1600/5169] Loss: [0.4413938909459623]Elapsed 12m 53s (remain 28m 44s) \n",
      "Epoch: [1][1700/5169] Loss: [0.4317357977449289]Elapsed 13m 22s (remain 27m 15s) \n",
      "Epoch: [1][1800/5169] Loss: [0.42695192871858656]Elapsed 13m 50s (remain 25m 52s) \n",
      "Epoch: [1][1900/5169] Loss: [0.4208028839413413]Elapsed 14m 16s (remain 24m 31s) \n",
      "Epoch: [1][2000/5169] Loss: [0.4172048063884667]Elapsed 14m 41s (remain 23m 16s) \n",
      "Epoch: [1][2100/5169] Loss: [0.41016644826875603]Elapsed 15m 8s (remain 22m 6s) \n",
      "Epoch: [1][2200/5169] Loss: [0.4062039799927206]Elapsed 15m 36s (remain 21m 3s) \n",
      "Epoch: [1][2300/5169] Loss: [0.40001804204477814]Elapsed 16m 4s (remain 20m 2s) \n",
      "Epoch: [1][2400/5169] Loss: [0.39448230206461027]Elapsed 16m 32s (remain 19m 4s) \n",
      "Epoch: [1][2500/5169] Loss: [0.39525729757999195]Elapsed 17m 1s (remain 18m 9s) \n",
      "Epoch: [1][2600/5169] Loss: [0.39053059397479484]Elapsed 17m 29s (remain 17m 15s) \n",
      "Epoch: [1][2700/5169] Loss: [0.3878993915200922]Elapsed 17m 57s (remain 16m 24s) \n",
      "Epoch: [1][2800/5169] Loss: [0.3853953831807373]Elapsed 18m 24s (remain 15m 33s) \n",
      "Epoch: [1][2900/5169] Loss: [0.3815406980542558]Elapsed 18m 49s (remain 14m 43s) \n",
      "Epoch: [1][3000/5169] Loss: [0.38497793664107605]Elapsed 19m 15s (remain 13m 54s) \n",
      "Epoch: [1][3100/5169] Loss: [0.3789926169266184]Elapsed 19m 40s (remain 13m 7s) \n",
      "EVAL: [0/998] Elapsed 0m 0s (remain 4m 31s) \n",
      "EVAL: [100/998] Elapsed 0m 32s (remain 4m 46s) \n",
      "EVAL: [200/998] Elapsed 1m 7s (remain 4m 27s) \n",
      "EVAL: [300/998] Elapsed 1m 42s (remain 3m 57s) \n",
      "EVAL: [400/998] Elapsed 2m 18s (remain 3m 26s) \n",
      "EVAL: [500/998] Elapsed 2m 52s (remain 2m 51s) \n",
      "EVAL: [600/998] Elapsed 3m 27s (remain 2m 16s) \n",
      "EVAL: [700/998] Elapsed 4m 1s (remain 1m 42s) \n",
      "EVAL: [800/998] Elapsed 4m 35s (remain 1m 7s) \n",
      "EVAL: [900/998] Elapsed 5m 5s (remain 0m 32s) \n"
     ]
    },
    {
     "name": "stderr",
     "output_type": "stream",
     "text": [
      "Epoch 1 Step 3120 - avg_train_loss: 0.3781  avg_val_loss: 0.2268\n",
      "Epoch 1 Step 3120 - Score: 0.4743\n",
      "Epoch 1 Step 3120 - Save Best Score: 0.4743 Model\n"
     ]
    },
    {
     "name": "stdout",
     "output_type": "stream",
     "text": [
      "EVAL: [997/998] Elapsed 5m 34s (remain 0m 0s) \n",
      "Epoch: [1][3200/5169] Loss: [0.37450211655527615]Elapsed 25m 50s (remain 15m 53s) \n",
      "Epoch: [1][3300/5169] Loss: [0.371296486355342]Elapsed 26m 16s (remain 14m 51s) \n",
      "Epoch: [1][3400/5169] Loss: [0.3683903083093018]Elapsed 26m 42s (remain 13m 53s) \n",
      "Epoch: [1][3500/5169] Loss: [0.36515234580599143]Elapsed 27m 8s (remain 12m 55s) \n",
      "Epoch: [1][3600/5169] Loss: [0.3627292679542627]Elapsed 27m 35s (remain 12m 0s) \n",
      "Epoch: [1][3700/5169] Loss: [0.36134868981461693]Elapsed 28m 0s (remain 11m 6s) \n",
      "Epoch: [1][3800/5169] Loss: [0.35948721298991604]Elapsed 28m 25s (remain 10m 13s) \n",
      "Epoch: [1][3900/5169] Loss: [0.3570562695032675]Elapsed 28m 52s (remain 9m 23s) \n",
      "Epoch: [1][4000/5169] Loss: [0.3535217364807958]Elapsed 29m 17s (remain 8m 33s) \n",
      "Epoch: [1][4100/5169] Loss: [0.3523667892993681]Elapsed 29m 43s (remain 7m 44s) \n",
      "Epoch: [1][4200/5169] Loss: [0.3505027454337774]Elapsed 30m 9s (remain 6m 56s) \n",
      "Epoch: [1][4300/5169] Loss: [0.3477610466958923]Elapsed 30m 33s (remain 6m 10s) \n",
      "Epoch: [1][4400/5169] Loss: [0.3456751127116713]Elapsed 30m 58s (remain 5m 24s) \n",
      "Epoch: [1][4500/5169] Loss: [0.3446780270720045]Elapsed 31m 23s (remain 4m 39s) \n",
      "Epoch: [1][4600/5169] Loss: [0.3426598172753553]Elapsed 31m 48s (remain 3m 55s) \n",
      "EVAL: [0/998] Elapsed 0m 0s (remain 4m 38s) \n",
      "EVAL: [100/998] Elapsed 0m 29s (remain 4m 18s) \n",
      "EVAL: [200/998] Elapsed 0m 59s (remain 3m 56s) \n",
      "EVAL: [300/998] Elapsed 1m 29s (remain 3m 27s) \n",
      "EVAL: [400/998] Elapsed 2m 0s (remain 2m 59s) \n",
      "EVAL: [500/998] Elapsed 2m 31s (remain 2m 30s) \n",
      "EVAL: [600/998] Elapsed 3m 5s (remain 2m 2s) \n",
      "EVAL: [700/998] Elapsed 3m 36s (remain 1m 31s) \n",
      "EVAL: [800/998] Elapsed 4m 6s (remain 1m 0s) \n",
      "EVAL: [900/998] Elapsed 4m 36s (remain 0m 29s) \n"
     ]
    },
    {
     "name": "stderr",
     "output_type": "stream",
     "text": [
      "Epoch 1 Step 4680 - avg_train_loss: 0.3423  avg_val_loss: 0.3647\n",
      "Epoch 1 Step 4680 - Score: 0.6031\n"
     ]
    },
    {
     "name": "stdout",
     "output_type": "stream",
     "text": [
      "EVAL: [997/998] Elapsed 5m 5s (remain 0m 0s) \n",
      "Epoch: [1][4700/5169] Loss: [0.3417784366146192]Elapsed 37m 22s (remain 3m 43s) \n",
      "Epoch: [1][4800/5169] Loss: [0.3410870945150169]Elapsed 37m 48s (remain 2m 53s) \n",
      "Epoch: [1][4900/5169] Loss: [0.3398462474776568]Elapsed 38m 15s (remain 2m 5s) \n",
      "Epoch: [1][5000/5169] Loss: [0.3385415572512562]Elapsed 38m 41s (remain 1m 17s) \n",
      "Epoch: [1][5100/5169] Loss: [0.3366103659023508]Elapsed 39m 7s (remain 0m 31s) \n"
     ]
    },
    {
     "name": "stderr",
     "output_type": "stream",
     "text": [
      "Epoch 1 - avg_train_loss: 0.3358  avg_val_loss: 0.3647  time: 2365s\n",
      "Epoch 1 - Score: 0.6031\n"
     ]
    },
    {
     "name": "stdout",
     "output_type": "stream",
     "text": [
      "Epoch: [1][5168/5169] Loss: [0.33578316814918535]Elapsed 39m 25s (remain 0m 0s) \n",
      "Epoch: [2][0/5169] Loss: [0.15480388700962067]Elapsed 0m 0s (remain 18m 7s) \n",
      "Epoch: [2][100/5169] Loss: [0.1971554174064889]Elapsed 0m 25s (remain 21m 42s) \n",
      "Epoch: [2][200/5169] Loss: [0.2125817284290476]Elapsed 0m 51s (remain 21m 22s) \n",
      "Epoch: [2][300/5169] Loss: [0.21733117477290148]Elapsed 1m 17s (remain 20m 59s) \n",
      "Epoch: [2][400/5169] Loss: [0.2094128539670271]Elapsed 1m 43s (remain 20m 34s) \n",
      "Epoch: [2][500/5169] Loss: [0.21506539323035942]Elapsed 2m 9s (remain 20m 8s) \n",
      "Epoch: [2][600/5169] Loss: [0.21862368516542327]Elapsed 2m 35s (remain 19m 43s) \n",
      "Epoch: [2][700/5169] Loss: [0.20928940965427986]Elapsed 3m 1s (remain 19m 18s) \n",
      "Epoch: [2][800/5169] Loss: [0.2082856801432845]Elapsed 3m 27s (remain 18m 52s) \n",
      "Epoch: [2][900/5169] Loss: [0.19962207161529402]Elapsed 3m 53s (remain 18m 26s) \n",
      "Epoch: [2][1000/5169] Loss: [0.2025281489363629]Elapsed 4m 19s (remain 18m 0s) \n",
      "Epoch: [2][1100/5169] Loss: [0.2015847723426707]Elapsed 4m 45s (remain 17m 34s) \n",
      "Epoch: [2][1200/5169] Loss: [0.20115501592386428]Elapsed 5m 11s (remain 17m 8s) \n",
      "Epoch: [2][1300/5169] Loss: [0.19869802602754455]Elapsed 5m 37s (remain 16m 43s) \n",
      "Epoch: [2][1400/5169] Loss: [0.197105466917153]Elapsed 6m 3s (remain 16m 17s) \n",
      "Epoch: [2][1500/5169] Loss: [0.20042745316467814]Elapsed 6m 29s (remain 15m 51s) \n",
      "EVAL: [0/998] Elapsed 0m 0s (remain 4m 59s) \n",
      "EVAL: [100/998] Elapsed 0m 30s (remain 4m 29s) \n",
      "EVAL: [200/998] Elapsed 1m 0s (remain 3m 59s) \n",
      "EVAL: [300/998] Elapsed 1m 30s (remain 3m 29s) \n",
      "EVAL: [400/998] Elapsed 2m 0s (remain 2m 59s) \n",
      "EVAL: [500/998] Elapsed 2m 30s (remain 2m 29s) \n",
      "EVAL: [600/998] Elapsed 3m 0s (remain 1m 59s) \n",
      "EVAL: [700/998] Elapsed 3m 31s (remain 1m 29s) \n",
      "EVAL: [800/998] Elapsed 4m 1s (remain 0m 59s) \n",
      "EVAL: [900/998] Elapsed 4m 31s (remain 0m 29s) \n"
     ]
    },
    {
     "name": "stderr",
     "output_type": "stream",
     "text": [
      "Epoch 2 Step 1560 - avg_train_loss: 0.2008  avg_val_loss: 0.2854\n",
      "Epoch 2 Step 1560 - Score: 0.5282\n"
     ]
    },
    {
     "name": "stdout",
     "output_type": "stream",
     "text": [
      "EVAL: [997/998] Elapsed 5m 0s (remain 0m 0s) \n",
      "Epoch: [2][1600/5169] Loss: [0.2007646697820678]Elapsed 11m 55s (remain 26m 35s) \n",
      "Epoch: [2][1700/5169] Loss: [0.2002829418353613]Elapsed 12m 21s (remain 25m 12s) \n",
      "Epoch: [2][1800/5169] Loss: [0.19926724220414938]Elapsed 12m 47s (remain 23m 55s) \n",
      "Epoch: [2][1900/5169] Loss: [0.1985727323163954]Elapsed 13m 13s (remain 22m 44s) \n",
      "Epoch: [2][2000/5169] Loss: [0.1983052519036641]Elapsed 13m 39s (remain 21m 37s) \n",
      "Epoch: [2][2100/5169] Loss: [0.201615011986882]Elapsed 14m 5s (remain 20m 34s) \n",
      "Epoch: [2][2200/5169] Loss: [0.2026125063912687]Elapsed 14m 31s (remain 19m 35s) \n",
      "Epoch: [2][2300/5169] Loss: [0.20287948166155292]Elapsed 14m 57s (remain 18m 38s) \n",
      "Epoch: [2][2400/5169] Loss: [0.2030991719020896]Elapsed 15m 23s (remain 17m 44s) \n",
      "Epoch: [2][2500/5169] Loss: [0.20288855925200466]Elapsed 15m 49s (remain 16m 52s) \n",
      "Epoch: [2][2600/5169] Loss: [0.20330793422681467]Elapsed 16m 15s (remain 16m 2s) \n",
      "Epoch: [2][2700/5169] Loss: [0.20099170476958242]Elapsed 16m 41s (remain 15m 14s) \n",
      "Epoch: [2][2800/5169] Loss: [0.1997476177362226]Elapsed 17m 7s (remain 14m 28s) \n",
      "Epoch: [2][2900/5169] Loss: [0.2005990527093463]Elapsed 17m 33s (remain 13m 43s) \n",
      "Epoch: [2][3000/5169] Loss: [0.2005138322795473]Elapsed 17m 59s (remain 12m 59s) \n",
      "Epoch: [2][3100/5169] Loss: [0.20130532937411416]Elapsed 18m 25s (remain 12m 16s) \n",
      "EVAL: [0/998] Elapsed 0m 0s (remain 5m 0s) \n",
      "EVAL: [100/998] Elapsed 0m 30s (remain 4m 29s) \n",
      "EVAL: [200/998] Elapsed 1m 0s (remain 3m 59s) \n",
      "EVAL: [300/998] Elapsed 1m 30s (remain 3m 29s) \n",
      "EVAL: [400/998] Elapsed 2m 0s (remain 2m 59s) \n",
      "EVAL: [500/998] Elapsed 2m 30s (remain 2m 29s) \n",
      "EVAL: [600/998] Elapsed 3m 0s (remain 1m 59s) \n",
      "EVAL: [700/998] Elapsed 3m 31s (remain 1m 29s) \n",
      "EVAL: [800/998] Elapsed 4m 1s (remain 0m 59s) \n",
      "EVAL: [900/998] Elapsed 4m 31s (remain 0m 29s) \n"
     ]
    },
    {
     "name": "stderr",
     "output_type": "stream",
     "text": [
      "Epoch 2 Step 3120 - avg_train_loss: 0.2008  avg_val_loss: 0.2624\n",
      "Epoch 2 Step 3120 - Score: 0.5084\n"
     ]
    },
    {
     "name": "stdout",
     "output_type": "stream",
     "text": [
      "EVAL: [997/998] Elapsed 5m 0s (remain 0m 0s) \n",
      "Epoch: [2][3200/5169] Loss: [0.20061736386390006]Elapsed 23m 51s (remain 14m 40s) \n",
      "Epoch: [2][3300/5169] Loss: [0.2017499070262326]Elapsed 24m 17s (remain 13m 44s) \n",
      "Epoch: [2][3400/5169] Loss: [0.2014853626604739]Elapsed 24m 43s (remain 12m 51s) \n",
      "Epoch: [2][3500/5169] Loss: [0.20027729531017263]Elapsed 25m 9s (remain 11m 59s) \n",
      "Epoch: [2][3600/5169] Loss: [0.19924294469870887]Elapsed 25m 35s (remain 11m 8s) \n",
      "Epoch: [2][3700/5169] Loss: [0.19872123032442154]Elapsed 26m 1s (remain 10m 19s) \n",
      "Epoch: [2][3800/5169] Loss: [0.19801902218365292]Elapsed 26m 27s (remain 9m 31s) \n",
      "Epoch: [2][3900/5169] Loss: [0.19865840537783433]Elapsed 26m 53s (remain 8m 44s) \n",
      "Epoch: [2][4000/5169] Loss: [0.19817978216714643]Elapsed 27m 19s (remain 7m 58s) \n",
      "Epoch: [2][4100/5169] Loss: [0.19797241139299898]Elapsed 27m 45s (remain 7m 13s) \n",
      "Epoch: [2][4200/5169] Loss: [0.19870170154496364]Elapsed 28m 10s (remain 6m 29s) \n",
      "Epoch: [2][4300/5169] Loss: [0.19900246526197984]Elapsed 28m 36s (remain 5m 46s) \n",
      "Epoch: [2][4400/5169] Loss: [0.1982757856580178]Elapsed 29m 2s (remain 5m 4s) \n",
      "Epoch: [2][4500/5169] Loss: [0.19774871146771725]Elapsed 29m 28s (remain 4m 22s) \n",
      "Epoch: [2][4600/5169] Loss: [0.1967436213871323]Elapsed 29m 54s (remain 3m 41s) \n",
      "EVAL: [0/998] Elapsed 0m 0s (remain 4m 59s) \n",
      "EVAL: [100/998] Elapsed 0m 30s (remain 4m 29s) \n",
      "EVAL: [200/998] Elapsed 1m 0s (remain 3m 59s) \n",
      "EVAL: [300/998] Elapsed 1m 30s (remain 3m 29s) \n",
      "EVAL: [400/998] Elapsed 2m 0s (remain 2m 59s) \n",
      "EVAL: [500/998] Elapsed 2m 30s (remain 2m 29s) \n",
      "EVAL: [600/998] Elapsed 3m 0s (remain 1m 59s) \n",
      "EVAL: [700/998] Elapsed 3m 31s (remain 1m 29s) \n",
      "EVAL: [800/998] Elapsed 4m 1s (remain 0m 59s) \n",
      "EVAL: [900/998] Elapsed 4m 31s (remain 0m 29s) \n"
     ]
    },
    {
     "name": "stderr",
     "output_type": "stream",
     "text": [
      "Epoch 2 Step 4680 - avg_train_loss: 0.1965  avg_val_loss: 0.3396\n",
      "Epoch 2 Step 4680 - Score: 0.5667\n"
     ]
    },
    {
     "name": "stdout",
     "output_type": "stream",
     "text": [
      "EVAL: [997/998] Elapsed 5m 0s (remain 0m 0s) \n",
      "Epoch: [2][4700/5169] Loss: [0.19630621307947305]Elapsed 35m 21s (remain 3m 31s) \n",
      "Epoch: [2][4800/5169] Loss: [0.1956218188872971]Elapsed 35m 47s (remain 2m 44s) \n",
      "Epoch: [2][4900/5169] Loss: [0.19545049987426616]Elapsed 36m 13s (remain 1m 58s) \n",
      "Epoch: [2][5000/5169] Loss: [0.19510914004588234]Elapsed 36m 39s (remain 1m 13s) \n",
      "Epoch: [2][5100/5169] Loss: [0.19635532030929412]Elapsed 37m 5s (remain 0m 29s) \n"
     ]
    },
    {
     "name": "stderr",
     "output_type": "stream",
     "text": [
      "Epoch 2 - avg_train_loss: 0.1965  avg_val_loss: 0.3396  time: 2243s\n",
      "Epoch 2 - Score: 0.5667\n"
     ]
    },
    {
     "name": "stdout",
     "output_type": "stream",
     "text": [
      "Epoch: [2][5168/5169] Loss: [0.19649998959871046]Elapsed 37m 22s (remain 0m 0s) \n",
      "Epoch: [3][0/5169] Loss: [0.030709408223628998]Elapsed 0m 0s (remain 18m 12s) \n",
      "Epoch: [3][100/5169] Loss: [0.1250167797010687]Elapsed 0m 26s (remain 21m 47s) \n",
      "Epoch: [3][200/5169] Loss: [0.11109417312852668]Elapsed 0m 51s (remain 21m 24s) \n",
      "Epoch: [3][300/5169] Loss: [0.1090045013260777]Elapsed 1m 17s (remain 20m 59s) \n",
      "Epoch: [3][400/5169] Loss: [0.10732832968588035]Elapsed 1m 43s (remain 20m 34s) \n",
      "Epoch: [3][500/5169] Loss: [0.10839998068175503]Elapsed 2m 9s (remain 20m 9s) \n",
      "Epoch: [3][600/5169] Loss: [0.10794816726201181]Elapsed 2m 35s (remain 19m 43s) \n",
      "Epoch: [3][700/5169] Loss: [0.11017270723412953]Elapsed 3m 1s (remain 19m 17s) \n",
      "Epoch: [3][800/5169] Loss: [0.10900343433804868]Elapsed 3m 27s (remain 18m 52s) \n",
      "Epoch: [3][900/5169] Loss: [0.10854939803337828]Elapsed 3m 53s (remain 18m 26s) \n",
      "Epoch: [3][1000/5169] Loss: [0.1070349686197623]Elapsed 4m 19s (remain 18m 0s) \n",
      "Epoch: [3][1100/5169] Loss: [0.10477846091561482]Elapsed 4m 45s (remain 17m 34s) \n",
      "Epoch: [3][1200/5169] Loss: [0.10514609976801828]Elapsed 5m 11s (remain 17m 8s) \n",
      "Epoch: [3][1300/5169] Loss: [0.10413263595088283]Elapsed 5m 37s (remain 16m 42s) \n",
      "Epoch: [3][1400/5169] Loss: [0.10358892833524451]Elapsed 6m 3s (remain 16m 16s) \n",
      "Epoch: [3][1500/5169] Loss: [0.10234294748315576]Elapsed 6m 29s (remain 15m 51s) \n",
      "EVAL: [0/998] Elapsed 0m 0s (remain 5m 0s) \n",
      "EVAL: [100/998] Elapsed 0m 30s (remain 4m 29s) \n",
      "EVAL: [200/998] Elapsed 1m 0s (remain 3m 59s) \n",
      "EVAL: [300/998] Elapsed 1m 30s (remain 3m 29s) \n",
      "EVAL: [400/998] Elapsed 2m 0s (remain 2m 59s) \n",
      "EVAL: [500/998] Elapsed 2m 30s (remain 2m 29s) \n",
      "EVAL: [600/998] Elapsed 3m 0s (remain 1m 59s) \n",
      "EVAL: [700/998] Elapsed 3m 31s (remain 1m 29s) \n",
      "EVAL: [800/998] Elapsed 4m 1s (remain 0m 59s) \n",
      "EVAL: [900/998] Elapsed 4m 31s (remain 0m 29s) \n"
     ]
    },
    {
     "name": "stderr",
     "output_type": "stream",
     "text": [
      "Epoch 3 Step 1560 - avg_train_loss: 0.1017  avg_val_loss: 0.2764\n",
      "Epoch 3 Step 1560 - Score: 0.5206\n"
     ]
    },
    {
     "name": "stdout",
     "output_type": "stream",
     "text": [
      "EVAL: [997/998] Elapsed 5m 0s (remain 0m 0s) \n",
      "Epoch: [3][1600/5169] Loss: [0.10123299092065065]Elapsed 11m 55s (remain 26m 34s) \n",
      "Epoch: [3][1700/5169] Loss: [0.10048188591231207]Elapsed 12m 21s (remain 25m 12s) \n",
      "Epoch: [3][1800/5169] Loss: [0.10135026889014881]Elapsed 12m 47s (remain 23m 55s) \n",
      "Epoch: [3][1900/5169] Loss: [0.1038770952178351]Elapsed 13m 13s (remain 22m 44s) \n",
      "Epoch: [3][2000/5169] Loss: [0.10371141175966167]Elapsed 13m 39s (remain 21m 37s) \n",
      "Epoch: [3][2100/5169] Loss: [0.10419426082849789]Elapsed 14m 5s (remain 20m 34s) \n",
      "Epoch: [3][2200/5169] Loss: [0.10496390386201254]Elapsed 14m 31s (remain 19m 35s) \n",
      "Epoch: [3][2300/5169] Loss: [0.10593347262096935]Elapsed 14m 57s (remain 18m 38s) \n",
      "Epoch: [3][2400/5169] Loss: [0.10642811064346963]Elapsed 15m 23s (remain 17m 44s) \n",
      "Epoch: [3][2500/5169] Loss: [0.1059653037119249]Elapsed 15m 49s (remain 16m 52s) \n",
      "Epoch: [3][2600/5169] Loss: [0.1057595319804468]Elapsed 16m 15s (remain 16m 2s) \n",
      "Epoch: [3][2700/5169] Loss: [0.10640000026781886]Elapsed 16m 41s (remain 15m 14s) \n",
      "Epoch: [3][2800/5169] Loss: [0.10665675251632803]Elapsed 17m 7s (remain 14m 28s) \n",
      "Epoch: [3][2900/5169] Loss: [0.10671505899406437]Elapsed 17m 32s (remain 13m 43s) \n",
      "Epoch: [3][3000/5169] Loss: [0.10636405511796462]Elapsed 17m 58s (remain 12m 59s) \n",
      "Epoch: [3][3100/5169] Loss: [0.10630054097318249]Elapsed 18m 24s (remain 12m 16s) \n",
      "EVAL: [0/998] Elapsed 0m 0s (remain 4m 59s) \n",
      "EVAL: [100/998] Elapsed 0m 30s (remain 4m 29s) \n",
      "EVAL: [200/998] Elapsed 1m 0s (remain 3m 59s) \n",
      "EVAL: [300/998] Elapsed 1m 30s (remain 3m 29s) \n",
      "EVAL: [400/998] Elapsed 2m 0s (remain 2m 59s) \n",
      "EVAL: [500/998] Elapsed 2m 30s (remain 2m 29s) \n",
      "EVAL: [600/998] Elapsed 3m 0s (remain 1m 59s) \n",
      "EVAL: [700/998] Elapsed 3m 31s (remain 1m 29s) \n",
      "EVAL: [800/998] Elapsed 4m 1s (remain 0m 59s) \n",
      "EVAL: [900/998] Elapsed 4m 31s (remain 0m 29s) \n"
     ]
    },
    {
     "name": "stderr",
     "output_type": "stream",
     "text": [
      "Epoch 3 Step 3120 - avg_train_loss: 0.1065  avg_val_loss: 0.2708\n",
      "Epoch 3 Step 3120 - Score: 0.5139\n"
     ]
    },
    {
     "name": "stdout",
     "output_type": "stream",
     "text": [
      "EVAL: [997/998] Elapsed 5m 0s (remain 0m 0s) \n",
      "Epoch: [3][3200/5169] Loss: [0.10631356303359277]Elapsed 23m 51s (remain 14m 40s) \n",
      "Epoch: [3][3300/5169] Loss: [0.1060808261345634]Elapsed 24m 17s (remain 13m 44s) \n",
      "Epoch: [3][3400/5169] Loss: [0.10638670199770273]Elapsed 24m 43s (remain 12m 51s) \n",
      "Epoch: [3][3500/5169] Loss: [0.10601564546012648]Elapsed 25m 9s (remain 11m 59s) \n",
      "Epoch: [3][3600/5169] Loss: [0.10553723139654525]Elapsed 25m 35s (remain 11m 8s) \n",
      "Epoch: [3][3700/5169] Loss: [0.1056112599665069]Elapsed 26m 1s (remain 10m 19s) \n",
      "Epoch: [3][3800/5169] Loss: [0.10569327170694758]Elapsed 26m 27s (remain 9m 31s) \n",
      "Epoch: [3][3900/5169] Loss: [0.10534475677301061]Elapsed 26m 52s (remain 8m 44s) \n",
      "Epoch: [3][4000/5169] Loss: [0.10566092927850165]Elapsed 27m 18s (remain 7m 58s) \n",
      "Epoch: [3][4100/5169] Loss: [0.10550647224106294]Elapsed 27m 44s (remain 7m 13s) \n",
      "Epoch: [3][4200/5169] Loss: [0.10535188905477604]Elapsed 28m 10s (remain 6m 29s) \n",
      "Epoch: [3][4300/5169] Loss: [0.10518882042287599]Elapsed 28m 36s (remain 5m 46s) \n",
      "Epoch: [3][4400/5169] Loss: [0.10568481732089166]Elapsed 29m 2s (remain 5m 4s) \n",
      "Epoch: [3][4500/5169] Loss: [0.1052788069873857]Elapsed 29m 28s (remain 4m 22s) \n",
      "Epoch: [3][4600/5169] Loss: [0.10515050771381304]Elapsed 29m 54s (remain 3m 41s) \n",
      "EVAL: [0/998] Elapsed 0m 0s (remain 4m 59s) \n",
      "EVAL: [100/998] Elapsed 0m 30s (remain 4m 29s) \n",
      "EVAL: [200/998] Elapsed 1m 0s (remain 3m 59s) \n",
      "EVAL: [300/998] Elapsed 1m 30s (remain 3m 29s) \n",
      "EVAL: [400/998] Elapsed 2m 0s (remain 2m 59s) \n",
      "EVAL: [500/998] Elapsed 2m 30s (remain 2m 29s) \n",
      "EVAL: [600/998] Elapsed 3m 0s (remain 1m 59s) \n",
      "EVAL: [700/998] Elapsed 3m 31s (remain 1m 29s) \n",
      "EVAL: [800/998] Elapsed 4m 1s (remain 0m 59s) \n",
      "EVAL: [900/998] Elapsed 4m 31s (remain 0m 29s) \n"
     ]
    },
    {
     "name": "stderr",
     "output_type": "stream",
     "text": [
      "Epoch 3 Step 4680 - avg_train_loss: 0.1050  avg_val_loss: 0.3257\n",
      "Epoch 3 Step 4680 - Score: 0.5583\n"
     ]
    },
    {
     "name": "stdout",
     "output_type": "stream",
     "text": [
      "EVAL: [997/998] Elapsed 5m 0s (remain 0m 0s) \n",
      "Epoch: [3][4700/5169] Loss: [0.10496528384134621]Elapsed 35m 21s (remain 3m 31s) \n",
      "Epoch: [3][4800/5169] Loss: [0.10500510367941325]Elapsed 35m 47s (remain 2m 44s) \n",
      "Epoch: [3][4900/5169] Loss: [0.10511581112729233]Elapsed 36m 13s (remain 1m 58s) \n",
      "Epoch: [3][5000/5169] Loss: [0.10522685719076698]Elapsed 36m 38s (remain 1m 13s) \n",
      "Epoch: [3][5100/5169] Loss: [0.10507174113157873]Elapsed 37m 4s (remain 0m 29s) \n"
     ]
    },
    {
     "name": "stderr",
     "output_type": "stream",
     "text": [
      "Epoch 3 - avg_train_loss: 0.1049  avg_val_loss: 0.3257  time: 2243s\n",
      "Epoch 3 - Score: 0.5583\n"
     ]
    },
    {
     "name": "stdout",
     "output_type": "stream",
     "text": [
      "Epoch: [3][5168/5169] Loss: [0.10493124411115959]Elapsed 37m 22s (remain 0m 0s) \n",
      "Epoch: [4][0/5169] Loss: [0.028447121381759644]Elapsed 0m 0s (remain 18m 12s) \n",
      "Epoch: [4][100/5169] Loss: [0.05900744404839721]Elapsed 0m 26s (remain 21m 44s) \n",
      "Epoch: [4][200/5169] Loss: [0.06196746115824115]Elapsed 0m 51s (remain 21m 24s) \n",
      "Epoch: [4][300/5169] Loss: [0.0643612768685142]Elapsed 1m 17s (remain 20m 59s) \n",
      "Epoch: [4][400/5169] Loss: [0.06340325707431457]Elapsed 1m 43s (remain 20m 34s) \n",
      "Epoch: [4][500/5169] Loss: [0.06192472493197867]Elapsed 2m 9s (remain 20m 9s) \n",
      "Epoch: [4][600/5169] Loss: [0.06032818228976765]Elapsed 2m 35s (remain 19m 43s) \n",
      "Epoch: [4][700/5169] Loss: [0.05962303340801504]Elapsed 3m 1s (remain 19m 17s) \n",
      "Epoch: [4][800/5169] Loss: [0.05993301624217797]Elapsed 3m 27s (remain 18m 52s) \n",
      "Epoch: [4][900/5169] Loss: [0.060152190709481274]Elapsed 3m 53s (remain 18m 26s) \n",
      "Epoch: [4][1000/5169] Loss: [0.059063155852508334]Elapsed 4m 19s (remain 18m 0s) \n",
      "Epoch: [4][1100/5169] Loss: [0.05871721910852805]Elapsed 4m 45s (remain 17m 34s) \n",
      "Epoch: [4][1200/5169] Loss: [0.05850074176850891]Elapsed 5m 11s (remain 17m 8s) \n",
      "Epoch: [4][1300/5169] Loss: [0.05739542089349121]Elapsed 5m 37s (remain 16m 42s) \n",
      "Epoch: [4][1400/5169] Loss: [0.056728393751715324]Elapsed 6m 3s (remain 16m 17s) \n",
      "Epoch: [4][1500/5169] Loss: [0.05771196205158686]Elapsed 6m 29s (remain 15m 51s) \n",
      "EVAL: [0/998] Elapsed 0m 0s (remain 4m 59s) \n",
      "EVAL: [100/998] Elapsed 0m 30s (remain 4m 29s) \n",
      "EVAL: [200/998] Elapsed 1m 0s (remain 3m 59s) \n",
      "EVAL: [300/998] Elapsed 1m 30s (remain 3m 29s) \n",
      "EVAL: [400/998] Elapsed 2m 0s (remain 2m 59s) \n",
      "EVAL: [500/998] Elapsed 2m 30s (remain 2m 29s) \n",
      "EVAL: [600/998] Elapsed 3m 0s (remain 1m 59s) \n",
      "EVAL: [700/998] Elapsed 3m 31s (remain 1m 29s) \n",
      "EVAL: [800/998] Elapsed 4m 1s (remain 0m 59s) \n",
      "EVAL: [900/998] Elapsed 4m 31s (remain 0m 29s) \n"
     ]
    },
    {
     "name": "stderr",
     "output_type": "stream",
     "text": [
      "Epoch 4 Step 1560 - avg_train_loss: 0.0585  avg_val_loss: 0.2695\n",
      "Epoch 4 Step 1560 - Score: 0.5125\n"
     ]
    },
    {
     "name": "stdout",
     "output_type": "stream",
     "text": [
      "EVAL: [997/998] Elapsed 5m 0s (remain 0m 0s) \n",
      "Epoch: [4][1600/5169] Loss: [0.05849688942265633]Elapsed 11m 55s (remain 26m 35s) \n",
      "Epoch: [4][1700/5169] Loss: [0.05769566844395449]Elapsed 12m 21s (remain 25m 12s) \n",
      "Epoch: [4][1800/5169] Loss: [0.05737595307563707]Elapsed 12m 47s (remain 23m 55s) \n",
      "Epoch: [4][1900/5169] Loss: [0.05724149556152512]Elapsed 13m 13s (remain 22m 44s) \n",
      "Epoch: [4][2000/5169] Loss: [0.057455606831516355]Elapsed 13m 39s (remain 21m 37s) \n",
      "Epoch: [4][2100/5169] Loss: [0.057855022458724085]Elapsed 14m 5s (remain 20m 34s) \n",
      "Epoch: [4][2200/5169] Loss: [0.057944218674594386]Elapsed 14m 31s (remain 19m 35s) \n",
      "Epoch: [4][2300/5169] Loss: [0.05740708112841301]Elapsed 14m 57s (remain 18m 38s) \n",
      "Epoch: [4][2400/5169] Loss: [0.05726359961903183]Elapsed 15m 23s (remain 17m 44s) \n",
      "Epoch: [4][2500/5169] Loss: [0.05704424670036541]Elapsed 15m 49s (remain 16m 52s) \n",
      "Epoch: [4][2600/5169] Loss: [0.05661851225005358]Elapsed 16m 15s (remain 16m 2s) \n",
      "Epoch: [4][2700/5169] Loss: [0.05742466503816723]Elapsed 16m 41s (remain 15m 14s) \n",
      "Epoch: [4][2800/5169] Loss: [0.057355586560945644]Elapsed 17m 6s (remain 14m 28s) \n",
      "Epoch: [4][2900/5169] Loss: [0.05716287906649407]Elapsed 17m 32s (remain 13m 43s) \n",
      "Epoch: [4][3000/5169] Loss: [0.056641086231148316]Elapsed 17m 58s (remain 12m 59s) \n",
      "Epoch: [4][3100/5169] Loss: [0.05669459035266278]Elapsed 18m 24s (remain 12m 16s) \n",
      "EVAL: [0/998] Elapsed 0m 0s (remain 4m 59s) \n",
      "EVAL: [100/998] Elapsed 0m 30s (remain 4m 29s) \n",
      "EVAL: [200/998] Elapsed 1m 0s (remain 3m 59s) \n",
      "EVAL: [300/998] Elapsed 1m 30s (remain 3m 29s) \n",
      "EVAL: [400/998] Elapsed 2m 0s (remain 2m 59s) \n",
      "EVAL: [500/998] Elapsed 2m 30s (remain 2m 29s) \n",
      "EVAL: [600/998] Elapsed 3m 0s (remain 1m 59s) \n",
      "EVAL: [700/998] Elapsed 3m 31s (remain 1m 29s) \n",
      "EVAL: [800/998] Elapsed 4m 1s (remain 0m 59s) \n",
      "EVAL: [900/998] Elapsed 4m 31s (remain 0m 29s) \n"
     ]
    },
    {
     "name": "stderr",
     "output_type": "stream",
     "text": [
      "Epoch 4 Step 3120 - avg_train_loss: 0.0568  avg_val_loss: 0.2840\n",
      "Epoch 4 Step 3120 - Score: 0.5251\n"
     ]
    },
    {
     "name": "stdout",
     "output_type": "stream",
     "text": [
      "EVAL: [997/998] Elapsed 5m 0s (remain 0m 0s) \n",
      "Epoch: [4][3200/5169] Loss: [0.057053694123201514]Elapsed 23m 51s (remain 14m 40s) \n",
      "Epoch: [4][3300/5169] Loss: [0.05691989541768179]Elapsed 24m 17s (remain 13m 44s) \n",
      "Epoch: [4][3400/5169] Loss: [0.05679555279298715]Elapsed 24m 43s (remain 12m 51s) \n",
      "Epoch: [4][3500/5169] Loss: [0.05660169662082381]Elapsed 25m 9s (remain 11m 59s) \n",
      "Epoch: [4][3600/5169] Loss: [0.05644449483743587]Elapsed 25m 35s (remain 11m 8s) \n",
      "Epoch: [4][3700/5169] Loss: [0.05675185499512441]Elapsed 26m 1s (remain 10m 19s) \n",
      "Epoch: [4][3800/5169] Loss: [0.056267359153147165]Elapsed 26m 27s (remain 9m 31s) \n",
      "Epoch: [4][3900/5169] Loss: [0.056373589498232374]Elapsed 26m 52s (remain 8m 44s) \n",
      "Epoch: [4][4000/5169] Loss: [0.05640235877665602]Elapsed 27m 18s (remain 7m 58s) \n",
      "Epoch: [4][4100/5169] Loss: [0.05610733419236101]Elapsed 27m 44s (remain 7m 13s) \n",
      "Epoch: [4][4200/5169] Loss: [0.05629803206545973]Elapsed 28m 10s (remain 6m 29s) \n",
      "Epoch: [4][4300/5169] Loss: [0.05597724915582598]Elapsed 28m 36s (remain 5m 46s) \n",
      "Epoch: [4][4400/5169] Loss: [0.05617647960795456]Elapsed 29m 2s (remain 5m 4s) \n",
      "Epoch: [4][4500/5169] Loss: [0.05582637619087362]Elapsed 29m 28s (remain 4m 22s) \n",
      "Epoch: [4][4600/5169] Loss: [0.055970519606893136]Elapsed 29m 54s (remain 3m 41s) \n",
      "EVAL: [0/998] Elapsed 0m 0s (remain 5m 0s) \n",
      "EVAL: [100/998] Elapsed 0m 30s (remain 4m 29s) \n",
      "EVAL: [200/998] Elapsed 1m 0s (remain 3m 59s) \n",
      "EVAL: [300/998] Elapsed 1m 30s (remain 3m 29s) \n",
      "EVAL: [400/998] Elapsed 2m 0s (remain 2m 59s) \n",
      "EVAL: [500/998] Elapsed 2m 30s (remain 2m 29s) \n",
      "EVAL: [600/998] Elapsed 3m 0s (remain 1m 59s) \n",
      "EVAL: [700/998] Elapsed 3m 31s (remain 1m 29s) \n",
      "EVAL: [800/998] Elapsed 4m 1s (remain 0m 59s) \n",
      "EVAL: [900/998] Elapsed 4m 31s (remain 0m 29s) \n"
     ]
    },
    {
     "name": "stderr",
     "output_type": "stream",
     "text": [
      "Epoch 4 Step 4680 - avg_train_loss: 0.0559  avg_val_loss: 0.2845\n",
      "Epoch 4 Step 4680 - Score: 0.5256\n"
     ]
    },
    {
     "name": "stdout",
     "output_type": "stream",
     "text": [
      "EVAL: [997/998] Elapsed 5m 0s (remain 0m 0s) \n",
      "Epoch: [4][4700/5169] Loss: [0.05579492292594664]Elapsed 35m 21s (remain 3m 31s) \n",
      "Epoch: [4][4800/5169] Loss: [0.055792987932179815]Elapsed 35m 47s (remain 2m 44s) \n",
      "Epoch: [4][4900/5169] Loss: [0.05560164425704302]Elapsed 36m 13s (remain 1m 58s) \n",
      "Epoch: [4][5000/5169] Loss: [0.05558713682084257]Elapsed 36m 38s (remain 1m 13s) \n",
      "Epoch: [4][5100/5169] Loss: [0.055606355909948495]Elapsed 37m 4s (remain 0m 29s) \n"
     ]
    },
    {
     "name": "stderr",
     "output_type": "stream",
     "text": [
      "Epoch 4 - avg_train_loss: 0.0558  avg_val_loss: 0.2845  time: 2243s\n",
      "Epoch 4 - Score: 0.5256\n"
     ]
    },
    {
     "name": "stdout",
     "output_type": "stream",
     "text": [
      "Epoch: [4][5168/5169] Loss: [0.05578647106224073]Elapsed 37m 22s (remain 0m 0s) \n"
     ]
    },
    {
     "name": "stderr",
     "output_type": "stream",
     "text": [
      "========== fold: 2 result ==========\n",
      "Score: 0.4743\n",
      "-------------fold:3 training-------------\n",
      "Some weights of the model checkpoint at microsoft/deberta-v3-large were not used when initializing DebertaV2Model: ['lm_predictions.lm_head.LayerNorm.weight', 'mask_predictions.LayerNorm.bias', 'mask_predictions.dense.bias', 'lm_predictions.lm_head.dense.bias', 'lm_predictions.lm_head.bias', 'mask_predictions.classifier.bias', 'mask_predictions.classifier.weight', 'lm_predictions.lm_head.LayerNorm.bias', 'mask_predictions.dense.weight', 'mask_predictions.LayerNorm.weight', 'lm_predictions.lm_head.dense.weight']\n",
      "- This IS expected if you are initializing DebertaV2Model from the checkpoint of a model trained on another task or with another architecture (e.g. initializing a BertForSequenceClassification model from a BertForPreTraining model).\n",
      "- This IS NOT expected if you are initializing DebertaV2Model from the checkpoint of a model that you expect to be exactly identical (initializing a BertForSequenceClassification model from a BertForSequenceClassification model).\n"
     ]
    },
    {
     "name": "stdout",
     "output_type": "stream",
     "text": [
      "Epoch: [1][0/6062] Loss: [2.1273584365844727]Elapsed 0m 0s (remain 38m 23s) \n",
      "Epoch: [1][100/6062] Loss: [0.9938402575542136]Elapsed 0m 26s (remain 25m 40s) \n",
      "Epoch: [1][200/6062] Loss: [0.816778668639162]Elapsed 0m 52s (remain 25m 17s) \n",
      "Epoch: [1][300/6062] Loss: [0.7479652698079056]Elapsed 1m 17s (remain 24m 52s) \n",
      "Epoch: [1][400/6062] Loss: [0.6754884607201568]Elapsed 1m 43s (remain 24m 27s) \n",
      "Epoch: [1][500/6062] Loss: [0.6222115759863267]Elapsed 2m 9s (remain 24m 1s) \n",
      "Epoch: [1][600/6062] Loss: [0.589661993088275]Elapsed 2m 35s (remain 23m 35s) \n",
      "Epoch: [1][700/6062] Loss: [0.5731179834049216]Elapsed 3m 1s (remain 23m 9s) \n",
      "Epoch: [1][800/6062] Loss: [0.554378711536331]Elapsed 3m 27s (remain 22m 44s) \n",
      "Epoch: [1][900/6062] Loss: [0.5230180369729953]Elapsed 3m 53s (remain 22m 18s) \n",
      "Epoch: [1][1000/6062] Loss: [0.5036815480943242]Elapsed 4m 19s (remain 21m 52s) \n",
      "Epoch: [1][1100/6062] Loss: [0.48377001517134616]Elapsed 4m 45s (remain 21m 26s) \n",
      "Epoch: [1][1200/6062] Loss: [0.46986726324730343]Elapsed 5m 11s (remain 21m 0s) \n",
      "Epoch: [1][1300/6062] Loss: [0.45934444388139484]Elapsed 5m 37s (remain 20m 34s) \n",
      "Epoch: [1][1400/6062] Loss: [0.4557701965654597]Elapsed 6m 3s (remain 20m 8s) \n",
      "Epoch: [1][1500/6062] Loss: [0.44556504913150596]Elapsed 6m 29s (remain 19m 43s) \n",
      "EVAL: [0/552] Elapsed 0m 0s (remain 2m 53s) \n",
      "EVAL: [100/552] Elapsed 0m 30s (remain 2m 15s) \n",
      "EVAL: [200/552] Elapsed 0m 58s (remain 1m 41s) \n",
      "EVAL: [300/552] Elapsed 1m 28s (remain 1m 13s) \n",
      "EVAL: [400/552] Elapsed 1m 58s (remain 0m 44s) \n",
      "EVAL: [500/552] Elapsed 2m 28s (remain 0m 15s) \n"
     ]
    },
    {
     "name": "stderr",
     "output_type": "stream",
     "text": [
      "Epoch 1 Step 1560 - avg_train_loss: 0.4375  avg_val_loss: 0.6231\n",
      "Epoch 1 Step 1560 - Score: 0.7782\n",
      "Epoch 1 Step 1560 - Save Best Score: 0.7782 Model\n"
     ]
    },
    {
     "name": "stdout",
     "output_type": "stream",
     "text": [
      "EVAL: [551/552] Elapsed 2m 43s (remain 0m 0s) \n",
      "Epoch: [1][1600/6062] Loss: [0.4332263805403276]Elapsed 9m 46s (remain 27m 15s) \n",
      "Epoch: [1][1700/6062] Loss: [0.4229281494647222]Elapsed 10m 12s (remain 26m 11s) \n",
      "Epoch: [1][1800/6062] Loss: [0.41586976959029265]Elapsed 10m 38s (remain 25m 11s) \n",
      "Epoch: [1][1900/6062] Loss: [0.41405601874204995]Elapsed 11m 4s (remain 24m 15s) \n",
      "Epoch: [1][2000/6062] Loss: [0.4073834768806473]Elapsed 11m 30s (remain 23m 21s) \n",
      "Epoch: [1][2100/6062] Loss: [0.40014279406936887]Elapsed 11m 56s (remain 22m 31s) \n",
      "Epoch: [1][2200/6062] Loss: [0.3934104175821879]Elapsed 12m 22s (remain 21m 42s) \n",
      "Epoch: [1][2300/6062] Loss: [0.38684896769471006]Elapsed 12m 48s (remain 20m 56s) \n",
      "Epoch: [1][2400/6062] Loss: [0.380558982820181]Elapsed 13m 14s (remain 20m 11s) \n",
      "Epoch: [1][2500/6062] Loss: [0.3747036279090855]Elapsed 13m 40s (remain 19m 28s) \n",
      "Epoch: [1][2600/6062] Loss: [0.3711733144821842]Elapsed 14m 6s (remain 18m 46s) \n",
      "Epoch: [1][2700/6062] Loss: [0.3659785367158274]Elapsed 14m 32s (remain 18m 5s) \n",
      "Epoch: [1][2800/6062] Loss: [0.36539383799319197]Elapsed 14m 58s (remain 17m 25s) \n",
      "Epoch: [1][2900/6062] Loss: [0.36108955352598676]Elapsed 15m 24s (remain 16m 47s) \n",
      "Epoch: [1][3000/6062] Loss: [0.35922450121481364]Elapsed 15m 50s (remain 16m 9s) \n",
      "Epoch: [1][3100/6062] Loss: [0.3558229001979292]Elapsed 16m 16s (remain 15m 32s) \n",
      "EVAL: [0/552] Elapsed 0m 0s (remain 2m 45s) \n",
      "EVAL: [100/552] Elapsed 0m 30s (remain 2m 15s) \n",
      "EVAL: [200/552] Elapsed 1m 0s (remain 1m 45s) \n",
      "EVAL: [300/552] Elapsed 1m 30s (remain 1m 15s) \n",
      "EVAL: [400/552] Elapsed 2m 0s (remain 0m 45s) \n",
      "EVAL: [500/552] Elapsed 2m 30s (remain 0m 15s) \n"
     ]
    },
    {
     "name": "stderr",
     "output_type": "stream",
     "text": [
      "Epoch 1 Step 3120 - avg_train_loss: 0.3551  avg_val_loss: 0.3842\n",
      "Epoch 1 Step 3120 - Score: 0.6155\n",
      "Epoch 1 Step 3120 - Save Best Score: 0.6155 Model\n"
     ]
    },
    {
     "name": "stdout",
     "output_type": "stream",
     "text": [
      "EVAL: [551/552] Elapsed 2m 46s (remain 0m 0s) \n",
      "Epoch: [1][3200/6062] Loss: [0.35365853050432416]Elapsed 19m 35s (remain 17m 30s) \n",
      "Epoch: [1][3300/6062] Loss: [0.3528729831758629]Elapsed 20m 1s (remain 16m 45s) \n",
      "Epoch: [1][3400/6062] Loss: [0.3498240676277182]Elapsed 20m 27s (remain 16m 0s) \n",
      "Epoch: [1][3500/6062] Loss: [0.3455289944559538]Elapsed 20m 53s (remain 15m 17s) \n",
      "Epoch: [1][3600/6062] Loss: [0.3435724362424319]Elapsed 21m 19s (remain 14m 34s) \n",
      "Epoch: [1][3700/6062] Loss: [0.3428472382551036]Elapsed 21m 45s (remain 13m 52s) \n",
      "Epoch: [1][3800/6062] Loss: [0.34231641723372497]Elapsed 22m 11s (remain 13m 12s) \n",
      "Epoch: [1][3900/6062] Loss: [0.34039298687780256]Elapsed 22m 37s (remain 12m 32s) \n",
      "Epoch: [1][4000/6062] Loss: [0.3380133369308399]Elapsed 23m 3s (remain 11m 52s) \n",
      "Epoch: [1][4100/6062] Loss: [0.3356858765026848]Elapsed 23m 29s (remain 11m 13s) \n",
      "Epoch: [1][4200/6062] Loss: [0.3330876228979649]Elapsed 23m 55s (remain 10m 35s) \n",
      "Epoch: [1][4300/6062] Loss: [0.331350606151283]Elapsed 24m 21s (remain 9m 58s) \n",
      "Epoch: [1][4400/6062] Loss: [0.3300163213420765]Elapsed 24m 47s (remain 9m 21s) \n",
      "Epoch: [1][4500/6062] Loss: [0.32789862428360145]Elapsed 25m 13s (remain 8m 44s) \n",
      "Epoch: [1][4600/6062] Loss: [0.32604547260265515]Elapsed 25m 39s (remain 8m 8s) \n",
      "EVAL: [0/552] Elapsed 0m 0s (remain 2m 46s) \n",
      "EVAL: [100/552] Elapsed 0m 30s (remain 2m 15s) \n",
      "EVAL: [200/552] Elapsed 1m 0s (remain 1m 45s) \n",
      "EVAL: [300/552] Elapsed 1m 30s (remain 1m 15s) \n",
      "EVAL: [400/552] Elapsed 2m 0s (remain 0m 45s) \n",
      "EVAL: [500/552] Elapsed 2m 30s (remain 0m 15s) \n"
     ]
    },
    {
     "name": "stderr",
     "output_type": "stream",
     "text": [
      "Epoch 1 Step 4680 - avg_train_loss: 0.3254  avg_val_loss: 0.3776\n",
      "Epoch 1 Step 4680 - Score: 0.6076\n",
      "Epoch 1 Step 4680 - Save Best Score: 0.6076 Model\n"
     ]
    },
    {
     "name": "stdout",
     "output_type": "stream",
     "text": [
      "EVAL: [551/552] Elapsed 2m 46s (remain 0m 0s) \n",
      "Epoch: [1][4700/6062] Loss: [0.32515536224718716]Elapsed 28m 57s (remain 8m 22s) \n",
      "Epoch: [1][4800/6062] Loss: [0.3243861349021409]Elapsed 29m 22s (remain 7m 43s) \n",
      "Epoch: [1][4900/6062] Loss: [0.3232603181419274]Elapsed 29m 48s (remain 7m 3s) \n",
      "Epoch: [1][5000/6062] Loss: [0.3209335616002794]Elapsed 30m 14s (remain 6m 25s) \n",
      "Epoch: [1][5100/6062] Loss: [0.31952692490346657]Elapsed 30m 40s (remain 5m 46s) \n",
      "Epoch: [1][5200/6062] Loss: [0.31722949526306465]Elapsed 31m 6s (remain 5m 9s) \n",
      "Epoch: [1][5300/6062] Loss: [0.3157195755405038]Elapsed 31m 32s (remain 4m 31s) \n",
      "Epoch: [1][5400/6062] Loss: [0.31417894524626017]Elapsed 31m 58s (remain 3m 54s) \n",
      "Epoch: [1][5500/6062] Loss: [0.31272726176833254]Elapsed 32m 24s (remain 3m 18s) \n",
      "Epoch: [1][5600/6062] Loss: [0.3105740523034345]Elapsed 32m 50s (remain 2m 42s) \n",
      "Epoch: [1][5700/6062] Loss: [0.30945179188867755]Elapsed 33m 16s (remain 2m 6s) \n",
      "Epoch: [1][5800/6062] Loss: [0.30837704770529095]Elapsed 33m 42s (remain 1m 30s) \n",
      "Epoch: [1][5900/6062] Loss: [0.30775695162468836]Elapsed 34m 8s (remain 0m 55s) \n",
      "Epoch: [1][6000/6062] Loss: [0.3058803467984168]Elapsed 34m 34s (remain 0m 21s) \n"
     ]
    },
    {
     "name": "stderr",
     "output_type": "stream",
     "text": [
      "Epoch 1 - avg_train_loss: 0.3060  avg_val_loss: 0.3776  time: 2090s\n",
      "Epoch 1 - Score: 0.6076\n"
     ]
    },
    {
     "name": "stdout",
     "output_type": "stream",
     "text": [
      "Epoch: [1][6061/6062] Loss: [0.3060446509708732]Elapsed 34m 50s (remain 0m 0s) \n",
      "Epoch: [2][0/6062] Loss: [0.2594015598297119]Elapsed 0m 0s (remain 21m 21s) \n",
      "Epoch: [2][100/6062] Loss: [0.1788390015030342]Elapsed 0m 26s (remain 25m 35s) \n",
      "Epoch: [2][200/6062] Loss: [0.19890385625254947]Elapsed 0m 51s (remain 25m 13s) \n",
      "Epoch: [2][300/6062] Loss: [0.2057733724044212]Elapsed 1m 17s (remain 24m 50s) \n",
      "Epoch: [2][400/6062] Loss: [0.2013373371572791]Elapsed 1m 43s (remain 24m 25s) \n",
      "Epoch: [2][500/6062] Loss: [0.2204607273548198]Elapsed 2m 9s (remain 24m 0s) \n",
      "Epoch: [2][600/6062] Loss: [0.21809387162672728]Elapsed 2m 35s (remain 23m 34s) \n",
      "Epoch: [2][700/6062] Loss: [0.20802419006554276]Elapsed 3m 1s (remain 23m 9s) \n",
      "Epoch: [2][800/6062] Loss: [0.20344111411503357]Elapsed 3m 27s (remain 22m 43s) \n",
      "Epoch: [2][900/6062] Loss: [0.2019902693435094]Elapsed 3m 53s (remain 22m 17s) \n",
      "Epoch: [2][1000/6062] Loss: [0.20123435427272957]Elapsed 4m 19s (remain 21m 52s) \n",
      "Epoch: [2][1100/6062] Loss: [0.20180785467992288]Elapsed 4m 45s (remain 21m 26s) \n",
      "Epoch: [2][1200/6062] Loss: [0.1981766189511608]Elapsed 5m 11s (remain 21m 0s) \n",
      "Epoch: [2][1300/6062] Loss: [0.19330717628405542]Elapsed 5m 37s (remain 20m 34s) \n",
      "Epoch: [2][1400/6062] Loss: [0.19425015813613625]Elapsed 6m 3s (remain 20m 8s) \n",
      "Epoch: [2][1500/6062] Loss: [0.19252336184911376]Elapsed 6m 29s (remain 19m 42s) \n",
      "EVAL: [0/552] Elapsed 0m 0s (remain 2m 45s) \n",
      "EVAL: [100/552] Elapsed 0m 30s (remain 2m 15s) \n",
      "EVAL: [200/552] Elapsed 1m 0s (remain 1m 45s) \n",
      "EVAL: [300/552] Elapsed 1m 30s (remain 1m 15s) \n",
      "EVAL: [400/552] Elapsed 2m 0s (remain 0m 45s) \n",
      "EVAL: [500/552] Elapsed 2m 30s (remain 0m 15s) \n"
     ]
    },
    {
     "name": "stderr",
     "output_type": "stream",
     "text": [
      "Epoch 2 Step 1560 - avg_train_loss: 0.1922  avg_val_loss: 0.4231\n",
      "Epoch 2 Step 1560 - Score: 0.6492\n"
     ]
    },
    {
     "name": "stdout",
     "output_type": "stream",
     "text": [
      "EVAL: [551/552] Elapsed 2m 46s (remain 0m 0s) \n",
      "Epoch: [2][1600/6062] Loss: [0.19139896985328617]Elapsed 9m 41s (remain 26m 59s) \n",
      "Epoch: [2][1700/6062] Loss: [0.19079265156445094]Elapsed 10m 7s (remain 25m 56s) \n",
      "Epoch: [2][1800/6062] Loss: [0.1899742912923494]Elapsed 10m 33s (remain 24m 57s) \n",
      "Epoch: [2][1900/6062] Loss: [0.18961819835118576]Elapsed 10m 59s (remain 24m 2s) \n",
      "Epoch: [2][2000/6062] Loss: [0.18990358187294004]Elapsed 11m 25s (remain 23m 10s) \n",
      "Epoch: [2][2100/6062] Loss: [0.189332703831006]Elapsed 11m 50s (remain 22m 20s) \n",
      "Epoch: [2][2200/6062] Loss: [0.19034874308147803]Elapsed 12m 16s (remain 21m 32s) \n",
      "Epoch: [2][2300/6062] Loss: [0.19179847037082517]Elapsed 12m 42s (remain 20m 46s) \n",
      "Epoch: [2][2400/6062] Loss: [0.19145838921459293]Elapsed 13m 8s (remain 20m 2s) \n",
      "Epoch: [2][2500/6062] Loss: [0.1898633027750747]Elapsed 13m 34s (remain 19m 20s) \n",
      "Epoch: [2][2600/6062] Loss: [0.18822309456446432]Elapsed 14m 0s (remain 18m 38s) \n",
      "Epoch: [2][2700/6062] Loss: [0.18854255761401495]Elapsed 14m 26s (remain 17m 58s) \n",
      "Epoch: [2][2800/6062] Loss: [0.1898554804874737]Elapsed 14m 52s (remain 17m 19s) \n",
      "Epoch: [2][2900/6062] Loss: [0.19067158689929836]Elapsed 15m 18s (remain 16m 40s) \n",
      "Epoch: [2][3000/6062] Loss: [0.19058458871216744]Elapsed 15m 44s (remain 16m 3s) \n",
      "Epoch: [2][3100/6062] Loss: [0.18982917042754702]Elapsed 16m 10s (remain 15m 26s) \n",
      "EVAL: [0/552] Elapsed 0m 0s (remain 2m 45s) \n",
      "EVAL: [100/552] Elapsed 0m 30s (remain 2m 15s) \n",
      "EVAL: [200/552] Elapsed 1m 0s (remain 1m 45s) \n",
      "EVAL: [300/552] Elapsed 1m 30s (remain 1m 15s) \n",
      "EVAL: [400/552] Elapsed 2m 0s (remain 0m 45s) \n",
      "EVAL: [500/552] Elapsed 2m 30s (remain 0m 15s) \n"
     ]
    },
    {
     "name": "stderr",
     "output_type": "stream",
     "text": [
      "Epoch 2 Step 3120 - avg_train_loss: 0.1902  avg_val_loss: 0.3330\n",
      "Epoch 2 Step 3120 - Score: 0.5712\n",
      "Epoch 2 Step 3120 - Save Best Score: 0.5712 Model\n"
     ]
    },
    {
     "name": "stdout",
     "output_type": "stream",
     "text": [
      "EVAL: [551/552] Elapsed 2m 45s (remain 0m 0s) \n",
      "Epoch: [2][3200/6062] Loss: [0.1905617487787914]Elapsed 19m 30s (remain 17m 26s) \n",
      "Epoch: [2][3300/6062] Loss: [0.19086811111262222]Elapsed 19m 56s (remain 16m 40s) \n",
      "Epoch: [2][3400/6062] Loss: [0.19228801031530415]Elapsed 20m 22s (remain 15m 56s) \n",
      "Epoch: [2][3500/6062] Loss: [0.1933827611436321]Elapsed 20m 48s (remain 15m 13s) \n",
      "Epoch: [2][3600/6062] Loss: [0.19196347120296603]Elapsed 21m 14s (remain 14m 31s) \n",
      "Epoch: [2][3700/6062] Loss: [0.19222715333771234]Elapsed 21m 40s (remain 13m 49s) \n",
      "Epoch: [2][3800/6062] Loss: [0.19281100304252735]Elapsed 22m 6s (remain 13m 9s) \n",
      "Epoch: [2][3900/6062] Loss: [0.19233127274364842]Elapsed 22m 32s (remain 12m 29s) \n",
      "Epoch: [2][4000/6062] Loss: [0.1918052284576061]Elapsed 22m 58s (remain 11m 49s) \n",
      "Epoch: [2][4100/6062] Loss: [0.19147329854365994]Elapsed 23m 24s (remain 11m 11s) \n",
      "Epoch: [2][4200/6062] Loss: [0.19127750160232126]Elapsed 23m 50s (remain 10m 33s) \n",
      "Epoch: [2][4300/6062] Loss: [0.19159253973455723]Elapsed 24m 16s (remain 9m 56s) \n",
      "Epoch: [2][4400/6062] Loss: [0.19041805070897527]Elapsed 24m 42s (remain 9m 19s) \n",
      "Epoch: [2][4500/6062] Loss: [0.18917441939715365]Elapsed 25m 8s (remain 8m 43s) \n",
      "Epoch: [2][4600/6062] Loss: [0.1891187110250021]Elapsed 25m 33s (remain 8m 7s) \n",
      "EVAL: [0/552] Elapsed 0m 0s (remain 2m 45s) \n",
      "EVAL: [100/552] Elapsed 0m 30s (remain 2m 15s) \n",
      "EVAL: [200/552] Elapsed 1m 0s (remain 1m 45s) \n",
      "EVAL: [300/552] Elapsed 1m 30s (remain 1m 15s) \n",
      "EVAL: [400/552] Elapsed 2m 0s (remain 0m 45s) \n",
      "EVAL: [500/552] Elapsed 2m 30s (remain 0m 15s) \n"
     ]
    },
    {
     "name": "stderr",
     "output_type": "stream",
     "text": [
      "Epoch 2 Step 4680 - avg_train_loss: 0.1881  avg_val_loss: 0.3791\n",
      "Epoch 2 Step 4680 - Score: 0.6141\n"
     ]
    },
    {
     "name": "stdout",
     "output_type": "stream",
     "text": [
      "EVAL: [551/552] Elapsed 2m 46s (remain 0m 0s) \n",
      "Epoch: [2][4700/6062] Loss: [0.187901833209392]Elapsed 28m 45s (remain 8m 19s) \n",
      "Epoch: [2][4800/6062] Loss: [0.18725977289937265]Elapsed 29m 11s (remain 7m 40s) \n",
      "Epoch: [2][4900/6062] Loss: [0.18646972005275778]Elapsed 29m 37s (remain 7m 1s) \n",
      "Epoch: [2][5000/6062] Loss: [0.18609030698616877]Elapsed 30m 3s (remain 6m 22s) \n",
      "Epoch: [2][5100/6062] Loss: [0.18569578142972196]Elapsed 30m 29s (remain 5m 44s) \n",
      "Epoch: [2][5200/6062] Loss: [0.18568615839648925]Elapsed 30m 55s (remain 5m 7s) \n",
      "Epoch: [2][5300/6062] Loss: [0.1859719948462231]Elapsed 31m 21s (remain 4m 30s) \n",
      "Epoch: [2][5400/6062] Loss: [0.18508325036341144]Elapsed 31m 47s (remain 3m 53s) \n",
      "Epoch: [2][5500/6062] Loss: [0.18485991745417793]Elapsed 32m 13s (remain 3m 17s) \n",
      "Epoch: [2][5600/6062] Loss: [0.18409138698752278]Elapsed 32m 39s (remain 2m 41s) \n",
      "Epoch: [2][5700/6062] Loss: [0.18416749359488702]Elapsed 33m 5s (remain 2m 5s) \n",
      "Epoch: [2][5800/6062] Loss: [0.1841808582869712]Elapsed 33m 31s (remain 1m 30s) \n",
      "Epoch: [2][5900/6062] Loss: [0.18363490302129185]Elapsed 33m 57s (remain 0m 55s) \n",
      "Epoch: [2][6000/6062] Loss: [0.18345330463410184]Elapsed 34m 23s (remain 0m 20s) \n"
     ]
    },
    {
     "name": "stderr",
     "output_type": "stream",
     "text": [
      "Epoch 2 - avg_train_loss: 0.1832  avg_val_loss: 0.3791  time: 2079s\n",
      "Epoch 2 - Score: 0.6141\n"
     ]
    },
    {
     "name": "stdout",
     "output_type": "stream",
     "text": [
      "Epoch: [2][6061/6062] Loss: [0.18315672975476993]Elapsed 34m 39s (remain 0m 0s) \n",
      "Epoch: [3][0/6062] Loss: [0.002020721323788166]Elapsed 0m 0s (remain 26m 17s) \n",
      "Epoch: [3][100/6062] Loss: [0.1218265407876628]Elapsed 0m 26s (remain 25m 38s) \n",
      "Epoch: [3][200/6062] Loss: [0.12255387346808154]Elapsed 0m 51s (remain 25m 15s) \n",
      "Epoch: [3][300/6062] Loss: [0.12309863785029608]Elapsed 1m 17s (remain 24m 51s) \n",
      "Epoch: [3][400/6062] Loss: [0.12017015149953898]Elapsed 1m 43s (remain 24m 26s) \n",
      "Epoch: [3][500/6062] Loss: [0.1204887686011836]Elapsed 2m 9s (remain 24m 0s) \n",
      "Epoch: [3][600/6062] Loss: [0.11833965048612914]Elapsed 2m 35s (remain 23m 35s) \n",
      "Epoch: [3][700/6062] Loss: [0.11212556044132513]Elapsed 3m 1s (remain 23m 9s) \n",
      "Epoch: [3][800/6062] Loss: [0.1138076146851662]Elapsed 3m 27s (remain 22m 43s) \n",
      "Epoch: [3][900/6062] Loss: [0.1122610263346274]Elapsed 3m 53s (remain 22m 18s) \n",
      "Epoch: [3][1000/6062] Loss: [0.11029354445611386]Elapsed 4m 19s (remain 21m 52s) \n",
      "Epoch: [3][1100/6062] Loss: [0.10904024999708212]Elapsed 4m 45s (remain 21m 26s) \n",
      "Epoch: [3][1200/6062] Loss: [0.10970861841825232]Elapsed 5m 11s (remain 21m 0s) \n",
      "Epoch: [3][1300/6062] Loss: [0.11066197790748274]Elapsed 5m 37s (remain 20m 34s) \n",
      "Epoch: [3][1400/6062] Loss: [0.10950422165782919]Elapsed 6m 3s (remain 20m 8s) \n",
      "Epoch: [3][1500/6062] Loss: [0.10816329617311056]Elapsed 6m 29s (remain 19m 42s) \n",
      "EVAL: [0/552] Elapsed 0m 0s (remain 2m 45s) \n",
      "EVAL: [100/552] Elapsed 0m 30s (remain 2m 15s) \n",
      "EVAL: [200/552] Elapsed 1m 0s (remain 1m 45s) \n",
      "EVAL: [300/552] Elapsed 1m 30s (remain 1m 15s) \n",
      "EVAL: [400/552] Elapsed 2m 0s (remain 0m 45s) \n",
      "EVAL: [500/552] Elapsed 2m 30s (remain 0m 15s) \n"
     ]
    },
    {
     "name": "stderr",
     "output_type": "stream",
     "text": [
      "Epoch 3 Step 1560 - avg_train_loss: 0.1077  avg_val_loss: 0.3776\n",
      "Epoch 3 Step 1560 - Score: 0.6130\n"
     ]
    },
    {
     "name": "stdout",
     "output_type": "stream",
     "text": [
      "EVAL: [551/552] Elapsed 2m 46s (remain 0m 0s) \n",
      "Epoch: [3][1600/6062] Loss: [0.10736761742407006]Elapsed 9m 41s (remain 26m 59s) \n",
      "Epoch: [3][1700/6062] Loss: [0.10681144122149547]Elapsed 10m 7s (remain 25m 56s) \n",
      "Epoch: [3][1800/6062] Loss: [0.1068130845997118]Elapsed 10m 33s (remain 24m 58s) \n",
      "Epoch: [3][1900/6062] Loss: [0.10642144655958705]Elapsed 10m 59s (remain 24m 2s) \n",
      "Epoch: [3][2000/6062] Loss: [0.10579848781470133]Elapsed 11m 25s (remain 23m 10s) \n",
      "Epoch: [3][2100/6062] Loss: [0.10613411498193236]Elapsed 11m 51s (remain 22m 20s) \n",
      "Epoch: [3][2200/6062] Loss: [0.10579754719874031]Elapsed 12m 17s (remain 21m 32s) \n",
      "Epoch: [3][2300/6062] Loss: [0.1057748445061208]Elapsed 12m 42s (remain 20m 47s) \n",
      "Epoch: [3][2400/6062] Loss: [0.10548268965775784]Elapsed 13m 8s (remain 20m 2s) \n",
      "Epoch: [3][2500/6062] Loss: [0.10460666359628869]Elapsed 13m 34s (remain 19m 20s) \n",
      "Epoch: [3][2600/6062] Loss: [0.10409464978853791]Elapsed 14m 0s (remain 18m 38s) \n",
      "Epoch: [3][2700/6062] Loss: [0.10312552464517453]Elapsed 14m 26s (remain 17m 58s) \n",
      "Epoch: [3][2800/6062] Loss: [0.10278883888816555]Elapsed 14m 52s (remain 17m 19s) \n",
      "Epoch: [3][2900/6062] Loss: [0.10333266276823852]Elapsed 15m 18s (remain 16m 40s) \n",
      "Epoch: [3][3000/6062] Loss: [0.10211016880779127]Elapsed 15m 44s (remain 16m 3s) \n",
      "Epoch: [3][3100/6062] Loss: [0.10167293904006058]Elapsed 16m 10s (remain 15m 26s) \n",
      "EVAL: [0/552] Elapsed 0m 0s (remain 2m 45s) \n",
      "EVAL: [100/552] Elapsed 0m 30s (remain 2m 15s) \n",
      "EVAL: [200/552] Elapsed 1m 0s (remain 1m 45s) \n",
      "EVAL: [300/552] Elapsed 1m 30s (remain 1m 15s) \n",
      "EVAL: [400/552] Elapsed 2m 0s (remain 0m 45s) \n",
      "EVAL: [500/552] Elapsed 2m 30s (remain 0m 15s) \n"
     ]
    },
    {
     "name": "stderr",
     "output_type": "stream",
     "text": [
      "Epoch 3 Step 3120 - avg_train_loss: 0.1021  avg_val_loss: 0.3932\n",
      "Epoch 3 Step 3120 - Score: 0.6262\n"
     ]
    },
    {
     "name": "stdout",
     "output_type": "stream",
     "text": [
      "EVAL: [551/552] Elapsed 2m 46s (remain 0m 0s) \n",
      "Epoch: [3][3200/6062] Loss: [0.10115021121757047]Elapsed 19m 22s (remain 17m 19s) \n",
      "Epoch: [3][3300/6062] Loss: [0.10135214266263269]Elapsed 19m 48s (remain 16m 34s) \n",
      "Epoch: [3][3400/6062] Loss: [0.10069405702641555]Elapsed 20m 14s (remain 15m 50s) \n",
      "Epoch: [3][3500/6062] Loss: [0.10058416304192615]Elapsed 20m 40s (remain 15m 7s) \n",
      "Epoch: [3][3600/6062] Loss: [0.10039032765613287]Elapsed 21m 6s (remain 14m 25s) \n",
      "Epoch: [3][3700/6062] Loss: [0.09987203304538095]Elapsed 21m 32s (remain 13m 44s) \n",
      "Epoch: [3][3800/6062] Loss: [0.09936405725419921]Elapsed 21m 58s (remain 13m 4s) \n",
      "Epoch: [3][3900/6062] Loss: [0.09929849212418546]Elapsed 22m 24s (remain 12m 24s) \n",
      "Epoch: [3][4000/6062] Loss: [0.09920013535773653]Elapsed 22m 50s (remain 11m 45s) \n",
      "Epoch: [3][4100/6062] Loss: [0.09861073962747924]Elapsed 23m 16s (remain 11m 7s) \n",
      "Epoch: [3][4200/6062] Loss: [0.09854602760000904]Elapsed 23m 42s (remain 10m 29s) \n",
      "Epoch: [3][4300/6062] Loss: [0.09832100180705883]Elapsed 24m 8s (remain 9m 52s) \n",
      "Epoch: [3][4400/6062] Loss: [0.09808025709407095]Elapsed 24m 33s (remain 9m 16s) \n",
      "Epoch: [3][4500/6062] Loss: [0.09847992932056635]Elapsed 24m 59s (remain 8m 40s) \n",
      "Epoch: [3][4600/6062] Loss: [0.09856542548516638]Elapsed 25m 25s (remain 8m 4s) \n",
      "EVAL: [0/552] Elapsed 0m 0s (remain 2m 45s) \n",
      "EVAL: [100/552] Elapsed 0m 30s (remain 2m 15s) \n",
      "EVAL: [200/552] Elapsed 1m 0s (remain 1m 45s) \n",
      "EVAL: [300/552] Elapsed 1m 30s (remain 1m 15s) \n",
      "EVAL: [400/552] Elapsed 2m 0s (remain 0m 45s) \n",
      "EVAL: [500/552] Elapsed 2m 30s (remain 0m 15s) \n"
     ]
    },
    {
     "name": "stderr",
     "output_type": "stream",
     "text": [
      "Epoch 3 Step 4680 - avg_train_loss: 0.0984  avg_val_loss: 0.4520\n",
      "Epoch 3 Step 4680 - Score: 0.6722\n"
     ]
    },
    {
     "name": "stdout",
     "output_type": "stream",
     "text": [
      "EVAL: [551/552] Elapsed 2m 46s (remain 0m 0s) \n",
      "Epoch: [3][4700/6062] Loss: [0.09816531652923552]Elapsed 28m 37s (remain 8m 17s) \n",
      "Epoch: [3][4800/6062] Loss: [0.09837353425983572]Elapsed 29m 3s (remain 7m 38s) \n",
      "Epoch: [3][4900/6062] Loss: [0.09812690165920306]Elapsed 29m 29s (remain 6m 59s) \n",
      "Epoch: [3][5000/6062] Loss: [0.09785630532302578]Elapsed 29m 55s (remain 6m 20s) \n",
      "Epoch: [3][5100/6062] Loss: [0.09766908173572278]Elapsed 30m 21s (remain 5m 43s) \n",
      "Epoch: [3][5200/6062] Loss: [0.09726311478866533]Elapsed 30m 47s (remain 5m 5s) \n",
      "Epoch: [3][5300/6062] Loss: [0.0972729677656207]Elapsed 31m 13s (remain 4m 28s) \n",
      "Epoch: [3][5400/6062] Loss: [0.09669604246872213]Elapsed 31m 39s (remain 3m 52s) \n",
      "Epoch: [3][5500/6062] Loss: [0.09649925238108895]Elapsed 32m 5s (remain 3m 16s) \n",
      "Epoch: [3][5600/6062] Loss: [0.09676978367601924]Elapsed 32m 31s (remain 2m 40s) \n",
      "Epoch: [3][5700/6062] Loss: [0.09689949025505859]Elapsed 32m 57s (remain 2m 5s) \n",
      "Epoch: [3][5800/6062] Loss: [0.09684744050285335]Elapsed 33m 23s (remain 1m 30s) \n",
      "Epoch: [3][5900/6062] Loss: [0.09658308788910998]Elapsed 33m 49s (remain 0m 55s) \n",
      "Epoch: [3][6000/6062] Loss: [0.09626405111735163]Elapsed 34m 15s (remain 0m 20s) \n"
     ]
    },
    {
     "name": "stderr",
     "output_type": "stream",
     "text": [
      "Epoch 3 - avg_train_loss: 0.0961  avg_val_loss: 0.4520  time: 2071s\n",
      "Epoch 3 - Score: 0.6722\n"
     ]
    },
    {
     "name": "stdout",
     "output_type": "stream",
     "text": [
      "Epoch: [3][6061/6062] Loss: [0.09614959899209025]Elapsed 34m 31s (remain 0m 0s) \n",
      "Epoch: [4][0/6062] Loss: [0.04322555288672447]Elapsed 0m 0s (remain 21m 15s) \n",
      "Epoch: [4][100/6062] Loss: [0.055048969589256785]Elapsed 0m 26s (remain 25m 38s) \n",
      "Epoch: [4][200/6062] Loss: [0.049606657089475564]Elapsed 0m 51s (remain 25m 14s) \n",
      "Epoch: [4][300/6062] Loss: [0.046468168245678274]Elapsed 1m 17s (remain 24m 51s) \n",
      "Epoch: [4][400/6062] Loss: [0.04709970228834023]Elapsed 1m 43s (remain 24m 26s) \n",
      "Epoch: [4][500/6062] Loss: [0.04689780043341369]Elapsed 2m 9s (remain 24m 0s) \n",
      "Epoch: [4][600/6062] Loss: [0.0466558218683263]Elapsed 2m 35s (remain 23m 35s) \n",
      "Epoch: [4][700/6062] Loss: [0.047893052473827136]Elapsed 3m 1s (remain 23m 9s) \n",
      "Epoch: [4][800/6062] Loss: [0.04738546315144894]Elapsed 3m 27s (remain 22m 43s) \n",
      "Epoch: [4][900/6062] Loss: [0.04688242701008176]Elapsed 3m 53s (remain 22m 17s) \n",
      "Epoch: [4][1000/6062] Loss: [0.0464147796844684]Elapsed 4m 19s (remain 21m 52s) \n",
      "Epoch: [4][1100/6062] Loss: [0.046748115857719]Elapsed 4m 45s (remain 21m 26s) \n",
      "Epoch: [4][1200/6062] Loss: [0.046767866367218455]Elapsed 5m 11s (remain 21m 0s) \n",
      "Epoch: [4][1300/6062] Loss: [0.04641449205092871]Elapsed 5m 37s (remain 20m 34s) \n",
      "Epoch: [4][1400/6062] Loss: [0.046290602579525934]Elapsed 6m 3s (remain 20m 8s) \n",
      "Epoch: [4][1500/6062] Loss: [0.046161471127383384]Elapsed 6m 29s (remain 19m 42s) \n",
      "EVAL: [0/552] Elapsed 0m 0s (remain 2m 45s) \n",
      "EVAL: [100/552] Elapsed 0m 30s (remain 2m 15s) \n",
      "EVAL: [200/552] Elapsed 1m 0s (remain 1m 45s) \n",
      "EVAL: [300/552] Elapsed 1m 30s (remain 1m 15s) \n",
      "EVAL: [400/552] Elapsed 2m 0s (remain 0m 45s) \n",
      "EVAL: [500/552] Elapsed 2m 30s (remain 0m 15s) \n"
     ]
    },
    {
     "name": "stderr",
     "output_type": "stream",
     "text": [
      "Epoch 4 Step 1560 - avg_train_loss: 0.0461  avg_val_loss: 0.4502\n",
      "Epoch 4 Step 1560 - Score: 0.6710\n"
     ]
    },
    {
     "name": "stdout",
     "output_type": "stream",
     "text": [
      "EVAL: [551/552] Elapsed 2m 46s (remain 0m 0s) \n",
      "Epoch: [4][1600/6062] Loss: [0.045887248977908336]Elapsed 9m 41s (remain 26m 59s) \n",
      "Epoch: [4][1700/6062] Loss: [0.045466271006941686]Elapsed 10m 7s (remain 25m 56s) \n",
      "Epoch: [4][1800/6062] Loss: [0.04604745182422539]Elapsed 10m 33s (remain 24m 58s) \n",
      "Epoch: [4][1900/6062] Loss: [0.04619999592612371]Elapsed 10m 59s (remain 24m 2s) \n",
      "Epoch: [4][2000/6062] Loss: [0.04649295599733489]Elapsed 11m 25s (remain 23m 10s) \n",
      "Epoch: [4][2100/6062] Loss: [0.04633061438440059]Elapsed 11m 51s (remain 22m 20s) \n",
      "Epoch: [4][2200/6062] Loss: [0.045982455199851294]Elapsed 12m 16s (remain 21m 32s) \n",
      "Epoch: [4][2300/6062] Loss: [0.04599805431256923]Elapsed 12m 42s (remain 20m 47s) \n",
      "Epoch: [4][2400/6062] Loss: [0.045721670263747634]Elapsed 13m 8s (remain 20m 2s) \n",
      "Epoch: [4][2500/6062] Loss: [0.04560167777118567]Elapsed 13m 34s (remain 19m 20s) \n",
      "Epoch: [4][2600/6062] Loss: [0.04537449248209581]Elapsed 14m 0s (remain 18m 38s) \n",
      "Epoch: [4][2700/6062] Loss: [0.04510795624754038]Elapsed 14m 26s (remain 17m 58s) \n",
      "Epoch: [4][2800/6062] Loss: [0.04501115274593571]Elapsed 14m 52s (remain 17m 19s) \n",
      "Epoch: [4][2900/6062] Loss: [0.04484204500531331]Elapsed 15m 18s (remain 16m 40s) \n",
      "Epoch: [4][3000/6062] Loss: [0.045041145057954486]Elapsed 15m 44s (remain 16m 3s) \n",
      "Epoch: [4][3100/6062] Loss: [0.044792772280268386]Elapsed 16m 10s (remain 15m 26s) \n",
      "EVAL: [0/552] Elapsed 0m 0s (remain 2m 45s) \n",
      "EVAL: [100/552] Elapsed 0m 30s (remain 2m 15s) \n",
      "EVAL: [200/552] Elapsed 1m 0s (remain 1m 45s) \n",
      "EVAL: [300/552] Elapsed 1m 30s (remain 1m 15s) \n",
      "EVAL: [400/552] Elapsed 2m 0s (remain 0m 45s) \n",
      "EVAL: [500/552] Elapsed 2m 30s (remain 0m 15s) \n"
     ]
    },
    {
     "name": "stderr",
     "output_type": "stream",
     "text": [
      "Epoch 4 Step 3120 - avg_train_loss: 0.0449  avg_val_loss: 0.4693\n",
      "Epoch 4 Step 3120 - Score: 0.6849\n"
     ]
    },
    {
     "name": "stdout",
     "output_type": "stream",
     "text": [
      "EVAL: [551/552] Elapsed 2m 46s (remain 0m 0s) \n",
      "Epoch: [4][3200/6062] Loss: [0.04490790905336431]Elapsed 19m 22s (remain 17m 19s) \n",
      "Epoch: [4][3300/6062] Loss: [0.04530999001085455]Elapsed 19m 48s (remain 16m 33s) \n",
      "Epoch: [4][3400/6062] Loss: [0.04520787373657844]Elapsed 20m 14s (remain 15m 50s) \n",
      "Epoch: [4][3500/6062] Loss: [0.0453015246602754]Elapsed 20m 40s (remain 15m 7s) \n",
      "Epoch: [4][3600/6062] Loss: [0.04593195899284381]Elapsed 21m 6s (remain 14m 25s) \n",
      "Epoch: [4][3700/6062] Loss: [0.04619589954169069]Elapsed 21m 32s (remain 13m 44s) \n",
      "Epoch: [4][3800/6062] Loss: [0.04627667113007305]Elapsed 21m 58s (remain 13m 4s) \n",
      "Epoch: [4][3900/6062] Loss: [0.04617178208267152]Elapsed 22m 24s (remain 12m 24s) \n",
      "Epoch: [4][4000/6062] Loss: [0.046190351094492044]Elapsed 22m 50s (remain 11m 45s) \n",
      "Epoch: [4][4100/6062] Loss: [0.04597646145189654]Elapsed 23m 15s (remain 11m 7s) \n",
      "Epoch: [4][4200/6062] Loss: [0.04588587447915296]Elapsed 23m 41s (remain 10m 29s) \n",
      "Epoch: [4][4300/6062] Loss: [0.04586801918457145]Elapsed 24m 7s (remain 9m 52s) \n",
      "Epoch: [4][4400/6062] Loss: [0.0456784795563742]Elapsed 24m 33s (remain 9m 16s) \n",
      "Epoch: [4][4500/6062] Loss: [0.04558209502840183]Elapsed 24m 59s (remain 8m 40s) \n",
      "Epoch: [4][4600/6062] Loss: [0.04558066736819888]Elapsed 25m 25s (remain 8m 4s) \n",
      "EVAL: [0/552] Elapsed 0m 0s (remain 2m 45s) \n",
      "EVAL: [100/552] Elapsed 0m 30s (remain 2m 15s) \n",
      "EVAL: [200/552] Elapsed 1m 0s (remain 1m 45s) \n",
      "EVAL: [300/552] Elapsed 1m 30s (remain 1m 15s) \n",
      "EVAL: [400/552] Elapsed 2m 0s (remain 0m 45s) \n",
      "EVAL: [500/552] Elapsed 2m 30s (remain 0m 15s) \n"
     ]
    },
    {
     "name": "stderr",
     "output_type": "stream",
     "text": [
      "Epoch 4 Step 4680 - avg_train_loss: 0.0453  avg_val_loss: 0.4566\n",
      "Epoch 4 Step 4680 - Score: 0.6757\n"
     ]
    },
    {
     "name": "stdout",
     "output_type": "stream",
     "text": [
      "EVAL: [551/552] Elapsed 2m 46s (remain 0m 0s) \n",
      "Epoch: [4][4700/6062] Loss: [0.045381755270815054]Elapsed 28m 37s (remain 8m 17s) \n",
      "Epoch: [4][4800/6062] Loss: [0.04523967650433892]Elapsed 29m 3s (remain 7m 37s) \n",
      "Epoch: [4][4900/6062] Loss: [0.04509409490608917]Elapsed 29m 29s (remain 6m 59s) \n",
      "Epoch: [4][5000/6062] Loss: [0.04511948565468163]Elapsed 29m 55s (remain 6m 20s) \n",
      "Epoch: [4][5100/6062] Loss: [0.04504750803468303]Elapsed 30m 21s (remain 5m 43s) \n",
      "Epoch: [4][5200/6062] Loss: [0.04511755036619129]Elapsed 30m 47s (remain 5m 5s) \n",
      "Epoch: [4][5300/6062] Loss: [0.04497595442133121]Elapsed 31m 13s (remain 4m 28s) \n",
      "Epoch: [4][5400/6062] Loss: [0.04494732555311875]Elapsed 31m 39s (remain 3m 52s) \n",
      "Epoch: [4][5500/6062] Loss: [0.04481917285284858]Elapsed 32m 5s (remain 3m 16s) \n",
      "Epoch: [4][5600/6062] Loss: [0.044694082448863436]Elapsed 32m 31s (remain 2m 40s) \n",
      "Epoch: [4][5700/6062] Loss: [0.04490398363215654]Elapsed 32m 57s (remain 2m 5s) \n",
      "Epoch: [4][5800/6062] Loss: [0.045025723856305336]Elapsed 33m 23s (remain 1m 30s) \n",
      "Epoch: [4][5900/6062] Loss: [0.0449271956146878]Elapsed 33m 49s (remain 0m 55s) \n",
      "Epoch: [4][6000/6062] Loss: [0.04493438993044605]Elapsed 34m 15s (remain 0m 20s) \n"
     ]
    },
    {
     "name": "stderr",
     "output_type": "stream",
     "text": [
      "Epoch 4 - avg_train_loss: 0.0449  avg_val_loss: 0.4566  time: 2071s\n",
      "Epoch 4 - Score: 0.6757\n"
     ]
    },
    {
     "name": "stdout",
     "output_type": "stream",
     "text": [
      "Epoch: [4][6061/6062] Loss: [0.04492947932337044]Elapsed 34m 30s (remain 0m 0s) \n"
     ]
    },
    {
     "name": "stderr",
     "output_type": "stream",
     "text": [
      "========== fold: 3 result ==========\n",
      "Score: 0.5712\n",
      "========== CV ==========\n",
      "Score: 0.5439\n"
     ]
    }
   ],
   "source": [
    "if CFG.train:\n",
    "    oof_df = pd.DataFrame()\n",
    "    for fold in range(CFG.n_fold):\n",
    "        if fold in CFG.trn_fold:\n",
    "            _oof_df = train_loop(fold)\n",
    "            oof_df = pd.concat([oof_df, _oof_df])\n",
    "            LOGGER.info(f\"========== fold: {fold} result ==========\")\n",
    "            get_result(_oof_df)\n",
    "    oof_df = oof_df.reset_index(drop=True)\n",
    "    LOGGER.info(f\"========== CV ==========\")\n",
    "    get_result(oof_df)\n",
    "    oof_df.to_csv(OUTPUT_DIR+f'_oof_df.csv', index=False)"
   ]
  }
 ],
 "metadata": {
  "kernelspec": {
   "display_name": "AI_CUP_Github",
   "language": "python",
   "name": "python3"
  },
  "language_info": {
   "codemirror_mode": {
    "name": "ipython",
    "version": 3
   },
   "file_extension": ".py",
   "mimetype": "text/x-python",
   "name": "python",
   "nbconvert_exporter": "python",
   "pygments_lexer": "ipython3",
   "version": "3.8.16"
  },
  "orig_nbformat": 4
 },
 "nbformat": 4,
 "nbformat_minor": 2
}
